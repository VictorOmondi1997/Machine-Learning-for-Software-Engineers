{
 "cells": [
  {
   "cell_type": "markdown",
   "metadata": {},
   "source": [
    "# Machine Learning for Software Engineers\n",
    "\n",
    "> Topics covered include data analysis/visualization, feature engineering, supervised learning, unsupervised learning, and deep learning. All topics are are ofindustry standard frameworks: NumPy, pandas, scikit-learn, XGBoost, TensorFlow, and Keras.\n",
    "\n",
    "- author: Victor Omondi\n",
    "- toc: true\n",
    "- comments: true\n",
    "- categories: [software-engineer, machine-learning]\n",
    "- image: images/mlse-shield.png"
   ]
  },
  {
   "cell_type": "markdown",
   "metadata": {},
   "source": [
    "# Libraries"
   ]
  },
  {
   "cell_type": "code",
   "execution_count": 14,
   "metadata": {},
   "outputs": [],
   "source": [
    "# WARNINGS\n",
    "import warnings\n",
    "\n",
    "# EXPLORATION AND MANIPULATION\n",
    "import pandas as pd\n",
    "import numpy as np\n",
    "from numpy import nan\n",
    "\n",
    "# VISUALIZATION\n",
    "import matplotlib.pyplot as plt\n",
    "import seaborn as sns\n",
    "%matplotlib inline\n",
    "plt.style.use(\"ggplot\")\n",
    "\n",
    "# DATASETS\n",
    "from sklearn.datasets import load_breast_cancer\n",
    "# PREPROCESSING\n",
    "from sklearn.preprocessing import (scale, \n",
    "                                   MinMaxScaler, \n",
    "                                   RobustScaler, \n",
    "                                   Normalizer\n",
    ")\n",
    "# IMPUTATION\n",
    "from sklearn.impute import SimpleImputer\n",
    "# DECOMPOSITION\n",
    "from sklearn.decomposition import PCA\n",
    "# MODELLING\n",
    "## 1. Regression\n",
    "from sklearn.linear_model import (LinearRegression,\n",
    "                                  Ridge, \n",
    "                                  RidgeCV, \n",
    "                                  Lasso, \n",
    "                                  BayesianRidge,\n",
    "                                  LogisticRegression\n",
    ")"
   ]
  },
  {
   "cell_type": "markdown",
   "metadata": {},
   "source": [
    "## Libraries setup"
   ]
  },
  {
   "cell_type": "code",
   "execution_count": 2,
   "metadata": {},
   "outputs": [],
   "source": [
    "pd.set_option(\"display.max_columns\", None)\n",
    "pd.set_option(\"display.max_colwidth\", None)\n",
    "warnings.filterwarnings(\"ignore\", message=\"The default dtype for empty Series will be 'object' instead of 'float64' in a future version\")"
   ]
  },
  {
   "cell_type": "markdown",
   "metadata": {},
   "source": [
    "# 1. Overview"
   ]
  },
  {
   "cell_type": "markdown",
   "metadata": {},
   "source": [
    "## A. What is Machine Learning?"
   ]
  },
  {
   "cell_type": "markdown",
   "metadata": {},
   "source": [
    "Machine learning is the branch of science that deals with algorithms and systems performing specific tasks using patterns and inference, rather than explicitly programmed instructions. There are a variety of different use cases for machine learning, from image recognition to text generation. Most machine learning tasks generalize to one of the following two learning types:\n",
    "\n",
    "- **Supervised learning**: Using labeled data to train a model. The labels for the training dataset represent the class/category that each data observation belongs to. After training, the model should be able to predict labels for new data observations (from the same population distribution as the training data).\n",
    "  - ***Example***: Let’s say you’re training a machine learning model to predict whether a picture contains a lake or not. With supervised learning, you would train a model on a dataset of pictures where the label for each picture is “Yes” if it contains a lake or “No” if it doesn’t. After training, the model will be able to take in a picture and determine whether or not it contains a lake.\n",
    "\n",
    "- **Unsupervised Learning**: Using unlabeled data to allow a model to learn relationships between data observations and pick up on underlying patterns. Most data in the world is unlabeled, which makes unsupervised learning a very useful method of machine learning.\n",
    "  - ***Example***: Going back to the same picture dataset from above, but now assume the training dataset is unlabeled. Using unsupervised learning, a model will be able to pick up on the inherent differences between pictures with a lake and pictures without a lake, e.g. differences in pixel color or orientation. This allows the model to cluster the pictures into two separate groups.\n",
    "\n",
    "If it is possible to get large enough labeled training datasets, supervised learning is the way to go. However, it is often difficult to get fully labeled datasets, which is why many tasks require unsupervised learning or semi-supervised learning (a mix of supervised and unsupervised learning). Deciding which type of learning method to use is only the first step towards creating a machine learning model. You also need to choose the proper model architecture for your task and, most importantly, be able to process data into a training pipeline and interpret/analyze model results."
   ]
  },
  {
   "cell_type": "markdown",
   "metadata": {},
   "source": [
    "## B. ML vs. AI vs. Data Science"
   ]
  },
  {
   "cell_type": "markdown",
   "metadata": {},
   "source": [
    "People often throw around the terms “machine learning”, “artificial intelligence”, and “data science” interchangeably. In reality, machine learning is a subset of artificial intelligence and overlaps heavily with data science. Artificial intelligence deals with any technique that allows machines to display “intelligence”, similar to humans. Machine learning is one of the main techniques used to create artificial intelligence, but other non-ML techniques (e.g. alpha-beta pruning, rule-based systems) are also widely used in AI.\n",
    "\n",
    "On the other hand, data science deals with gathering insights from datasets. Traditionally, data scientists have used statistical methods for gathering these insights. However, as machine learning continues to grow, it has also penetrated into the field of data science.\n",
    "\n",
    "In industry, any data scientist or AI researcher needs to have a good understanding of machine learning. Machine learning in industry has allowed us to create wonderful autonomous systems. These systems have matched, or sometimes even exceeded, the best human performance in their respective fields. A good example is AlphaGo, a machine-learning based system that has beaten the best human Go players in the world."
   ]
  },
  {
   "cell_type": "markdown",
   "metadata": {},
   "source": [
    "## C. 7 Steps of the Machine Learning Process"
   ]
  },
  {
   "cell_type": "markdown",
   "metadata": {},
   "source": [
    "1. **Data Collection**: The process of extracting raw datasets for the machine learning task. This data can come from a variety of places, ranging from open-source online resources to paid crowdsourcing. The first step of the machine learning process is arguably the most important. If the data you collect is poor quality or irrelevant, then the model you train will be poor quality as well.\n",
    "2. **Data Processing and Preparation**: Once you’ve gathered the relevant data, you need to process it and make sure that it is in a usable format for training a machine learning model. This includes handling missing data, dealing with outliers, etc.\n",
    "3. **Feature Engineering**: Once you’ve collected and processed your dataset, you will likely need to transform some of the features (and sometimes even drop some features) in order to optimize how well a model can be trained on the data.\n",
    "4. **Model Selection**: Based on the dataset, you will choose which model architecture to use. This is one of the main tasks of industry engineers. Rather than attempting to come up with a completely novel model architecture, most tasks can be thoroughly performed with an existing architecture (or combination of model architectures).\n",
    "5. **Model Training and Data Pipeline**: After selecting the model architecture, you will create a data pipeline for training the model. This means creating a continuous stream of batched data observations to efficiently train the model. Since training can take a long time, you want your data pipeline to be as efficient as possible.\n",
    "6. **Model Validation**: After training the model for a sufficient amount of time, you will need to validate the model’s performance on a held-out portion of the overall dataset. This data needs to come from the same underlying distribution as the training dataset, but needs to be different data that the model has not seen before.\n",
    "7. **Model Persistence**: Finally, after training and validating the model’s performance, you need to be able to properly save the model weights and possibly push the model to production. This means setting up a process with which new users can easily use your pre-trained model to make predictions."
   ]
  },
  {
   "cell_type": "markdown",
   "metadata": {},
   "source": [
    "## D. What this course will provide"
   ]
  },
  {
   "cell_type": "markdown",
   "metadata": {},
   "source": [
    "We’ll be able to take process and clean a raw dataset, train a machine learning model on the data, and validate the model’s performance. Specifically, we will be able to:\n",
    "- Take a raw dataset and process it for a given task. This means dealing with missing data and outliers, normalizing and transforming features, figuring out which features are the most relevant to the task, and picking out the best combination of features to use.\n",
    "- Picking the correct model architecture to use based on the data. Many people will always default to using a large neural network for any machine learning task, but many times this is unnecessary and can even hurt the model’s final performance if the dataset is not large enough.\n",
    "- Code a machine learning model and train it on processed data. Validate the model’s performance on held-out data and understand techniques to improve a model’s performance."
   ]
  },
  {
   "cell_type": "markdown",
   "metadata": {},
   "source": [
    "# 2. Data Manipulation with NumPy"
   ]
  },
  {
   "cell_type": "markdown",
   "metadata": {},
   "source": [
    "## Introduction"
   ]
  },
  {
   "cell_type": "markdown",
   "metadata": {},
   "source": [
    "An overview of data processing and the NumPy library.\n",
    "\n",
    "In the **Data Manipulation** section, we will explore how to perform data manipulation using NumPy."
   ]
  },
  {
   "cell_type": "markdown",
   "metadata": {},
   "source": [
    "### A. Data Processing"
   ]
  },
  {
   "cell_type": "markdown",
   "metadata": {},
   "source": [
    "When asked about Google's model for success, Peter Norvig, the director of research at Google, famously stated,\n",
    "\n",
    "> \"We don't have better algorithms than anyone else; we just have more data.\"\n",
    "\n",
    "Though probably an understatement (given the amount of talent employed at Google), the quote does provide a sense of just how vital data is to having successful outcomes.\n",
    "\n",
    "People normally discuss the importance of data in the context of machine learning. No matter how sophisticated a machine learning model is, it will not perform well unless it has a reasonable amount of data to train on. On the other hand, given a large and diverse set of training data, a good deep learning model will significantly outperform non-deep learning algorithms.\n",
    "\n",
    "However, data is not just limited to machine learning. Companies use data to identify customer trends, political parties use data to determine which demographics they should target, sports teams use data to analyze players, etc.\n",
    "\n",
    "![Example.jpg](datasets/images/example.jpg \"Example baseball data used in sabermetrics. The concept was popularized by the 2011 film, Moneyball.\")\n",
    "\n",
    "The universal usage of data makes **data processing**, the act of converting raw data into a meaningful form, an essential skill to have."
   ]
  },
  {
   "cell_type": "markdown",
   "metadata": {},
   "source": [
    "### B. NumPy"
   ]
  },
  {
   "cell_type": "markdown",
   "metadata": {},
   "source": [
    "Many scenarios involve mostly numeric datasets. For example, medical data contains many numeric metrics, such as height, weight, and blood pressure. Furthermore, the majority of neural networks use input data that is either numeric or has been converted to a numeric form.\n",
    "\n",
    "When we deal with numeric data, the best Python library to use is [NumPy](http://www.numpy.org/). The NumPy library allows us to perform many operations on numeric data, and convert the data to more usable forms."
   ]
  },
  {
   "cell_type": "code",
   "execution_count": 3,
   "metadata": {},
   "outputs": [
    {
     "data": {
      "text/plain": [
       "array([-1.,  2.,  5.], dtype=float32)"
      ]
     },
     "execution_count": 3,
     "metadata": {},
     "output_type": "execute_result"
    }
   ],
   "source": [
    "# Initializing a NumPy array\n",
    "arr = np.array([-1, 2, 5], dtype=np.float32)\n",
    "\n",
    "# Print the representation of the array\n",
    "arr"
   ]
  },
  {
   "cell_type": "markdown",
   "metadata": {},
   "source": [
    "In the following chapters, we’ll explore all the necessary NumPy operations for data manipulation."
   ]
  },
  {
   "cell_type": "markdown",
   "metadata": {},
   "source": [
    "## NumPy Arrays"
   ]
  },
  {
   "cell_type": "markdown",
   "metadata": {},
   "source": [
    "Exploring NumPy arrays and how they're used.\n",
    "\n",
    "### Goals:"
   ]
  },
  {
   "cell_type": "markdown",
   "metadata": {},
   "source": [
    "- Explore NumPy arrays and how to initialize them\n",
    "- Write code to create several NumPy arrays"
   ]
  },
  {
   "cell_type": "markdown",
   "metadata": {},
   "source": [
    "### A. Arrays"
   ]
  },
  {
   "cell_type": "markdown",
   "metadata": {},
   "source": [
    "NumPy arrays are basically just Python lists with added features. In fact, we can easily convert a Python list to a Numpy array using the  `np.array`  function, which takes in a Python list as its required argument. The function also has quite a few keyword arguments, but the main one to know is  `dtype` . The  `dtype`  keyword argument takes in a [NumPy type](https://docs.scipy.org/doc/numpy/user/basics.types.html) and manually casts the array to the specified type.\n",
    "\n",
    "The code below is an example usage of  `np.array`  to create a 2-D matrix. \n",
    "\n",
    "> Note: the array is manually cast to  `np.float32` ."
   ]
  },
  {
   "cell_type": "code",
   "execution_count": 4,
   "metadata": {},
   "outputs": [
    {
     "data": {
      "text/plain": [
       "array([[0., 1., 2.],\n",
       "       [3., 4., 5.]], dtype=float32)"
      ]
     },
     "execution_count": 4,
     "metadata": {},
     "output_type": "execute_result"
    }
   ],
   "source": [
    "arr = np.array([[0, 1, 2], [3, 4, 5]],\n",
    "               dtype=np.float32)\n",
    "arr"
   ]
  },
  {
   "cell_type": "markdown",
   "metadata": {},
   "source": [
    "When the elements of a NumPy array are mixed types, then the array's type will be  *upcast*  to the highest level type. This means that if an array input has mixed  `int`  and  `float`  elements, all the integers will be cast to their floating-point equivalents. If an array is mixed with  `int` ,  `float` , and  `string`  elements, everything is cast to strings.\n",
    "\n",
    "The code below is an example of  `np.array`  upcasting. Both integers are cast to their floating-point equivalents."
   ]
  },
  {
   "cell_type": "code",
   "execution_count": 5,
   "metadata": {},
   "outputs": [
    {
     "data": {
      "text/plain": [
       "array([0. , 0.1, 2. ])"
      ]
     },
     "execution_count": 5,
     "metadata": {},
     "output_type": "execute_result"
    }
   ],
   "source": [
    "arr = np.array([0, 0.1, 2])\n",
    "arr"
   ]
  },
  {
   "cell_type": "markdown",
   "metadata": {},
   "source": [
    "### B. Copying"
   ]
  },
  {
   "cell_type": "markdown",
   "metadata": {},
   "source": [
    "Similar to Python lists, when we make a reference to a NumPy array it doesn't create a different array. Therefore, if we change a value using the reference variable, it changes the original array as well. We get around this by using an array's inherent  `copy`  function. The function has no required arguments, and it returns the copied array.\n",
    "\n",
    "In the code example below,  `c`  is a reference to  `a`  while  `d`  is a copy. Therefore, changing  `c`  leads to the same change in  `a` , while changing  `d`  does not change the value of  `b` ."
   ]
  },
  {
   "cell_type": "code",
   "execution_count": 6,
   "metadata": {},
   "outputs": [
    {
     "name": "stdout",
     "output_type": "stream",
     "text": [
      "Array a: [0 1]\n"
     ]
    }
   ],
   "source": [
    "a = np.array([0, 1])\n",
    "b = np.array([9, 8])\n",
    "c = a\n",
    "print(f'Array a: {a}')"
   ]
  },
  {
   "cell_type": "code",
   "execution_count": 7,
   "metadata": {},
   "outputs": [
    {
     "name": "stdout",
     "output_type": "stream",
     "text": [
      "Array a: [5 1]\n"
     ]
    }
   ],
   "source": [
    "c[0] = 5\n",
    "print(f'Array a: {a}')"
   ]
  },
  {
   "cell_type": "code",
   "execution_count": 8,
   "metadata": {},
   "outputs": [
    {
     "name": "stdout",
     "output_type": "stream",
     "text": [
      "Array b: [9 8]\n"
     ]
    }
   ],
   "source": [
    "d = b.copy()\n",
    "d[0] = 6\n",
    "print(f'Array b: {b}')"
   ]
  },
  {
   "cell_type": "markdown",
   "metadata": {},
   "source": [
    "### C. Casting"
   ]
  },
  {
   "cell_type": "markdown",
   "metadata": {},
   "source": [
    "We cast NumPy arrays through their inherent  `astype`  function. The function's required argument is the new type for the array. It returns the array cast to the new type.\n",
    "\n",
    "The code below shows an example of casting using the  `astype`  function. The  `dtype`  property returns the type of an array."
   ]
  },
  {
   "cell_type": "code",
   "execution_count": 9,
   "metadata": {},
   "outputs": [
    {
     "data": {
      "text/plain": [
       "dtype('int32')"
      ]
     },
     "execution_count": 9,
     "metadata": {},
     "output_type": "execute_result"
    }
   ],
   "source": [
    "arr = np.array([0, 1, 2])\n",
    "arr.dtype"
   ]
  },
  {
   "cell_type": "code",
   "execution_count": 10,
   "metadata": {},
   "outputs": [
    {
     "data": {
      "text/plain": [
       "dtype('float32')"
      ]
     },
     "execution_count": 10,
     "metadata": {},
     "output_type": "execute_result"
    }
   ],
   "source": [
    "arr = arr.astype(np.float32)\n",
    "arr.dtype"
   ]
  },
  {
   "cell_type": "markdown",
   "metadata": {},
   "source": [
    "### D. NaN"
   ]
  },
  {
   "cell_type": "markdown",
   "metadata": {},
   "source": [
    "When we don't want a NumPy array to contain a value at a particular index, we can use  `np.nan`  to act as a placeholder. A common usage for  `np.nan`  is as a filler value for incomplete data.\n",
    "\n",
    "The code below shows an example usage of  `np.nan` . Note that  `np.nan`  cannot take on an integer type."
   ]
  },
  {
   "cell_type": "code",
   "execution_count": 11,
   "metadata": {},
   "outputs": [
    {
     "data": {
      "text/plain": [
       "array([nan,  1.,  2.])"
      ]
     },
     "execution_count": 11,
     "metadata": {},
     "output_type": "execute_result"
    }
   ],
   "source": [
    "arr = np.array([np.nan, 1, 2])\n",
    "arr"
   ]
  },
  {
   "cell_type": "code",
   "execution_count": 12,
   "metadata": {},
   "outputs": [
    {
     "data": {
      "text/plain": [
       "array(['nan', 'abc'], dtype='<U32')"
      ]
     },
     "execution_count": 12,
     "metadata": {},
     "output_type": "execute_result"
    }
   ],
   "source": [
    "arr = np.array([np.nan, 'abc'])\n",
    "arr"
   ]
  },
  {
   "cell_type": "code",
   "execution_count": 13,
   "metadata": {},
   "outputs": [
    {
     "ename": "ValueError",
     "evalue": "cannot convert float NaN to integer",
     "output_type": "error",
     "traceback": [
      "\u001b[1;31m---------------------------------------------------------------------------\u001b[0m",
      "\u001b[1;31mValueError\u001b[0m                                Traceback (most recent call last)",
      "\u001b[1;32m<ipython-input-13-6ca1dd662c51>\u001b[0m in \u001b[0;36m<module>\u001b[1;34m\u001b[0m\n\u001b[0;32m      1\u001b[0m \u001b[1;31m# Will result in a ValueError\u001b[0m\u001b[1;33m\u001b[0m\u001b[1;33m\u001b[0m\u001b[0m\n\u001b[1;32m----> 2\u001b[1;33m \u001b[0mnp\u001b[0m\u001b[1;33m.\u001b[0m\u001b[0marray\u001b[0m\u001b[1;33m(\u001b[0m\u001b[1;33m[\u001b[0m\u001b[0mnp\u001b[0m\u001b[1;33m.\u001b[0m\u001b[0mnan\u001b[0m\u001b[1;33m,\u001b[0m \u001b[1;36m1\u001b[0m\u001b[1;33m,\u001b[0m \u001b[1;36m2\u001b[0m\u001b[1;33m]\u001b[0m\u001b[1;33m,\u001b[0m \u001b[0mdtype\u001b[0m\u001b[1;33m=\u001b[0m\u001b[0mnp\u001b[0m\u001b[1;33m.\u001b[0m\u001b[0mint32\u001b[0m\u001b[1;33m)\u001b[0m\u001b[1;33m\u001b[0m\u001b[0m\n\u001b[0m",
      "\u001b[1;31mValueError\u001b[0m: cannot convert float NaN to integer"
     ]
    }
   ],
   "source": [
    "# Will result in a ValueError\n",
    "np.array([np.nan, 1, 2], dtype=np.int32)"
   ]
  },
  {
   "cell_type": "markdown",
   "metadata": {},
   "source": [
    "### E. Infinity"
   ]
  },
  {
   "cell_type": "markdown",
   "metadata": {},
   "source": [
    "To represent infinity in NumPy, we use the  `np.inf`  special value. We can also represent negative infinity with  `-np.inf` .\n",
    "\n",
    "The code below shows an example usage of  `np.inf` . Note that  `np.inf`  cannot take on an integer type."
   ]
  },
  {
   "cell_type": "code",
   "execution_count": 14,
   "metadata": {},
   "outputs": [
    {
     "name": "stdout",
     "output_type": "stream",
     "text": [
      "True\n"
     ]
    }
   ],
   "source": [
    "print(np.inf > 1000000)"
   ]
  },
  {
   "cell_type": "code",
   "execution_count": 15,
   "metadata": {},
   "outputs": [
    {
     "data": {
      "text/plain": [
       "array([inf,  5.])"
      ]
     },
     "execution_count": 15,
     "metadata": {},
     "output_type": "execute_result"
    }
   ],
   "source": [
    "arr = np.array([np.inf, 5])\n",
    "arr"
   ]
  },
  {
   "cell_type": "code",
   "execution_count": 16,
   "metadata": {},
   "outputs": [
    {
     "data": {
      "text/plain": [
       "array([-inf,   1.])"
      ]
     },
     "execution_count": 16,
     "metadata": {},
     "output_type": "execute_result"
    }
   ],
   "source": [
    "arr = np.array([-np.inf, 1])\n",
    "arr"
   ]
  },
  {
   "cell_type": "code",
   "execution_count": 17,
   "metadata": {},
   "outputs": [
    {
     "ename": "OverflowError",
     "evalue": "cannot convert float infinity to integer",
     "output_type": "error",
     "traceback": [
      "\u001b[1;31m---------------------------------------------------------------------------\u001b[0m",
      "\u001b[1;31mOverflowError\u001b[0m                             Traceback (most recent call last)",
      "\u001b[1;32m<ipython-input-17-3ef3477d851f>\u001b[0m in \u001b[0;36m<module>\u001b[1;34m\u001b[0m\n\u001b[0;32m      1\u001b[0m \u001b[1;31m# Will result in an OverflowError\u001b[0m\u001b[1;33m\u001b[0m\u001b[1;33m\u001b[0m\u001b[0m\n\u001b[1;32m----> 2\u001b[1;33m \u001b[0mnp\u001b[0m\u001b[1;33m.\u001b[0m\u001b[0marray\u001b[0m\u001b[1;33m(\u001b[0m\u001b[1;33m[\u001b[0m\u001b[0mnp\u001b[0m\u001b[1;33m.\u001b[0m\u001b[0minf\u001b[0m\u001b[1;33m,\u001b[0m \u001b[1;36m3\u001b[0m\u001b[1;33m]\u001b[0m\u001b[1;33m,\u001b[0m \u001b[0mdtype\u001b[0m\u001b[1;33m=\u001b[0m\u001b[0mnp\u001b[0m\u001b[1;33m.\u001b[0m\u001b[0mint32\u001b[0m\u001b[1;33m)\u001b[0m\u001b[1;33m\u001b[0m\u001b[0m\n\u001b[0m",
      "\u001b[1;31mOverflowError\u001b[0m: cannot convert float infinity to integer"
     ]
    }
   ],
   "source": [
    "# Will result in an OverflowError\n",
    "np.array([np.inf, 3], dtype=np.int32)"
   ]
  },
  {
   "cell_type": "markdown",
   "metadata": {},
   "source": [
    "## NumPy Basics"
   ]
  },
  {
   "cell_type": "markdown",
   "metadata": {},
   "source": [
    "Perform basic operations to create and modify NumPy arrays."
   ]
  },
  {
   "cell_type": "markdown",
   "metadata": {},
   "source": [
    "### Goals:"
   ]
  },
  {
   "cell_type": "markdown",
   "metadata": {},
   "source": [
    "- Explore some basic NumPy operations\n",
    "- Write code using the basic NumPy functions"
   ]
  },
  {
   "cell_type": "markdown",
   "metadata": {},
   "source": [
    "### A. Ranged data"
   ]
  },
  {
   "cell_type": "markdown",
   "metadata": {},
   "source": [
    "While  `np.array`  can be used to create any array, it is equivalent to hardcoding an array. This won't work when the array has hundreds of values. Instead, NumPy provides an option to create ranged data arrays using  `np.arange` . The function acts very similar to the  `range`  function in Python, and will always return a 1-D array.\n",
    "\n",
    "The code below contains example usages of  `np.arange`."
   ]
  },
  {
   "cell_type": "code",
   "execution_count": 18,
   "metadata": {},
   "outputs": [
    {
     "data": {
      "text/plain": [
       "array([0, 1, 2, 3, 4])"
      ]
     },
     "execution_count": 18,
     "metadata": {},
     "output_type": "execute_result"
    }
   ],
   "source": [
    "arr = np.arange(5)\n",
    "arr"
   ]
  },
  {
   "cell_type": "code",
   "execution_count": 19,
   "metadata": {},
   "outputs": [
    {
     "data": {
      "text/plain": [
       "array([0., 1., 2., 3., 4., 5.])"
      ]
     },
     "execution_count": 19,
     "metadata": {},
     "output_type": "execute_result"
    }
   ],
   "source": [
    "arr = np.arange(5.1)\n",
    "arr"
   ]
  },
  {
   "cell_type": "code",
   "execution_count": 20,
   "metadata": {},
   "outputs": [
    {
     "data": {
      "text/plain": [
       "array([-1,  0,  1,  2,  3])"
      ]
     },
     "execution_count": 20,
     "metadata": {},
     "output_type": "execute_result"
    }
   ],
   "source": [
    "arr = np.arange(-1, 4)\n",
    "arr"
   ]
  },
  {
   "cell_type": "code",
   "execution_count": 21,
   "metadata": {},
   "outputs": [
    {
     "data": {
      "text/plain": [
       "array([-1.5,  0.5,  2.5])"
      ]
     },
     "execution_count": 21,
     "metadata": {},
     "output_type": "execute_result"
    }
   ],
   "source": [
    "arr = np.arange(-1.5, 4, 2)\n",
    "arr"
   ]
  },
  {
   "cell_type": "markdown",
   "metadata": {},
   "source": [
    "The output of  `np.arange`  is specified as follows:\n",
    "\n",
    "* If only a single number,  *n* , is passed in as an argument,  `np.arange`  will return an array with all the integers in the range [0,  *n* ).  \n",
    "* > Note:  the lower end is inclusive while the upper end is exclusive.\n",
    "* For two arguments,  *m*  and  *n* ,  `np.arange`  will return an array with all the integers in the range [ *m* ,  *n* ).\n",
    "* For three arguments,  *m* ,  *n* , and  *s* ,  `np.arange`  will return an array with the integers in the range [ *m* ,  *n* ) using a step size of  *s* .\n",
    "* Like  `np.array` ,  `np.arange`  performs upcasting. It also has the  `dtype`  keyword argument to manually cast the array.\n",
    "\n",
    "To specify the number of elements in the returned array, rather than the step size, we can use the  `np.linspace`  function.\n",
    "\n",
    "This function takes in a required first two arguments, for the start and end of the range, respectively. The end of the range is inclusive for  `np.linspace` , unless the keyword argument  `endpoint`  is set to  `False` . To specify the number of elements, we set the  `num`  keyword argument (its default value is  `50` ).\n",
    "\n",
    "The code below shows example usages of  `np.linspace` . It also takes in the  `dtype`  keyword argument for manual casting."
   ]
  },
  {
   "cell_type": "code",
   "execution_count": 22,
   "metadata": {},
   "outputs": [
    {
     "data": {
      "text/plain": [
       "array([ 5.,  7.,  9., 11.])"
      ]
     },
     "execution_count": 22,
     "metadata": {},
     "output_type": "execute_result"
    }
   ],
   "source": [
    "arr = np.linspace(5, 11, num=4)\n",
    "arr"
   ]
  },
  {
   "cell_type": "code",
   "execution_count": 23,
   "metadata": {},
   "outputs": [
    {
     "data": {
      "text/plain": [
       "array([5. , 6.5, 8. , 9.5])"
      ]
     },
     "execution_count": 23,
     "metadata": {},
     "output_type": "execute_result"
    }
   ],
   "source": [
    "arr = np.linspace(5, 11, num=4, endpoint=False)\n",
    "arr"
   ]
  },
  {
   "cell_type": "code",
   "execution_count": 24,
   "metadata": {},
   "outputs": [
    {
     "data": {
      "text/plain": [
       "array([ 5,  7,  9, 11])"
      ]
     },
     "execution_count": 24,
     "metadata": {},
     "output_type": "execute_result"
    }
   ],
   "source": [
    "arr = np.linspace(5, 11, num=4, dtype=np.int32)\n",
    "arr"
   ]
  },
  {
   "cell_type": "markdown",
   "metadata": {},
   "source": [
    "### B. Reshaping data"
   ]
  },
  {
   "cell_type": "markdown",
   "metadata": {},
   "source": [
    "The function we use to reshape data in NumPy is  `np.reshape` . It takes in an array and a new shape as required arguments. The new shape must exactly contain all the elements from the input array. For example, we could reshape an array with 12 elements to  `(4, 3)` , but we can't reshape it to  `(4, 4)` .\n",
    "\n",
    "We are allowed to use the special value of -1 in at most one dimension of the new shape. The dimension with -1 will take on the value necessary to allow the new shape to contain all the elements of the array.\n",
    "\n",
    "The code below shows example usages of  `np.reshape` ."
   ]
  },
  {
   "cell_type": "code",
   "execution_count": 25,
   "metadata": {},
   "outputs": [
    {
     "data": {
      "text/plain": [
       "array([[0, 1, 2, 3],\n",
       "       [4, 5, 6, 7]])"
      ]
     },
     "execution_count": 25,
     "metadata": {},
     "output_type": "execute_result"
    }
   ],
   "source": [
    "arr = np.arange(8)\n",
    "\n",
    "reshaped_arr = np.reshape(arr, (2, 4))\n",
    "reshaped_arr"
   ]
  },
  {
   "cell_type": "code",
   "execution_count": 26,
   "metadata": {},
   "outputs": [
    {
     "name": "stdout",
     "output_type": "stream",
     "text": [
      "New shape: (2, 4)\n"
     ]
    }
   ],
   "source": [
    "print(f'New shape: {reshaped_arr.shape}')"
   ]
  },
  {
   "cell_type": "code",
   "execution_count": 27,
   "metadata": {},
   "outputs": [
    {
     "data": {
      "text/plain": [
       "array([[[0, 1],\n",
       "        [2, 3]],\n",
       "\n",
       "       [[4, 5],\n",
       "        [6, 7]]])"
      ]
     },
     "execution_count": 27,
     "metadata": {},
     "output_type": "execute_result"
    }
   ],
   "source": [
    "reshaped_arr = np.reshape(arr, (-1, 2, 2))\n",
    "reshaped_arr"
   ]
  },
  {
   "cell_type": "code",
   "execution_count": 28,
   "metadata": {},
   "outputs": [
    {
     "name": "stdout",
     "output_type": "stream",
     "text": [
      "New shape: (2, 2, 2)\n"
     ]
    }
   ],
   "source": [
    "print(f'New shape: {reshaped_arr.shape}')"
   ]
  },
  {
   "cell_type": "markdown",
   "metadata": {},
   "source": [
    "While the  `np.reshape`  function can perform any reshaping utilities we need, NumPy provides an inherent function for flattening an array. Flattening an array reshapes it into a 1D array. Since we need to flatten data quite often, it is a useful function.\n",
    "\n",
    "The code below flattens an array using the inherent  `flatten`  function."
   ]
  },
  {
   "cell_type": "code",
   "execution_count": 29,
   "metadata": {},
   "outputs": [
    {
     "data": {
      "text/plain": [
       "array([[0, 1, 2, 3],\n",
       "       [4, 5, 6, 7]])"
      ]
     },
     "execution_count": 29,
     "metadata": {},
     "output_type": "execute_result"
    }
   ],
   "source": [
    "arr = np.arange(8)\n",
    "arr = np.reshape(arr, (2, 4))\n",
    "flattened = arr.flatten()\n",
    "arr"
   ]
  },
  {
   "cell_type": "code",
   "execution_count": 30,
   "metadata": {},
   "outputs": [
    {
     "name": "stdout",
     "output_type": "stream",
     "text": [
      "arr shape: (2, 4)\n"
     ]
    }
   ],
   "source": [
    "print(f'arr shape: {arr.shape}')"
   ]
  },
  {
   "cell_type": "code",
   "execution_count": 31,
   "metadata": {},
   "outputs": [
    {
     "data": {
      "text/plain": [
       "array([0, 1, 2, 3, 4, 5, 6, 7])"
      ]
     },
     "execution_count": 31,
     "metadata": {},
     "output_type": "execute_result"
    }
   ],
   "source": [
    "flattened"
   ]
  },
  {
   "cell_type": "code",
   "execution_count": 32,
   "metadata": {},
   "outputs": [
    {
     "name": "stdout",
     "output_type": "stream",
     "text": [
      "flattened shape: (8,)\n"
     ]
    }
   ],
   "source": [
    "print(f'flattened shape: {flattened.shape}')"
   ]
  },
  {
   "cell_type": "markdown",
   "metadata": {},
   "source": [
    "### C. Transposing"
   ]
  },
  {
   "cell_type": "markdown",
   "metadata": {},
   "source": [
    "Similar to how it is common to reshape data, it is also common to transpose data. Perhaps we have data that's supposed to be in a particular format, but some new data we get is rearranged. We can just transpose the data, using the  `np.transpose`  function, to convert it to the proper format.\n",
    "\n",
    "The code below shows an example usage of the  `np.transpose`  function. The matrix rows become columns after the transpose."
   ]
  },
  {
   "cell_type": "code",
   "execution_count": 33,
   "metadata": {},
   "outputs": [
    {
     "data": {
      "text/plain": [
       "array([[0, 1],\n",
       "       [2, 3],\n",
       "       [4, 5],\n",
       "       [6, 7]])"
      ]
     },
     "metadata": {},
     "output_type": "display_data"
    },
    {
     "name": "stdout",
     "output_type": "stream",
     "text": [
      "arr shape: (4, 2)\n"
     ]
    },
    {
     "data": {
      "text/plain": [
       "array([[0, 2, 4, 6],\n",
       "       [1, 3, 5, 7]])"
      ]
     },
     "metadata": {},
     "output_type": "display_data"
    },
    {
     "name": "stdout",
     "output_type": "stream",
     "text": [
      "transposed shape: (2, 4)\n"
     ]
    }
   ],
   "source": [
    "arr = np.arange(8)\n",
    "arr = np.reshape(arr, (4, 2))\n",
    "transposed = np.transpose(arr)\n",
    "display(arr)\n",
    "print('arr shape: {}'.format(arr.shape))\n",
    "display(transposed)\n",
    "print('transposed shape: {}'.format(transposed.shape))"
   ]
  },
  {
   "cell_type": "markdown",
   "metadata": {},
   "source": [
    "The function takes in a required first argument, which will be the array we want to transpose. It also has a single keyword argument called  `axes` , which represents the new  *permutation*  of the dimensions.\n",
    "\n",
    "The permutation is a tuple/list of integers, with the same length as the number of dimensions in the array. It tells us where to switch up the dimensions. For example, if the permutation had 3 at index 1, it means the old third dimension of the data becomes the new second dimension (since index 1 represents the second dimension).\n",
    "\n",
    "The code below shows an example usage of the  `np.transpose`  function with the  `axes`  keyword argument. The  `shape`  property gives us the shape of an array."
   ]
  },
  {
   "cell_type": "code",
   "execution_count": 34,
   "metadata": {},
   "outputs": [
    {
     "name": "stdout",
     "output_type": "stream",
     "text": [
      "arr shape: (3, 4, 2)\n",
      "transposed shape: (4, 2, 3)\n"
     ]
    }
   ],
   "source": [
    "arr = np.arange(24).reshape((3, 4, 2))\n",
    "print('arr shape: {}'.format(arr.shape))\n",
    "transposed = np.transpose(arr, axes=(1, 2, 0))\n",
    "print('transposed shape: {}'.format(transposed.shape))"
   ]
  },
  {
   "cell_type": "markdown",
   "metadata": {},
   "source": [
    "In this example, the old first dimension became the new third dimension, the old second dimension became the new first dimension, and the old third dimension became the new second dimension. The default value for  `axes`  is a dimension reversal (e.g. for 3-D data the default  `axes`  value is  `[2, 1, 0]` )."
   ]
  },
  {
   "cell_type": "markdown",
   "metadata": {},
   "source": [
    "### D. Zeros and ones"
   ]
  },
  {
   "cell_type": "markdown",
   "metadata": {},
   "source": [
    "Sometimes, we need to create arrays filled solely with 0 or 1. For example, since binary data is labeled with 0 and 1, we may need to create dummy datasets of strictly one label. For creating these arrays, NumPy provides the functions  `np.zeros`  and  `np.ones` . They both take in the same arguments, which includes just one required argument, the array shape. The functions also allow for manual casting using the  `dtype`  keyword argument.\n",
    "\n",
    "The code below shows example usages of  `np.zeros`  and  `np.ones` ."
   ]
  },
  {
   "cell_type": "code",
   "execution_count": 35,
   "metadata": {},
   "outputs": [
    {
     "data": {
      "text/plain": [
       "array([0., 0., 0., 0.])"
      ]
     },
     "execution_count": 35,
     "metadata": {},
     "output_type": "execute_result"
    }
   ],
   "source": [
    "arr = np.zeros(4)\n",
    "arr"
   ]
  },
  {
   "cell_type": "code",
   "execution_count": 36,
   "metadata": {},
   "outputs": [
    {
     "data": {
      "text/plain": [
       "array([[1., 1., 1.],\n",
       "       [1., 1., 1.]])"
      ]
     },
     "execution_count": 36,
     "metadata": {},
     "output_type": "execute_result"
    }
   ],
   "source": [
    "arr = np.ones((2, 3))\n",
    "arr"
   ]
  },
  {
   "cell_type": "code",
   "execution_count": 37,
   "metadata": {},
   "outputs": [
    {
     "data": {
      "text/plain": [
       "array([[1, 1, 1],\n",
       "       [1, 1, 1]])"
      ]
     },
     "execution_count": 37,
     "metadata": {},
     "output_type": "execute_result"
    }
   ],
   "source": [
    "arr = np.ones((2, 3), dtype=np.int32)\n",
    "arr"
   ]
  },
  {
   "cell_type": "markdown",
   "metadata": {},
   "source": [
    "If we want to create an array of 0's or 1's with the same shape as another array, we can use  `np.zeros_like`  and  `np.ones_like` .\n",
    "\n",
    "The code below shows example usages of  `np.zeros_like`  and  `np.ones_like` ."
   ]
  },
  {
   "cell_type": "code",
   "execution_count": 38,
   "metadata": {},
   "outputs": [
    {
     "data": {
      "text/plain": [
       "array([[0, 0],\n",
       "       [0, 0]])"
      ]
     },
     "execution_count": 38,
     "metadata": {},
     "output_type": "execute_result"
    }
   ],
   "source": [
    "arr = np.array([[1, 2], [3, 4]])\n",
    "np.zeros_like(arr)"
   ]
  },
  {
   "cell_type": "code",
   "execution_count": 39,
   "metadata": {},
   "outputs": [
    {
     "data": {
      "text/plain": [
       "array([[1., 1.],\n",
       "       [1., 1.]])"
      ]
     },
     "execution_count": 39,
     "metadata": {},
     "output_type": "execute_result"
    }
   ],
   "source": [
    "arr = np.array([[0., 1.], [1.2, 4.]])\n",
    "np.ones_like(arr)"
   ]
  },
  {
   "cell_type": "code",
   "execution_count": 39,
   "metadata": {},
   "outputs": [
    {
     "data": {
      "text/plain": [
       "array([[1, 1],\n",
       "       [1, 1]])"
      ]
     },
     "execution_count": 39,
     "metadata": {},
     "output_type": "execute_result"
    }
   ],
   "source": [
    "np.ones_like(arr, dtype=np.int32)"
   ]
  },
  {
   "cell_type": "markdown",
   "metadata": {},
   "source": [
    "## Math"
   ]
  },
  {
   "cell_type": "markdown",
   "metadata": {},
   "source": [
    "Understand how arithmetic and linear algebra work in NumPy."
   ]
  },
  {
   "cell_type": "markdown",
   "metadata": {},
   "source": [
    "### Goals:"
   ]
  },
  {
   "cell_type": "markdown",
   "metadata": {},
   "source": [
    "- How to perform math operations in NumPy\n",
    "- Write code using NumPy math functions"
   ]
  },
  {
   "cell_type": "markdown",
   "metadata": {},
   "source": [
    "### A. Arithmetic"
   ]
  },
  {
   "cell_type": "markdown",
   "metadata": {},
   "source": [
    "One of the main purposes of NumPy is to perform multi-dimensional arithmetic. Using NumPy arrays, we can apply arithmetic to each element with a single operation.\n",
    "\n",
    "The code below shows multi-dimensional arithmetic with NumPy."
   ]
  },
  {
   "cell_type": "code",
   "execution_count": 40,
   "metadata": {},
   "outputs": [
    {
     "data": {
      "text/plain": [
       "array([[2, 3],\n",
       "       [4, 5]])"
      ]
     },
     "execution_count": 40,
     "metadata": {},
     "output_type": "execute_result"
    }
   ],
   "source": [
    "arr = np.array([[1, 2], [3, 4]])\n",
    "# Add 1 to element values\n",
    "arr + 1"
   ]
  },
  {
   "cell_type": "code",
   "execution_count": 41,
   "metadata": {},
   "outputs": [
    {
     "data": {
      "text/plain": [
       "array([[-0.2,  0.8],\n",
       "       [ 1.8,  2.8]])"
      ]
     },
     "execution_count": 41,
     "metadata": {},
     "output_type": "execute_result"
    }
   ],
   "source": [
    "# Subtract element values by 1.2\n",
    "arr - 1.2"
   ]
  },
  {
   "cell_type": "code",
   "execution_count": 42,
   "metadata": {},
   "outputs": [
    {
     "data": {
      "text/plain": [
       "array([[2, 4],\n",
       "       [6, 8]])"
      ]
     },
     "execution_count": 42,
     "metadata": {},
     "output_type": "execute_result"
    }
   ],
   "source": [
    "# Double element values\n",
    "arr * 2"
   ]
  },
  {
   "cell_type": "code",
   "execution_count": 43,
   "metadata": {},
   "outputs": [
    {
     "data": {
      "text/plain": [
       "array([[0.5, 1. ],\n",
       "       [1.5, 2. ]])"
      ]
     },
     "execution_count": 43,
     "metadata": {},
     "output_type": "execute_result"
    }
   ],
   "source": [
    "# Halve element values\n",
    "arr / 2"
   ]
  },
  {
   "cell_type": "code",
   "execution_count": 44,
   "metadata": {},
   "outputs": [
    {
     "data": {
      "text/plain": [
       "array([[0, 1],\n",
       "       [1, 2]], dtype=int32)"
      ]
     },
     "execution_count": 44,
     "metadata": {},
     "output_type": "execute_result"
    }
   ],
   "source": [
    "# Integer division (half)\n",
    "arr // 2"
   ]
  },
  {
   "cell_type": "code",
   "execution_count": 45,
   "metadata": {},
   "outputs": [
    {
     "data": {
      "text/plain": [
       "array([[ 1,  4],\n",
       "       [ 9, 16]], dtype=int32)"
      ]
     },
     "execution_count": 45,
     "metadata": {},
     "output_type": "execute_result"
    }
   ],
   "source": [
    "# Square element values\n",
    "arr**2"
   ]
  },
  {
   "cell_type": "code",
   "execution_count": 46,
   "metadata": {},
   "outputs": [
    {
     "name": "stdout",
     "output_type": "stream",
     "text": [
      "array([[1.        , 1.41421356],\n",
      "       [1.73205081, 2.        ]])\n"
     ]
    }
   ],
   "source": [
    "# Square root element values\n",
    "print(repr(arr**0.5))"
   ]
  },
  {
   "cell_type": "markdown",
   "metadata": {},
   "source": [
    "Using NumPy arithmetic, we can easily modify large amounts of numeric data with only a few operations. For example, we could convert a dataset of Fahrenheit temperatures to their equivalent Celsius form.\n",
    "\n",
    "The code below converts Fahrenheit to Celsius in NumPy."
   ]
  },
  {
   "cell_type": "code",
   "execution_count": 47,
   "metadata": {},
   "outputs": [
    {
     "name": "stdout",
     "output_type": "stream",
     "text": [
      "Celsius: array([  0., -20., -10., -40.])\n"
     ]
    }
   ],
   "source": [
    "def f2c(temps):\n",
    "    return (5/9)*(temps-32)\n",
    "\n",
    "fahrenheits = np.array([32, -4, 14, -40])\n",
    "celsius = f2c(fahrenheits)\n",
    "print(f'Celsius: {repr(celsius)}')"
   ]
  },
  {
   "cell_type": "markdown",
   "metadata": {},
   "source": [
    "It is important to note that performing arithmetic on NumPy arrays  **does not change the original array** , and instead produces a new array that is the result of the arithmetic operation."
   ]
  },
  {
   "cell_type": "markdown",
   "metadata": {},
   "source": [
    "### B. Non-linear functions"
   ]
  },
  {
   "cell_type": "markdown",
   "metadata": {},
   "source": [
    "Apart from basic arithmetic operations, NumPy also allows you to use non-linear functions such as exponentials and logarithms.\n",
    "\n",
    "The function  `np.exp`  performs a base  *e*  exponential on an array, while the function  `np.exp2`  performs a base 2 exponential. Likewise,  `np.log` ,  `np.log2` , and  `np.log10`  all perform logarithms on an input array, using base  *e* , base 2, and base 10, respectively.\n",
    "\n",
    "The code below shows various exponentials and logarithms with NumPy. Note that  `np.e`  and  `np.pi`  represent the mathematical constants  $e$  and $\\pi$, respectively."
   ]
  },
  {
   "cell_type": "code",
   "execution_count": 49,
   "metadata": {},
   "outputs": [
    {
     "data": {
      "text/plain": [
       "array([[ 2.71828183,  7.3890561 ],\n",
       "       [20.08553692, 54.59815003]])"
      ]
     },
     "execution_count": 49,
     "metadata": {},
     "output_type": "execute_result"
    }
   ],
   "source": [
    "arr = np.array([[1, 2], [3, 4]])\n",
    "# Raised to power of e\n",
    "np.exp(arr)"
   ]
  },
  {
   "cell_type": "code",
   "execution_count": 50,
   "metadata": {},
   "outputs": [
    {
     "data": {
      "text/plain": [
       "array([[ 2.,  4.],\n",
       "       [ 8., 16.]])"
      ]
     },
     "execution_count": 50,
     "metadata": {},
     "output_type": "execute_result"
    }
   ],
   "source": [
    "# Raised to power of 2\n",
    "np.exp2(arr)"
   ]
  },
  {
   "cell_type": "code",
   "execution_count": 51,
   "metadata": {},
   "outputs": [
    {
     "data": {
      "text/plain": [
       "array([[0.        , 2.30258509],\n",
       "       [1.        , 1.14472989]])"
      ]
     },
     "execution_count": 51,
     "metadata": {},
     "output_type": "execute_result"
    }
   ],
   "source": [
    "arr2 = np.array([[1, 10], [np.e, np.pi]])\n",
    "# Natural logarithm\n",
    "np.log(arr2)"
   ]
  },
  {
   "cell_type": "code",
   "execution_count": 52,
   "metadata": {},
   "outputs": [
    {
     "data": {
      "text/plain": [
       "array([[0.        , 1.        ],\n",
       "       [0.43429448, 0.49714987]])"
      ]
     },
     "execution_count": 52,
     "metadata": {},
     "output_type": "execute_result"
    }
   ],
   "source": [
    "# Base 10 logarithm\n",
    "np.log10(arr2)"
   ]
  },
  {
   "cell_type": "markdown",
   "metadata": {},
   "source": [
    "To do a regular power operation with any base, we use  `np.power` . The first argument to the function is the base, while the second is the power. If the base or power is an array rather than a single number, the operation is applied to every element in the array.\n",
    "\n",
    "The code below shows examples of using  `np.power` ."
   ]
  },
  {
   "cell_type": "code",
   "execution_count": 53,
   "metadata": {},
   "outputs": [
    {
     "data": {
      "text/plain": [
       "array([[ 3,  9],\n",
       "       [27, 81]], dtype=int32)"
      ]
     },
     "execution_count": 53,
     "metadata": {},
     "output_type": "execute_result"
    }
   ],
   "source": [
    "arr = np.array([[1, 2], [3, 4]])\n",
    "# Raise 3 to power of each number in arr\n",
    "np.power(3, arr)"
   ]
  },
  {
   "cell_type": "code",
   "execution_count": 54,
   "metadata": {},
   "outputs": [
    {
     "data": {
      "text/plain": [
       "array([[ 10.2,  16. ],\n",
       "       [ 27. , 625. ]])"
      ]
     },
     "execution_count": 54,
     "metadata": {},
     "output_type": "execute_result"
    }
   ],
   "source": [
    "arr2 = np.array([[10.2, 4], [3, 5]])\n",
    "# Raise arr2 to power of each number in arr\n",
    "np.power(arr2, arr)"
   ]
  },
  {
   "cell_type": "markdown",
   "metadata": {},
   "source": [
    "In addition to exponentials and logarithms, NumPy has various other mathematical functions, which are listed [here](https://docs.scipy.org/doc/numpy/reference/routines.math.html)."
   ]
  },
  {
   "cell_type": "markdown",
   "metadata": {},
   "source": [
    "### C. Matrix multiplication"
   ]
  },
  {
   "cell_type": "markdown",
   "metadata": {},
   "source": [
    "Since NumPy arrays are basically vectors and matrices, it makes sense that there are functions for dot products and matrix multiplication. Specifically, the main function to use is  `np.matmul` , which takes two vector/matrix arrays as input and produces a dot product or matrix multiplication.\n",
    "\n",
    "The code below shows various examples of matrix multiplication. When both inputs are 1-D, the output is the dot product.\n",
    "\n",
    "Note that the dimensions of the two input matrices must be valid for a matrix multiplication. Specifically, the second dimension of the first matrix must equal the first dimension of the second matrix, otherwise  `np.matmul`  will result in a  `ValueError` ."
   ]
  },
  {
   "cell_type": "code",
   "execution_count": 55,
   "metadata": {},
   "outputs": [
    {
     "data": {
      "text/plain": [
       "27"
      ]
     },
     "execution_count": 55,
     "metadata": {},
     "output_type": "execute_result"
    }
   ],
   "source": [
    "arr1 = np.array([1, 2, 3])\n",
    "arr2 = np.array([-3, 0, 10])\n",
    "np.matmul(arr1, arr2)"
   ]
  },
  {
   "cell_type": "code",
   "execution_count": 56,
   "metadata": {},
   "outputs": [
    {
     "data": {
      "text/plain": [
       "array([[  5,   4,  -7],\n",
       "       [  9,   8, -13],\n",
       "       [ 13,  12, -19]])"
      ]
     },
     "execution_count": 56,
     "metadata": {},
     "output_type": "execute_result"
    }
   ],
   "source": [
    "arr3 = np.array([[1, 2], [3, 4], [5, 6]])\n",
    "arr4 = np.array([[-1, 0, 1], [3, 2, -4]])\n",
    "np.matmul(arr3, arr4)"
   ]
  },
  {
   "cell_type": "code",
   "execution_count": 57,
   "metadata": {},
   "outputs": [
    {
     "data": {
      "text/plain": [
       "array([[  4,   4],\n",
       "       [-11, -10]])"
      ]
     },
     "execution_count": 57,
     "metadata": {},
     "output_type": "execute_result"
    }
   ],
   "source": [
    "np.matmul(arr4, arr3)"
   ]
  },
  {
   "cell_type": "code",
   "execution_count": 58,
   "metadata": {},
   "outputs": [
    {
     "ename": "ValueError",
     "evalue": "matmul: Input operand 1 has a mismatch in its core dimension 0, with gufunc signature (n?,k),(k,m?)->(n?,m?) (size 3 is different from 2)",
     "output_type": "error",
     "traceback": [
      "\u001b[1;31m---------------------------------------------------------------------------\u001b[0m",
      "\u001b[1;31mValueError\u001b[0m                                Traceback (most recent call last)",
      "\u001b[1;32m<ipython-input-58-1c707fc2145d>\u001b[0m in \u001b[0;36m<module>\u001b[1;34m\u001b[0m\n\u001b[0;32m      1\u001b[0m \u001b[1;31m# This will result in ValueError\u001b[0m\u001b[1;33m\u001b[0m\u001b[1;33m\u001b[0m\u001b[0m\n\u001b[1;32m----> 2\u001b[1;33m \u001b[0mnp\u001b[0m\u001b[1;33m.\u001b[0m\u001b[0mmatmul\u001b[0m\u001b[1;33m(\u001b[0m\u001b[0marr3\u001b[0m\u001b[1;33m,\u001b[0m \u001b[0marr3\u001b[0m\u001b[1;33m)\u001b[0m\u001b[1;33m\u001b[0m\u001b[0m\n\u001b[0m",
      "\u001b[1;31mValueError\u001b[0m: matmul: Input operand 1 has a mismatch in its core dimension 0, with gufunc signature (n?,k),(k,m?)->(n?,m?) (size 3 is different from 2)"
     ]
    }
   ],
   "source": [
    "# This will result in ValueError\n",
    "np.matmul(arr3, arr3)"
   ]
  },
  {
   "cell_type": "markdown",
   "metadata": {},
   "source": [
    "## Random"
   ]
  },
  {
   "cell_type": "markdown",
   "metadata": {},
   "source": [
    "Generate numbers and arrays from different random distributions."
   ]
  },
  {
   "cell_type": "markdown",
   "metadata": {},
   "source": [
    "### Goals:"
   ]
  },
  {
   "cell_type": "markdown",
   "metadata": {},
   "source": [
    "- Explore random operations in NumPy\n",
    "- Write code using the np.random submodule"
   ]
  },
  {
   "cell_type": "markdown",
   "metadata": {},
   "source": [
    "### A. Random integers"
   ]
  },
  {
   "cell_type": "markdown",
   "metadata": {},
   "source": [
    "Similar to the Python  `random`  module, NumPy has its own submodule for pseudo-random number generation called  `np.random` . It provides all the necessary randomized operations and extends it to multi-dimensional arrays. To generate pseudo-random integers, we use the  `np.random.randint`  function.\n",
    "\n",
    "The code below shows example usages of  `np.random.randint` ."
   ]
  },
  {
   "cell_type": "code",
   "execution_count": 59,
   "metadata": {},
   "outputs": [
    {
     "data": {
      "text/plain": [
       "1"
      ]
     },
     "execution_count": 59,
     "metadata": {},
     "output_type": "execute_result"
    }
   ],
   "source": [
    "np.random.randint(5)"
   ]
  },
  {
   "cell_type": "code",
   "execution_count": 60,
   "metadata": {},
   "outputs": [
    {
     "data": {
      "text/plain": [
       "4"
      ]
     },
     "execution_count": 60,
     "metadata": {},
     "output_type": "execute_result"
    }
   ],
   "source": [
    "np.random.randint(5)"
   ]
  },
  {
   "cell_type": "code",
   "execution_count": 61,
   "metadata": {},
   "outputs": [
    {
     "data": {
      "text/plain": [
       "5"
      ]
     },
     "execution_count": 61,
     "metadata": {},
     "output_type": "execute_result"
    }
   ],
   "source": [
    "np.random.randint(5, high=6)"
   ]
  },
  {
   "cell_type": "code",
   "execution_count": 62,
   "metadata": {},
   "outputs": [
    {
     "data": {
      "text/plain": [
       "array([[11,  9],\n",
       "       [-2,  2]])"
      ]
     },
     "execution_count": 62,
     "metadata": {},
     "output_type": "execute_result"
    }
   ],
   "source": [
    "random_arr = np.random.randint(-3, high=14,\n",
    "                               size=(2, 2))\n",
    "random_arr"
   ]
  },
  {
   "cell_type": "markdown",
   "metadata": {},
   "source": [
    "The  `np.random.randint`  function takes in a single required argument, which actually depends on the  `high`  keyword argument. If  `high=None`  (which is the default value), then the required argument represents the upper (exclusive) end of the range, with the lower end being 0. Specifically, if the required argument is  *n* , then the random integer is chosen uniformly from the range [0,  *n* ).\n",
    "\n",
    "If  `high`  is not  `None` , then the required argument will represent the lower (inclusive) end of the range, while  `high`  represents the upper (exclusive) end.\n",
    "\n",
    "The  `size`  keyword argument specifies the size of the output array, where each integer in the array is randomly drawn from the specified range. As a default,  `np.random.randint`  returns a single integer."
   ]
  },
  {
   "cell_type": "markdown",
   "metadata": {},
   "source": [
    "### B. Utility functions"
   ]
  },
  {
   "cell_type": "markdown",
   "metadata": {},
   "source": [
    "Some fundamental utility functions from the  `np.random`  module are  `np.random.seed`  and  `np.random.shuffle` . We use the  `np.random.seed`  function to set the [random seed](https://en.wikipedia.org/wiki/Random_seed), which allows us to control the outputs of the pseudo-random functions. The function takes in a single integer as an argument, representing the random seed.\n",
    "\n",
    "The code below uses  `np.random.seed`  with the same random seed. Note how the outputs of the random functions in each subsequent run are identical when we set the same random seed."
   ]
  },
  {
   "cell_type": "code",
   "execution_count": 63,
   "metadata": {},
   "outputs": [
    {
     "data": {
      "text/plain": [
       "5"
      ]
     },
     "execution_count": 63,
     "metadata": {},
     "output_type": "execute_result"
    }
   ],
   "source": [
    "np.random.seed(1)\n",
    "np.random.randint(10)"
   ]
  },
  {
   "cell_type": "code",
   "execution_count": 64,
   "metadata": {},
   "outputs": [
    {
     "data": {
      "text/plain": [
       "array([[15, 75],\n",
       "       [12, 78]])"
      ]
     },
     "execution_count": 64,
     "metadata": {},
     "output_type": "execute_result"
    }
   ],
   "source": [
    "random_arr = np.random.randint(3, high=100,\n",
    "                               size=(2, 2))\n",
    "random_arr"
   ]
  },
  {
   "cell_type": "code",
   "execution_count": 65,
   "metadata": {},
   "outputs": [
    {
     "data": {
      "text/plain": [
       "8"
      ]
     },
     "execution_count": 65,
     "metadata": {},
     "output_type": "execute_result"
    }
   ],
   "source": [
    "# New seed\n",
    "np.random.seed(2)\n",
    "np.random.randint(10)"
   ]
  },
  {
   "cell_type": "code",
   "execution_count": 66,
   "metadata": {},
   "outputs": [
    {
     "data": {
      "text/plain": [
       "array([[18, 75],\n",
       "       [25, 46]])"
      ]
     },
     "execution_count": 66,
     "metadata": {},
     "output_type": "execute_result"
    }
   ],
   "source": [
    "random_arr = np.random.randint(3, high=100,\n",
    "                               size=(2, 2))\n",
    "random_arr"
   ]
  },
  {
   "cell_type": "code",
   "execution_count": 67,
   "metadata": {},
   "outputs": [
    {
     "data": {
      "text/plain": [
       "5"
      ]
     },
     "execution_count": 67,
     "metadata": {},
     "output_type": "execute_result"
    }
   ],
   "source": [
    "# Original seed\n",
    "np.random.seed(1)\n",
    "np.random.randint(10)"
   ]
  },
  {
   "cell_type": "code",
   "execution_count": 68,
   "metadata": {},
   "outputs": [
    {
     "data": {
      "text/plain": [
       "array([[15, 75],\n",
       "       [12, 78]])"
      ]
     },
     "execution_count": 68,
     "metadata": {},
     "output_type": "execute_result"
    }
   ],
   "source": [
    "random_arr = np.random.randint(3, high=100,\n",
    "                               size=(2, 2))\n",
    "random_arr"
   ]
  },
  {
   "cell_type": "markdown",
   "metadata": {},
   "source": [
    "The  `np.random.shuffle`  function allows us to randomly shuffle an array. Note that the shuffling happens in place (i.e. no return value), and shuffling multi-dimensional arrays only shuffles the first dimension.\n",
    "\n",
    "The code below shows example usages of  `np.random.shuffle` . Note that only the rows of  `matrix`  are shuffled (i.e. shuffling along first dimension only)."
   ]
  },
  {
   "cell_type": "code",
   "execution_count": 69,
   "metadata": {},
   "outputs": [
    {
     "data": {
      "text/plain": [
       "array([3, 4, 2, 5, 1])"
      ]
     },
     "execution_count": 69,
     "metadata": {},
     "output_type": "execute_result"
    }
   ],
   "source": [
    "vec = np.array([1, 2, 3, 4, 5])\n",
    "np.random.shuffle(vec)\n",
    "vec"
   ]
  },
  {
   "cell_type": "code",
   "execution_count": 70,
   "metadata": {},
   "outputs": [
    {
     "data": {
      "text/plain": [
       "array([5, 3, 4, 2, 1])"
      ]
     },
     "execution_count": 70,
     "metadata": {},
     "output_type": "execute_result"
    }
   ],
   "source": [
    "np.random.shuffle(vec)\n",
    "vec"
   ]
  },
  {
   "cell_type": "code",
   "execution_count": 71,
   "metadata": {},
   "outputs": [
    {
     "data": {
      "text/plain": [
       "array([[4, 5, 6],\n",
       "       [7, 8, 9],\n",
       "       [1, 2, 3]])"
      ]
     },
     "execution_count": 71,
     "metadata": {},
     "output_type": "execute_result"
    }
   ],
   "source": [
    "matrix = np.array([[1, 2, 3],\n",
    "                   [4, 5, 6],\n",
    "                   [7, 8, 9]])\n",
    "np.random.shuffle(matrix)\n",
    "matrix"
   ]
  },
  {
   "cell_type": "markdown",
   "metadata": {},
   "source": [
    "### C. Distributions"
   ]
  },
  {
   "cell_type": "markdown",
   "metadata": {},
   "source": [
    "Using  `np.random`  we can also draw samples from probability distributions. For example, we can use  `np.random.uniform`  to draw pseudo-random real numbers from a [uniform distribution](https://en.wikipedia.org/wiki/Uniform_distribution_(continuous)).\n",
    "\n",
    "The code below shows usages of  `np.random.uniform` ."
   ]
  },
  {
   "cell_type": "code",
   "execution_count": 72,
   "metadata": {},
   "outputs": [
    {
     "data": {
      "text/plain": [
       "0.3132735169322751"
      ]
     },
     "execution_count": 72,
     "metadata": {},
     "output_type": "execute_result"
    }
   ],
   "source": [
    "np.random.uniform()"
   ]
  },
  {
   "cell_type": "code",
   "execution_count": 73,
   "metadata": {},
   "outputs": [
    {
     "data": {
      "text/plain": [
       "0.4408281904196243"
      ]
     },
     "execution_count": 73,
     "metadata": {},
     "output_type": "execute_result"
    }
   ],
   "source": [
    "np.random.uniform(low=-1.5, high=2.2)"
   ]
  },
  {
   "cell_type": "code",
   "execution_count": 74,
   "metadata": {},
   "outputs": [
    {
     "data": {
      "text/plain": [
       "array([0.44345289, 0.22957721, 0.53441391])"
      ]
     },
     "execution_count": 74,
     "metadata": {},
     "output_type": "execute_result"
    }
   ],
   "source": [
    "np.random.uniform(size=3)"
   ]
  },
  {
   "cell_type": "code",
   "execution_count": 75,
   "metadata": {},
   "outputs": [
    {
     "data": {
      "text/plain": [
       "array([[5.09984683, 0.85200471],\n",
       "       [0.60549667, 5.33388844]])"
      ]
     },
     "execution_count": 75,
     "metadata": {},
     "output_type": "execute_result"
    }
   ],
   "source": [
    "np.random.uniform(low=-3.4, high=5.9,\n",
    "                             size=(2, 2))"
   ]
  },
  {
   "cell_type": "markdown",
   "metadata": {},
   "source": [
    "The function  `np.random.uniform`  actually has no required arguments. The keyword arguments,  `low`  and  `high` , represent the inclusive lower end and exclusive upper end from which to draw random samples. Since they have default values of 0.0 and 1.0, respectively, the default outputs of  `np.random.uniform`  come from the range [0.0, 1.0).\n",
    "\n",
    "The  `size`  keyword argument is the same as the one for  `np.random.randint` , i.e. it represents the output size of the array.\n",
    "\n",
    "Another popular distribution we can sample from is the [normal (Gaussian) distribution](https://en.wikipedia.org/wiki/Normal_distribution). The function we use is  `np.random.normal` .\n",
    "\n",
    "The code below shows usages of  `np.random.normal` ."
   ]
  },
  {
   "cell_type": "code",
   "execution_count": 76,
   "metadata": {},
   "outputs": [
    {
     "data": {
      "text/plain": [
       "0.7252740646272712"
      ]
     },
     "execution_count": 76,
     "metadata": {},
     "output_type": "execute_result"
    }
   ],
   "source": [
    "np.random.normal()"
   ]
  },
  {
   "cell_type": "code",
   "execution_count": 77,
   "metadata": {},
   "outputs": [
    {
     "data": {
      "text/plain": [
       "4.772112039383628"
      ]
     },
     "execution_count": 77,
     "metadata": {},
     "output_type": "execute_result"
    }
   ],
   "source": [
    "np.random.normal(loc=1.5, scale=3.5)"
   ]
  },
  {
   "cell_type": "code",
   "execution_count": 78,
   "metadata": {},
   "outputs": [
    {
     "data": {
      "text/plain": [
       "array([[ 2.07318791, -2.17754724],\n",
       "       [-0.89337346, -0.89545991]])"
      ]
     },
     "execution_count": 78,
     "metadata": {},
     "output_type": "execute_result"
    }
   ],
   "source": [
    "np.random.normal(loc=-2.4, scale=4.0,\n",
    "                            size=(2, 2))"
   ]
  },
  {
   "cell_type": "markdown",
   "metadata": {},
   "source": [
    "Like  `np.random.uniform` ,  `np.random.normal`  has no required arguments. The  `loc`  and  `scale`  keyword arguments represent the mean and standard deviation, respectively, of the normal distribution we sample from.\n",
    "\n",
    "NumPy provides quite a few more built-in distributions, which are listed [here](https://docs.scipy.org/doc/numpy-1.14.1/reference/routines.random.html)."
   ]
  },
  {
   "cell_type": "markdown",
   "metadata": {},
   "source": [
    "### D. Custom sampling"
   ]
  },
  {
   "cell_type": "markdown",
   "metadata": {},
   "source": [
    "While NumPy provides built-in distributions to sample from, we can also sample from a custom distribution with the  `np.random.choice`  function.\n",
    "\n",
    "The code below shows example usages of  `np.random.choice` ."
   ]
  },
  {
   "cell_type": "code",
   "execution_count": 79,
   "metadata": {},
   "outputs": [
    {
     "data": {
      "text/plain": [
       "'green'"
      ]
     },
     "execution_count": 79,
     "metadata": {},
     "output_type": "execute_result"
    }
   ],
   "source": [
    "colors = ['red', 'blue', 'green']\n",
    "np.random.choice(colors)"
   ]
  },
  {
   "cell_type": "code",
   "execution_count": 80,
   "metadata": {},
   "outputs": [
    {
     "data": {
      "text/plain": [
       "array(['blue', 'red'], dtype='<U5')"
      ]
     },
     "execution_count": 80,
     "metadata": {},
     "output_type": "execute_result"
    }
   ],
   "source": [
    "np.random.choice(colors, size=2)"
   ]
  },
  {
   "cell_type": "code",
   "execution_count": 81,
   "metadata": {},
   "outputs": [
    {
     "data": {
      "text/plain": [
       "array([['red', 'red'],\n",
       "       ['blue', 'red']], dtype='<U5')"
      ]
     },
     "execution_count": 81,
     "metadata": {},
     "output_type": "execute_result"
    }
   ],
   "source": [
    "np.random.choice(colors, size=(2, 2),\n",
    "                            p=[0.8, 0.19, 0.01])"
   ]
  },
  {
   "cell_type": "markdown",
   "metadata": {},
   "source": [
    "The required argument for  `np.random.choice`  is the custom distribution we sample from. The  `p`  keyword argument denotes the probabilities given to each element in the input distribution. Note that the list of probabilities for  `p`  must sum to 1.\n",
    "\n",
    "In the example, we set  `p`  such that  `'red'`  has a probability of 0.8 of being chosen,  `'blue'`  has a probability of 0.19, and  `'green'`  has a probability of 0.01. When  `p`  is not set, the probabilities are equal for each element in the distribution (and sum to 1)."
   ]
  },
  {
   "cell_type": "markdown",
   "metadata": {},
   "source": [
    "## Indexing"
   ]
  },
  {
   "cell_type": "markdown",
   "metadata": {},
   "source": [
    "Index into NumPy arrays to extract data and array slices."
   ]
  },
  {
   "cell_type": "markdown",
   "metadata": {},
   "source": [
    "### Goals:"
   ]
  },
  {
   "cell_type": "markdown",
   "metadata": {},
   "source": [
    "* Explore indexing arrays in NumPy\n",
    "* Write code for indexing and slicing arrays"
   ]
  },
  {
   "cell_type": "markdown",
   "metadata": {},
   "source": [
    "### A. Array accessing"
   ]
  },
  {
   "cell_type": "markdown",
   "metadata": {},
   "source": [
    "Accessing NumPy arrays is identical to accessing Python lists. For multi-dimensional arrays, it is equivalent to accessing Python lists of lists.\n",
    "\n",
    "The code below shows example accesses of NumPy arrays."
   ]
  },
  {
   "cell_type": "code",
   "execution_count": 82,
   "metadata": {},
   "outputs": [
    {
     "data": {
      "text/plain": [
       "1"
      ]
     },
     "execution_count": 82,
     "metadata": {},
     "output_type": "execute_result"
    }
   ],
   "source": [
    "arr = np.array([1, 2, 3, 4, 5])\n",
    "arr[0]"
   ]
  },
  {
   "cell_type": "code",
   "execution_count": 83,
   "metadata": {},
   "outputs": [
    {
     "data": {
      "text/plain": [
       "5"
      ]
     },
     "execution_count": 83,
     "metadata": {},
     "output_type": "execute_result"
    }
   ],
   "source": [
    "arr[4]"
   ]
  },
  {
   "cell_type": "code",
   "execution_count": 84,
   "metadata": {},
   "outputs": [
    {
     "data": {
      "text/plain": [
       "array([6, 3])"
      ]
     },
     "execution_count": 84,
     "metadata": {},
     "output_type": "execute_result"
    }
   ],
   "source": [
    "arr = np.array([[6, 3], [0, 2]])\n",
    "# Subarray\n",
    "arr[0]"
   ]
  },
  {
   "cell_type": "markdown",
   "metadata": {},
   "source": [
    "### B. Slicing"
   ]
  },
  {
   "cell_type": "markdown",
   "metadata": {},
   "source": [
    "NumPy arrays also support slicing. Similar to Python, we use the colon operator (i.e.  `arr[:]` ) for slicing. We can also use negative indexing to slice in the backwards direction.\n",
    "\n",
    "The code below shows example slices of a 1-D NumPy array."
   ]
  },
  {
   "cell_type": "code",
   "execution_count": 85,
   "metadata": {},
   "outputs": [
    {
     "data": {
      "text/plain": [
       "array([1, 2, 3, 4, 5])"
      ]
     },
     "execution_count": 85,
     "metadata": {},
     "output_type": "execute_result"
    }
   ],
   "source": [
    "arr = np.array([1, 2, 3, 4, 5])\n",
    "arr[:]"
   ]
  },
  {
   "cell_type": "code",
   "execution_count": 86,
   "metadata": {},
   "outputs": [
    {
     "data": {
      "text/plain": [
       "array([2, 3, 4, 5])"
      ]
     },
     "execution_count": 86,
     "metadata": {},
     "output_type": "execute_result"
    }
   ],
   "source": [
    "arr[1:]"
   ]
  },
  {
   "cell_type": "code",
   "execution_count": 87,
   "metadata": {},
   "outputs": [
    {
     "data": {
      "text/plain": [
       "array([3, 4])"
      ]
     },
     "execution_count": 87,
     "metadata": {},
     "output_type": "execute_result"
    }
   ],
   "source": [
    "arr[2:4]"
   ]
  },
  {
   "cell_type": "code",
   "execution_count": 88,
   "metadata": {},
   "outputs": [
    {
     "data": {
      "text/plain": [
       "array([1, 2, 3, 4])"
      ]
     },
     "execution_count": 88,
     "metadata": {},
     "output_type": "execute_result"
    }
   ],
   "source": [
    "arr[:-1]"
   ]
  },
  {
   "cell_type": "code",
   "execution_count": 89,
   "metadata": {},
   "outputs": [
    {
     "data": {
      "text/plain": [
       "array([4, 5])"
      ]
     },
     "execution_count": 89,
     "metadata": {},
     "output_type": "execute_result"
    }
   ],
   "source": [
    "arr[-2:]"
   ]
  },
  {
   "cell_type": "markdown",
   "metadata": {},
   "source": [
    "For multi-dimensional arrays, we can use a comma to separate slices across each dimension.\n",
    "\n",
    "The code below shows example slices of a 2-D NumPy array."
   ]
  },
  {
   "cell_type": "code",
   "execution_count": 90,
   "metadata": {},
   "outputs": [
    {
     "data": {
      "text/plain": [
       "array([[1, 2, 3],\n",
       "       [4, 5, 6],\n",
       "       [7, 8, 9]])"
      ]
     },
     "execution_count": 90,
     "metadata": {},
     "output_type": "execute_result"
    }
   ],
   "source": [
    "arr = np.array([[1, 2, 3],\n",
    "                [4, 5, 6],\n",
    "                [7, 8, 9]])\n",
    "arr[:]"
   ]
  },
  {
   "cell_type": "code",
   "execution_count": 91,
   "metadata": {},
   "outputs": [
    {
     "data": {
      "text/plain": [
       "array([[4, 5, 6],\n",
       "       [7, 8, 9]])"
      ]
     },
     "execution_count": 91,
     "metadata": {},
     "output_type": "execute_result"
    }
   ],
   "source": [
    "arr[1:]"
   ]
  },
  {
   "cell_type": "code",
   "execution_count": 92,
   "metadata": {},
   "outputs": [
    {
     "data": {
      "text/plain": [
       "array([3, 6, 9])"
      ]
     },
     "execution_count": 92,
     "metadata": {},
     "output_type": "execute_result"
    }
   ],
   "source": [
    "arr[:, -1]"
   ]
  },
  {
   "cell_type": "code",
   "execution_count": 93,
   "metadata": {},
   "outputs": [
    {
     "data": {
      "text/plain": [
       "array([[2, 3],\n",
       "       [5, 6],\n",
       "       [8, 9]])"
      ]
     },
     "execution_count": 93,
     "metadata": {},
     "output_type": "execute_result"
    }
   ],
   "source": [
    "arr[:, 1:]"
   ]
  },
  {
   "cell_type": "code",
   "execution_count": 94,
   "metadata": {},
   "outputs": [
    {
     "data": {
      "text/plain": [
       "array([[2, 3]])"
      ]
     },
     "execution_count": 94,
     "metadata": {},
     "output_type": "execute_result"
    }
   ],
   "source": [
    "arr[0:1, 1:]"
   ]
  },
  {
   "cell_type": "code",
   "execution_count": 95,
   "metadata": {},
   "outputs": [
    {
     "data": {
      "text/plain": [
       "array([2, 3])"
      ]
     },
     "execution_count": 95,
     "metadata": {},
     "output_type": "execute_result"
    }
   ],
   "source": [
    "arr[0, 1:]"
   ]
  },
  {
   "cell_type": "markdown",
   "metadata": {},
   "source": [
    "### C. Argmin and argmax"
   ]
  },
  {
   "cell_type": "markdown",
   "metadata": {},
   "source": [
    "In addition to accessing and slicing arrays, it is useful to figure out the actual indexes of the minimum and maximum elements. To do this, we use the  `np.argmin`  and  `np.argmax`  functions.\n",
    "\n",
    "The code below shows example usages of  `np.argmin`  and  `np.argmax` . Note that the index of element  `-6`  is index  `5`  in the flattened version of  `arr` ."
   ]
  },
  {
   "cell_type": "code",
   "execution_count": 96,
   "metadata": {},
   "outputs": [
    {
     "data": {
      "text/plain": [
       "2"
      ]
     },
     "execution_count": 96,
     "metadata": {},
     "output_type": "execute_result"
    }
   ],
   "source": [
    "arr = np.array([[-2, -1, -3],\n",
    "                [4, 5, -6],\n",
    "                [-3, 9, 1]])\n",
    "np.argmin(arr[0])"
   ]
  },
  {
   "cell_type": "code",
   "execution_count": 97,
   "metadata": {},
   "outputs": [
    {
     "data": {
      "text/plain": [
       "1"
      ]
     },
     "execution_count": 97,
     "metadata": {},
     "output_type": "execute_result"
    }
   ],
   "source": [
    "np.argmax(arr[2])"
   ]
  },
  {
   "cell_type": "code",
   "execution_count": 98,
   "metadata": {},
   "outputs": [
    {
     "data": {
      "text/plain": [
       "5"
      ]
     },
     "execution_count": 98,
     "metadata": {},
     "output_type": "execute_result"
    }
   ],
   "source": [
    "np.argmin(arr)"
   ]
  },
  {
   "cell_type": "markdown",
   "metadata": {},
   "source": [
    "The  `np.argmin`  and  `np.argmax`  functions take the same arguments. The required argument is the input array and the  `axis`  keyword argument specifies which dimension to apply the operation on.\n",
    "\n",
    "The code below shows how the  `axis`  keyword argument is used for these functions."
   ]
  },
  {
   "cell_type": "code",
   "execution_count": 99,
   "metadata": {},
   "outputs": [
    {
     "data": {
      "text/plain": [
       "array([2, 0, 1], dtype=int64)"
      ]
     },
     "execution_count": 99,
     "metadata": {},
     "output_type": "execute_result"
    }
   ],
   "source": [
    "arr = np.array([[-2, -1, -3],\n",
    "                [4, 5, -6],\n",
    "                [-3, 9, 1]])\n",
    "np.argmin(arr, axis=0)"
   ]
  },
  {
   "cell_type": "code",
   "execution_count": 100,
   "metadata": {},
   "outputs": [
    {
     "data": {
      "text/plain": [
       "array([2, 2, 0], dtype=int64)"
      ]
     },
     "execution_count": 100,
     "metadata": {},
     "output_type": "execute_result"
    }
   ],
   "source": [
    "np.argmin(arr, axis=1)"
   ]
  },
  {
   "cell_type": "code",
   "execution_count": 101,
   "metadata": {},
   "outputs": [
    {
     "data": {
      "text/plain": [
       "array([1, 1, 1], dtype=int64)"
      ]
     },
     "execution_count": 101,
     "metadata": {},
     "output_type": "execute_result"
    }
   ],
   "source": [
    "np.argmax(arr, axis=-1)"
   ]
  },
  {
   "cell_type": "markdown",
   "metadata": {},
   "source": [
    "In our example, using  `axis=0`  meant the function found the index of the minimum  *row*  element for each column. When we used  `axis=1` , the function found the index of the minimum  *column*  element for each row.\n",
    "\n",
    "Setting  `axis`  to -1 just means we apply the function across the last dimension. In this case,  `axis=-1`  is equivalent to  `axis=1` ."
   ]
  },
  {
   "cell_type": "markdown",
   "metadata": {},
   "source": [
    "## Filtering"
   ]
  },
  {
   "cell_type": "markdown",
   "metadata": {},
   "source": [
    "Filter NumPy data for specific values."
   ]
  },
  {
   "cell_type": "markdown",
   "metadata": {},
   "source": [
    "### Goals:"
   ]
  },
  {
   "cell_type": "markdown",
   "metadata": {},
   "source": [
    "* Explore how to filter data in NumPy\n",
    "* Write code for filtering NumPy arrays"
   ]
  },
  {
   "cell_type": "markdown",
   "metadata": {},
   "source": [
    "### A. Filtering data"
   ]
  },
  {
   "cell_type": "markdown",
   "metadata": {},
   "source": [
    "Sometimes we have data that contains values we don't want to use. For example, when tracking the best hitters in baseball, we may want to only use the batting average data above .300. In this case, we should  *filter*  the overall data for only the values that we want.\n",
    "\n",
    "The key to filtering data is through basic relation operations, e.g.  `==` ,  `>` , etc. In NumPy, we can apply basic relation operations element-wise on arrays.\n",
    "\n",
    "The code below shows relation operations on NumPy arrays. The  `~`  operation represents a boolean negation, i.e. it flips each truth value in the array."
   ]
  },
  {
   "cell_type": "code",
   "execution_count": 102,
   "metadata": {},
   "outputs": [
    {
     "data": {
      "text/plain": [
       "array([[False, False,  True],\n",
       "       [False,  True, False],\n",
       "       [False, False, False]])"
      ]
     },
     "execution_count": 102,
     "metadata": {},
     "output_type": "execute_result"
    }
   ],
   "source": [
    "arr = np.array([[0, 2, 3],\n",
    "                [1, 3, -6],\n",
    "                [-3, -2, 1]])\n",
    "arr == 3"
   ]
  },
  {
   "cell_type": "code",
   "execution_count": 103,
   "metadata": {},
   "outputs": [
    {
     "data": {
      "text/plain": [
       "array([[False,  True,  True],\n",
       "       [ True,  True, False],\n",
       "       [False, False,  True]])"
      ]
     },
     "execution_count": 103,
     "metadata": {},
     "output_type": "execute_result"
    }
   ],
   "source": [
    "arr > 0"
   ]
  },
  {
   "cell_type": "code",
   "execution_count": 104,
   "metadata": {},
   "outputs": [
    {
     "data": {
      "text/plain": [
       "array([[ True,  True,  True],\n",
       "       [False,  True,  True],\n",
       "       [ True,  True, False]])"
      ]
     },
     "execution_count": 104,
     "metadata": {},
     "output_type": "execute_result"
    }
   ],
   "source": [
    "arr != 1"
   ]
  },
  {
   "cell_type": "code",
   "execution_count": 105,
   "metadata": {},
   "outputs": [
    {
     "data": {
      "text/plain": [
       "array([[False, False, False],\n",
       "       [ True, False, False],\n",
       "       [False, False,  True]])"
      ]
     },
     "execution_count": 105,
     "metadata": {},
     "output_type": "execute_result"
    }
   ],
   "source": [
    "# Negated from the previous step\n",
    "~(arr != 1)"
   ]
  },
  {
   "cell_type": "markdown",
   "metadata": {},
   "source": [
    "Something to note is that  `np.nan`  can't be used with any relation operation. Instead, we use  `np.isnan`  to filter for the location of  `np.nan` .\n",
    "\n",
    "The code below uses  `np.isnan`  to determine which locations of the array contain  `np.nan`  values."
   ]
  },
  {
   "cell_type": "code",
   "execution_count": 106,
   "metadata": {},
   "outputs": [
    {
     "data": {
      "text/plain": [
       "array([[False, False,  True],\n",
       "       [False,  True, False],\n",
       "       [ True, False, False]])"
      ]
     },
     "execution_count": 106,
     "metadata": {},
     "output_type": "execute_result"
    }
   ],
   "source": [
    "arr = np.array([[0, 2, np.nan],\n",
    "                [1, np.nan, -6],\n",
    "                [np.nan, -2, 1]])\n",
    "np.isnan(arr)"
   ]
  },
  {
   "cell_type": "markdown",
   "metadata": {},
   "source": [
    "Each boolean array in our examples represents the location of elements we want to filter for. The way we perform the filtering itself is through the  `np.where`  function."
   ]
  },
  {
   "cell_type": "markdown",
   "metadata": {},
   "source": [
    "### B. Filtering in NumPy"
   ]
  },
  {
   "cell_type": "markdown",
   "metadata": {},
   "source": [
    "The  `np.where`  function takes in a required first argument, which is a boolean array where  `True`  represents the locations of the elements we want to filter for. When the function is applied with only the first argument, it returns a tuple of 1-D arrays.\n",
    "\n",
    "The tuple will have size equal to the number of dimensions in the data, and each array represents the  `True`  indices for the corresponding dimension. Note that the arrays in the tuple will all have the same length, equal to the number of  `True`  elements in the input argument.\n",
    "\n",
    "The code below shows how to use  `np.where`  with a single argument."
   ]
  },
  {
   "cell_type": "code",
   "execution_count": 107,
   "metadata": {},
   "outputs": [
    {
     "data": {
      "text/plain": [
       "(array([0, 2], dtype=int64),)"
      ]
     },
     "execution_count": 107,
     "metadata": {},
     "output_type": "execute_result"
    }
   ],
   "source": [
    "np.where([True, False, True])"
   ]
  },
  {
   "cell_type": "code",
   "execution_count": 108,
   "metadata": {},
   "outputs": [
    {
     "data": {
      "text/plain": [
       "(array([1, 3], dtype=int64),)"
      ]
     },
     "execution_count": 108,
     "metadata": {},
     "output_type": "execute_result"
    }
   ],
   "source": [
    "arr = np.array([0, 3, 5, 3, 1])\n",
    "np.where(arr == 3)"
   ]
  },
  {
   "cell_type": "code",
   "execution_count": 109,
   "metadata": {},
   "outputs": [
    {
     "data": {
      "text/plain": [
       "array([0, 0, 1, 2], dtype=int64)"
      ]
     },
     "execution_count": 109,
     "metadata": {},
     "output_type": "execute_result"
    }
   ],
   "source": [
    "arr = np.array([[0, 2, 3],\n",
    "                [1, 0, 0],\n",
    "                [-3, 0, 0]])\n",
    "x_ind, y_ind = np.where(arr != 0)\n",
    "x_ind # x indices of non-zero elements"
   ]
  },
  {
   "cell_type": "code",
   "execution_count": 110,
   "metadata": {},
   "outputs": [
    {
     "data": {
      "text/plain": [
       "array([1, 2, 0, 0], dtype=int64)"
      ]
     },
     "execution_count": 110,
     "metadata": {},
     "output_type": "execute_result"
    }
   ],
   "source": [
    "y_ind # y indices of non-zero elements"
   ]
  },
  {
   "cell_type": "code",
   "execution_count": 111,
   "metadata": {},
   "outputs": [
    {
     "data": {
      "text/plain": [
       "array([ 2,  3,  1, -3])"
      ]
     },
     "execution_count": 111,
     "metadata": {},
     "output_type": "execute_result"
    }
   ],
   "source": [
    "arr[x_ind, y_ind]"
   ]
  },
  {
   "cell_type": "code",
   "execution_count": 112,
   "metadata": {},
   "outputs": [
    {
     "data": {
      "text/plain": [
       "(array([0, 0, 1, 2], dtype=int64), array([1, 2, 0, 0], dtype=int64))"
      ]
     },
     "execution_count": 112,
     "metadata": {},
     "output_type": "execute_result"
    }
   ],
   "source": [
    "np.where(arr != 0)"
   ]
  },
  {
   "cell_type": "markdown",
   "metadata": {},
   "source": [
    "The interesting thing about  `np.where`  is that it must be applied with exactly 1 or 3 arguments. When we use 3 arguments, the first argument is still the boolean array. However, the next two arguments represent the  `True`  replacement values and the  `False`  replacement values, respectively. The output of the function now becomes an array with the same shape as the first argument.\n",
    "\n",
    "The code below shows how to use  `np.where`  with 3 arguments."
   ]
  },
  {
   "cell_type": "code",
   "execution_count": 113,
   "metadata": {},
   "outputs": [
    {
     "data": {
      "text/plain": [
       "array([[ 1, -5],\n",
       "       [-1,  4]])"
      ]
     },
     "execution_count": 113,
     "metadata": {},
     "output_type": "execute_result"
    }
   ],
   "source": [
    "np_filter = np.array([[True, False], [False, True]])\n",
    "positives = np.array([[1, 2], [3, 4]])\n",
    "negatives = np.array([[-2, -5], [-1, -8]])\n",
    "np.where(np_filter, positives, negatives)"
   ]
  },
  {
   "cell_type": "code",
   "execution_count": 114,
   "metadata": {},
   "outputs": [
    {
     "data": {
      "text/plain": [
       "array([[-2, -5],\n",
       "       [ 3,  4]])"
      ]
     },
     "execution_count": 114,
     "metadata": {},
     "output_type": "execute_result"
    }
   ],
   "source": [
    "np_filter = positives > 2\n",
    "np.where(np_filter, positives, negatives)"
   ]
  },
  {
   "cell_type": "code",
   "execution_count": 115,
   "metadata": {},
   "outputs": [
    {
     "data": {
      "text/plain": [
       "array([[-2, -5],\n",
       "       [-1, -8]])"
      ]
     },
     "execution_count": 115,
     "metadata": {},
     "output_type": "execute_result"
    }
   ],
   "source": [
    "np_filter = negatives > 0\n",
    "np.where(np_filter, positives, negatives)"
   ]
  },
  {
   "cell_type": "markdown",
   "metadata": {},
   "source": [
    "Note that our second and third arguments necessarily had the same shape as the first argument. However, if we wanted to use a constant replacement value, e.g.  `-1` , we could incorporate [broadcasting](https://docs.scipy.org/doc/numpy/user/basics.broadcasting.html). Rather than using an entire array of the same value, we can just use the value itself as an argument.\n",
    "\n",
    "The code below showcases broadcasting with  `np.where` ."
   ]
  },
  {
   "cell_type": "code",
   "execution_count": 116,
   "metadata": {},
   "outputs": [
    {
     "data": {
      "text/plain": [
       "array([[ 1, -1],\n",
       "       [-1,  4]])"
      ]
     },
     "execution_count": 116,
     "metadata": {},
     "output_type": "execute_result"
    }
   ],
   "source": [
    "np_filter = np.array([[True, False], [False, True]])\n",
    "positives = np.array([[1, 2], [3, 4]])\n",
    "np.where(np_filter, positives, -1)"
   ]
  },
  {
   "cell_type": "markdown",
   "metadata": {},
   "source": [
    "### C. Axis-wise filtering"
   ]
  },
  {
   "cell_type": "markdown",
   "metadata": {},
   "source": [
    "If we wanted to filter based on rows or columns of data, we could use the  `np.any`  and  `np.all`  functions. Both functions take in the same arguments, and return a single boolean or a boolean array. The required argument for both functions is a boolean array.\n",
    "\n",
    "The code below shows usage of  `np.any`  and  `np.all`  with a single argument."
   ]
  },
  {
   "cell_type": "code",
   "execution_count": 117,
   "metadata": {},
   "outputs": [
    {
     "data": {
      "text/plain": [
       "array([[False, False, False],\n",
       "       [ True,  True, False],\n",
       "       [ True,  True,  True]])"
      ]
     },
     "execution_count": 117,
     "metadata": {},
     "output_type": "execute_result"
    }
   ],
   "source": [
    "arr = np.array([[-2, -1, -3],\n",
    "                [4, 5, -6],\n",
    "                [3, 9, 1]])\n",
    "arr > 0"
   ]
  },
  {
   "cell_type": "code",
   "execution_count": 118,
   "metadata": {},
   "outputs": [
    {
     "data": {
      "text/plain": [
       "True"
      ]
     },
     "execution_count": 118,
     "metadata": {},
     "output_type": "execute_result"
    }
   ],
   "source": [
    "np.any(arr > 0)"
   ]
  },
  {
   "cell_type": "code",
   "execution_count": 119,
   "metadata": {},
   "outputs": [
    {
     "data": {
      "text/plain": [
       "False"
      ]
     },
     "execution_count": 119,
     "metadata": {},
     "output_type": "execute_result"
    }
   ],
   "source": [
    "np.all(arr > 0)"
   ]
  },
  {
   "cell_type": "markdown",
   "metadata": {},
   "source": [
    "The  `np.any`  function is equivalent to performing a logical OR ( `||` ), while the  `np.all`  function is equivalent to a logical AND ( `&&` ) on the first argument. np.any returns true if even one of the elements in the array meets the condition and np.all returns true only if all the elements meet the condition. When only a single argument is passed in, the function is applied across the entire input array, so the returned value is a single boolean.\n",
    "\n",
    "However, if we use a multi-dimensional input and specify the  `axis`  keyword argument, the returned value will be an array. The  `axis`  argument has the same meaning as it did for  `np.argmin`  and  `np.argmax`  from the previous chapter. Using  `axis=0`  means the function finds the index of the minimum  *row*  element for each column. When we used  `axis=1` , the function finds the index of the minimum  *column*  element for each row.\n",
    "\n",
    "Setting  `axis`  to -1 just means we apply the function across the last dimension.\n",
    "\n",
    "The code below shows examples of using  `np.any`  and  `np.all`  with the  `axis`  keyword argument."
   ]
  },
  {
   "cell_type": "code",
   "execution_count": 120,
   "metadata": {},
   "outputs": [
    {
     "data": {
      "text/plain": [
       "array([[False, False, False],\n",
       "       [ True,  True, False],\n",
       "       [ True,  True,  True]])"
      ]
     },
     "execution_count": 120,
     "metadata": {},
     "output_type": "execute_result"
    }
   ],
   "source": [
    "arr = np.array([[-2, -1, -3],\n",
    "                [4, 5, -6],\n",
    "                [3, 9, 1]])\n",
    "arr > 0"
   ]
  },
  {
   "cell_type": "code",
   "execution_count": 121,
   "metadata": {},
   "outputs": [
    {
     "data": {
      "text/plain": [
       "array([ True,  True,  True])"
      ]
     },
     "execution_count": 121,
     "metadata": {},
     "output_type": "execute_result"
    }
   ],
   "source": [
    "np.any(arr > 0, axis=0)"
   ]
  },
  {
   "cell_type": "code",
   "execution_count": 122,
   "metadata": {},
   "outputs": [
    {
     "data": {
      "text/plain": [
       "array([False,  True,  True])"
      ]
     },
     "execution_count": 122,
     "metadata": {},
     "output_type": "execute_result"
    }
   ],
   "source": [
    "np.any(arr > 0, axis=1)"
   ]
  },
  {
   "cell_type": "code",
   "execution_count": 123,
   "metadata": {},
   "outputs": [
    {
     "data": {
      "text/plain": [
       "array([False, False,  True])"
      ]
     },
     "execution_count": 123,
     "metadata": {},
     "output_type": "execute_result"
    }
   ],
   "source": [
    "np.all(arr > 0, axis=1)"
   ]
  },
  {
   "cell_type": "markdown",
   "metadata": {},
   "source": [
    "We can use  `np.any`  and  `np.all`  in tandem with  `np.where`  to filter for entire rows or columns of data.\n",
    "\n",
    "In the code example below, we use  `np.any`  to obtain a boolean array representing the rows that have at least one positive number. We then use the boolean array as the input to  `np.where` , which gives us the actual indices of the rows with at least one positive number.\n",
    "\n",
    "![widget](https://www.educative.io/api/collection/6083138522447872/5629499534213120/page/5728116278296576/image/6652560851075072.png \"Widget\")"
   ]
  },
  {
   "cell_type": "code",
   "execution_count": 124,
   "metadata": {},
   "outputs": [
    {
     "data": {
      "text/plain": [
       "array([False,  True,  True])"
      ]
     },
     "execution_count": 124,
     "metadata": {},
     "output_type": "execute_result"
    }
   ],
   "source": [
    "arr = np.array([[-2, -1, -3],\n",
    "                [4, 5, -6],\n",
    "                [3, 9, 1]])\n",
    "has_positive = np.any(arr > 0, axis=1)\n",
    "has_positive"
   ]
  },
  {
   "cell_type": "code",
   "execution_count": 125,
   "metadata": {},
   "outputs": [
    {
     "data": {
      "text/plain": [
       "array([[ 4,  5, -6],\n",
       "       [ 3,  9,  1]])"
      ]
     },
     "execution_count": 125,
     "metadata": {},
     "output_type": "execute_result"
    }
   ],
   "source": [
    "arr[np.where(has_positive)]"
   ]
  },
  {
   "cell_type": "markdown",
   "metadata": {},
   "source": [
    "## Statistics"
   ]
  },
  {
   "cell_type": "markdown",
   "metadata": {},
   "source": [
    "Apply statistical metrics to NumPy data."
   ]
  },
  {
   "cell_type": "markdown",
   "metadata": {},
   "source": [
    "### Goals:"
   ]
  },
  {
   "cell_type": "markdown",
   "metadata": {},
   "source": [
    "* Explore basic statistical analysis in NumPy\n",
    "* Write code to obtain statistics for NumPy arrays"
   ]
  },
  {
   "cell_type": "markdown",
   "metadata": {},
   "source": [
    "### A. Analysis"
   ]
  },
  {
   "cell_type": "markdown",
   "metadata": {},
   "source": [
    "It is often useful to analyze data for its main characteristics and interesting trends.\n",
    "\n",
    "For example, we can obtain minimum and maximum values of a NumPy array using its inherent  `min`  and  `max`  functions. This gives us an initial sense of the data's range, and can alert us to extreme outliers in the data.\n",
    "\n",
    "The code below shows example usages of the  `min`  and  `max`  functions."
   ]
  },
  {
   "cell_type": "code",
   "execution_count": 126,
   "metadata": {},
   "outputs": [
    {
     "data": {
      "text/plain": [
       "-60"
      ]
     },
     "execution_count": 126,
     "metadata": {},
     "output_type": "execute_result"
    }
   ],
   "source": [
    "arr = np.array([[0, 72, 3],\n",
    "                [1, 3, -60],\n",
    "                [-3, -2, 4]])\n",
    "arr.min()"
   ]
  },
  {
   "cell_type": "code",
   "execution_count": 127,
   "metadata": {},
   "outputs": [
    {
     "data": {
      "text/plain": [
       "72"
      ]
     },
     "execution_count": 127,
     "metadata": {},
     "output_type": "execute_result"
    }
   ],
   "source": [
    "arr.max()"
   ]
  },
  {
   "cell_type": "code",
   "execution_count": 128,
   "metadata": {},
   "outputs": [
    {
     "data": {
      "text/plain": [
       "array([ -3,  -2, -60])"
      ]
     },
     "execution_count": 128,
     "metadata": {},
     "output_type": "execute_result"
    }
   ],
   "source": [
    "arr.min(axis=0)"
   ]
  },
  {
   "cell_type": "code",
   "execution_count": 129,
   "metadata": {},
   "outputs": [
    {
     "data": {
      "text/plain": [
       "array([72,  3,  4])"
      ]
     },
     "execution_count": 129,
     "metadata": {},
     "output_type": "execute_result"
    }
   ],
   "source": [
    "arr.max(axis=-1)"
   ]
  },
  {
   "cell_type": "markdown",
   "metadata": {},
   "source": [
    "The  `axis`  keyword argument is identical to how it was used in  `np.argmin`  and  `np.argmax`  from the chapter on Indexing. In our example, we use  `axis=0`  to find an array of the minimum values in each column of  `arr`  and  `axis=1`  to find an array of the maximum values in each row of  `arr` ."
   ]
  },
  {
   "cell_type": "markdown",
   "metadata": {},
   "source": [
    "### B. Statistical metrics"
   ]
  },
  {
   "cell_type": "markdown",
   "metadata": {},
   "source": [
    "NumPy also provides basic statistical functions such as  `np.mean` ,  `np.var` , and  `np.median` , to calculate the mean, variance, and median of the data, respectively.\n",
    "\n",
    "The code below shows how to obtain basic statistics with NumPy. Note that  `np.median`  applied without  `axis`  takes the median of the flattened array."
   ]
  },
  {
   "cell_type": "code",
   "execution_count": 130,
   "metadata": {},
   "outputs": [
    {
     "data": {
      "text/plain": [
       "2.0"
      ]
     },
     "execution_count": 130,
     "metadata": {},
     "output_type": "execute_result"
    }
   ],
   "source": [
    "arr = np.array([[0, 72, 3],\n",
    "                [1, 3, -60],\n",
    "                [-3, -2, 4]])\n",
    "np.mean(arr)"
   ]
  },
  {
   "cell_type": "code",
   "execution_count": 131,
   "metadata": {},
   "outputs": [
    {
     "data": {
      "text/plain": [
       "977.3333333333334"
      ]
     },
     "execution_count": 131,
     "metadata": {},
     "output_type": "execute_result"
    }
   ],
   "source": [
    "np.var(arr)"
   ]
  },
  {
   "cell_type": "code",
   "execution_count": 132,
   "metadata": {},
   "outputs": [
    {
     "data": {
      "text/plain": [
       "1.0"
      ]
     },
     "execution_count": 132,
     "metadata": {},
     "output_type": "execute_result"
    }
   ],
   "source": [
    "np.median(arr)"
   ]
  },
  {
   "cell_type": "code",
   "execution_count": 133,
   "metadata": {},
   "outputs": [
    {
     "data": {
      "text/plain": [
       "array([ 3.,  1., -2.])"
      ]
     },
     "execution_count": 133,
     "metadata": {},
     "output_type": "execute_result"
    }
   ],
   "source": [
    "np.median(arr, axis=-1)"
   ]
  },
  {
   "cell_type": "markdown",
   "metadata": {},
   "source": [
    "Each of these functions takes in the data array as a required argument and  `axis`  as a keyword argument. For a more comprehensive list of statistical functions (e.g. calculating percentiles, creating histograms, etc.), check out the NumPy [statistics page](https://docs.scipy.org/doc/numpy/reference/routines.statistics.html)."
   ]
  },
  {
   "cell_type": "markdown",
   "metadata": {},
   "source": [
    "## Aggregation"
   ]
  },
  {
   "cell_type": "markdown",
   "metadata": {},
   "source": [
    "Use aggregation techniques to combine NumPy data and arrays."
   ]
  },
  {
   "cell_type": "markdown",
   "metadata": {},
   "source": [
    "### Goals:\n",
    "\n",
    "* Explore how to aggregate data in NumPy\n",
    "* Write code to obtain sums and concatenations of NumPy arrays"
   ]
  },
  {
   "cell_type": "markdown",
   "metadata": {},
   "source": [
    "### A. Summation"
   ]
  },
  {
   "cell_type": "markdown",
   "metadata": {},
   "source": [
    "we calculated the sum of individual values between multiple arrays. To sum the values within a single array, we use the  `np.sum`  function.\n",
    "\n",
    "The function takes in a NumPy array as its required argument, and uses the  `axis`  keyword argument. \n",
    "\n",
    "If the  `axis`  keyword argument is not specified,  `np.sum`  returns the overall sum of the array.\n",
    "\n",
    "The code below shows how to use  `np.sum` ."
   ]
  },
  {
   "cell_type": "code",
   "execution_count": 134,
   "metadata": {},
   "outputs": [
    {
     "data": {
      "text/plain": [
       "18"
      ]
     },
     "execution_count": 134,
     "metadata": {},
     "output_type": "execute_result"
    }
   ],
   "source": [
    "arr = np.array([[0, 72, 3],\n",
    "                [1, 3, -60],\n",
    "                [-3, -2, 4]])\n",
    "np.sum(arr)"
   ]
  },
  {
   "cell_type": "code",
   "execution_count": 135,
   "metadata": {},
   "outputs": [
    {
     "data": {
      "text/plain": [
       "array([ -2,  73, -53])"
      ]
     },
     "execution_count": 135,
     "metadata": {},
     "output_type": "execute_result"
    }
   ],
   "source": [
    "np.sum(arr, axis=0)"
   ]
  },
  {
   "cell_type": "code",
   "execution_count": 136,
   "metadata": {},
   "outputs": [
    {
     "data": {
      "text/plain": [
       "array([ 75, -56,  -1])"
      ]
     },
     "execution_count": 136,
     "metadata": {},
     "output_type": "execute_result"
    }
   ],
   "source": [
    "np.sum(arr, axis=1)"
   ]
  },
  {
   "cell_type": "markdown",
   "metadata": {},
   "source": [
    "In addition to regular sums, NumPy can perform cumulative sums using  `np.cumsum` . Like  `np.sum` ,  `np.cumsum`  also takes in a NumPy array as a required argument and uses the  `axis`  argument. If the  `axis`  keyword argument is not specified,  `np.cumsum`  will return the cumulative sums for the flattened array.\n",
    "\n",
    "The code below shows how to use  `np.cumsum` . For a 2-D NumPy array, setting  `axis=0`  returns an array with cumulative sums across each column, while  `axis=1`  returns the array with cumulative sums across each row. Not setting  `axis`  returns a cumulative sum across all the values of the flattened array."
   ]
  },
  {
   "cell_type": "code",
   "execution_count": 137,
   "metadata": {},
   "outputs": [
    {
     "data": {
      "text/plain": [
       "array([ 0, 72, 75, 76, 79, 19, 16, 14, 18], dtype=int32)"
      ]
     },
     "execution_count": 137,
     "metadata": {},
     "output_type": "execute_result"
    }
   ],
   "source": [
    "arr = np.array([[0, 72, 3],\n",
    "                [1, 3, -60],\n",
    "                [-3, -2, 4]])\n",
    "np.cumsum(arr)"
   ]
  },
  {
   "cell_type": "code",
   "execution_count": 138,
   "metadata": {},
   "outputs": [
    {
     "data": {
      "text/plain": [
       "array([[  0,  72,   3],\n",
       "       [  1,  75, -57],\n",
       "       [ -2,  73, -53]], dtype=int32)"
      ]
     },
     "execution_count": 138,
     "metadata": {},
     "output_type": "execute_result"
    }
   ],
   "source": [
    "np.cumsum(arr, axis=0)"
   ]
  },
  {
   "cell_type": "code",
   "execution_count": 139,
   "metadata": {},
   "outputs": [
    {
     "data": {
      "text/plain": [
       "array([[  0,  72,  75],\n",
       "       [  1,   4, -56],\n",
       "       [ -3,  -5,  -1]], dtype=int32)"
      ]
     },
     "execution_count": 139,
     "metadata": {},
     "output_type": "execute_result"
    }
   ],
   "source": [
    "np.cumsum(arr, axis=1)"
   ]
  },
  {
   "cell_type": "markdown",
   "metadata": {},
   "source": [
    "### B. Concatenation"
   ]
  },
  {
   "cell_type": "markdown",
   "metadata": {},
   "source": [
    "An important part of aggregation is combining multiple datasets. In NumPy, this equates to combining multiple arrays into one. The function we use to do this is  `np.concatenate` .\n",
    "\n",
    "Like the summation functions,  `np.concatenate`  uses the  `axis`  keyword argument. However, the default value for  `axis`  is  `0`  (i.e. dimension 0). Furthermore, the required argument for  `np.concatenate`  is a list of arrays, which the function combines into a single array.\n",
    "\n",
    "The code below shows how to use  `np.concatenate` , which aggregates arrays by joining them along a specific dimension. For 2-D arrays, not setting the  `axis`  argument (defaults to  `axis=0` ) concatenates the arrays vertically. When we set  `axis=1` , the arrays are concatenated horizontally."
   ]
  },
  {
   "cell_type": "code",
   "execution_count": 140,
   "metadata": {},
   "outputs": [
    {
     "data": {
      "text/plain": [
       "array([[  0,  72,   3],\n",
       "       [  1,   3, -60],\n",
       "       [ -3,  -2,   4],\n",
       "       [-15,   6,   1],\n",
       "       [  8,   9,  -4],\n",
       "       [  5, -21,  18]])"
      ]
     },
     "execution_count": 140,
     "metadata": {},
     "output_type": "execute_result"
    }
   ],
   "source": [
    "arr1 = np.array([[0, 72, 3],\n",
    "                 [1, 3, -60],\n",
    "                 [-3, -2, 4]])\n",
    "arr2 = np.array([[-15, 6, 1],\n",
    "                 [8, 9, -4],\n",
    "                 [5, -21, 18]])\n",
    "np.concatenate([arr1, arr2])"
   ]
  },
  {
   "cell_type": "code",
   "execution_count": 141,
   "metadata": {},
   "outputs": [
    {
     "data": {
      "text/plain": [
       "array([[  0,  72,   3, -15,   6,   1],\n",
       "       [  1,   3, -60,   8,   9,  -4],\n",
       "       [ -3,  -2,   4,   5, -21,  18]])"
      ]
     },
     "execution_count": 141,
     "metadata": {},
     "output_type": "execute_result"
    }
   ],
   "source": [
    "np.concatenate([arr1, arr2], axis=1)"
   ]
  },
  {
   "cell_type": "code",
   "execution_count": 142,
   "metadata": {},
   "outputs": [
    {
     "data": {
      "text/plain": [
       "array([[-15,   6,   1,   0,  72,   3],\n",
       "       [  8,   9,  -4,   1,   3, -60],\n",
       "       [  5, -21,  18,  -3,  -2,   4]])"
      ]
     },
     "execution_count": 142,
     "metadata": {},
     "output_type": "execute_result"
    }
   ],
   "source": [
    "np.concatenate([arr2, arr1], axis=1)"
   ]
  },
  {
   "cell_type": "markdown",
   "metadata": {},
   "source": [
    "## Saving Data"
   ]
  },
  {
   "cell_type": "markdown",
   "metadata": {},
   "source": [
    " how to save and load NumPy data."
   ]
  },
  {
   "cell_type": "markdown",
   "metadata": {},
   "source": [
    "### Goals:\n",
    "\n",
    "* Exploring how to save and load data in NumPy\n",
    "* Write code to save NumPy data to a file"
   ]
  },
  {
   "cell_type": "markdown",
   "metadata": {},
   "source": [
    "### A. Saving"
   ]
  },
  {
   "cell_type": "markdown",
   "metadata": {},
   "source": [
    "After performing data manipulation with NumPy, it's a good idea to save the data in a file for future use. To do this, we use the  `np.save`  function.\n",
    "\n",
    "The first argument for the function is the name/path of the file we want to save our data to. The file name/path should have a \".npy\" extension. If it does not, then  `np.save`  will append the \".npy\" extension to it.\n",
    "\n",
    "The second argument for  `np.save`  is the NumPy data we want to save. The function has no return value. Also, the format of the \".npy\" files when viewed with a text editor is largely gibberish when viewed with a text editor.\n",
    "\n",
    "If  `np.save`  is called with the name of a file that already exists, it will overwrite the previous file.\n",
    "\n",
    "The code below shows examples of saving NumPy data."
   ]
  },
  {
   "cell_type": "code",
   "execution_count": 143,
   "metadata": {},
   "outputs": [],
   "source": [
    "arr = np.array([1, 2, 3])\n",
    "# Saves to 'arr.npy'\n",
    "np.save('datasets/numpy_files/arr.npy', arr)\n",
    "# Also saves to 'arr.npy'\n",
    "np.save('datasets/numpy_files/arr', arr)"
   ]
  },
  {
   "cell_type": "markdown",
   "metadata": {},
   "source": [
    "### B. Loading"
   ]
  },
  {
   "cell_type": "markdown",
   "metadata": {},
   "source": [
    "After saving our data, we can load it again using  `np.load` . The function's required argument is the file name/path that contains the saved data. It returns the NumPy data exactly as it was saved.\n",
    "\n",
    "Note that  `np.load`  will not append the \".npy\" extension to the file name/path if it is not there.\n",
    "\n",
    "The code below shows how to use  `np.load`  to load NumPy data."
   ]
  },
  {
   "cell_type": "code",
   "execution_count": 144,
   "metadata": {},
   "outputs": [
    {
     "data": {
      "text/plain": [
       "array([1, 2, 3])"
      ]
     },
     "execution_count": 144,
     "metadata": {},
     "output_type": "execute_result"
    }
   ],
   "source": [
    "load_arr = np.load('datasets/numpy_files/arr.npy')\n",
    "load_arr"
   ]
  },
  {
   "cell_type": "code",
   "execution_count": 145,
   "metadata": {},
   "outputs": [
    {
     "ename": "FileNotFoundError",
     "evalue": "[Errno 2] No such file or directory: 'datasets/numpy_files/arr'",
     "output_type": "error",
     "traceback": [
      "\u001b[1;31m---------------------------------------------------------------------------\u001b[0m",
      "\u001b[1;31mFileNotFoundError\u001b[0m                         Traceback (most recent call last)",
      "\u001b[1;32m<ipython-input-145-05bcbb98a755>\u001b[0m in \u001b[0;36m<module>\u001b[1;34m\u001b[0m\n\u001b[0;32m      1\u001b[0m \u001b[1;31m# Will result in FileNotFoundError\u001b[0m\u001b[1;33m\u001b[0m\u001b[1;33m\u001b[0m\u001b[0m\n\u001b[1;32m----> 2\u001b[1;33m \u001b[0mload_arr\u001b[0m \u001b[1;33m=\u001b[0m \u001b[0mnp\u001b[0m\u001b[1;33m.\u001b[0m\u001b[0mload\u001b[0m\u001b[1;33m(\u001b[0m\u001b[1;34m'datasets/numpy_files/arr'\u001b[0m\u001b[1;33m)\u001b[0m\u001b[1;33m\u001b[0m\u001b[0m\n\u001b[0m",
      "\u001b[1;32m~\\Anaconda3\\lib\\site-packages\\numpy\\lib\\npyio.py\u001b[0m in \u001b[0;36mload\u001b[1;34m(file, mmap_mode, allow_pickle, fix_imports, encoding)\u001b[0m\n\u001b[0;32m    426\u001b[0m         \u001b[0mown_fid\u001b[0m \u001b[1;33m=\u001b[0m \u001b[1;32mFalse\u001b[0m\u001b[1;33m\u001b[0m\u001b[0m\n\u001b[0;32m    427\u001b[0m     \u001b[1;32melse\u001b[0m\u001b[1;33m:\u001b[0m\u001b[1;33m\u001b[0m\u001b[0m\n\u001b[1;32m--> 428\u001b[1;33m         \u001b[0mfid\u001b[0m \u001b[1;33m=\u001b[0m \u001b[0mopen\u001b[0m\u001b[1;33m(\u001b[0m\u001b[0mos_fspath\u001b[0m\u001b[1;33m(\u001b[0m\u001b[0mfile\u001b[0m\u001b[1;33m)\u001b[0m\u001b[1;33m,\u001b[0m \u001b[1;34m\"rb\"\u001b[0m\u001b[1;33m)\u001b[0m\u001b[1;33m\u001b[0m\u001b[0m\n\u001b[0m\u001b[0;32m    429\u001b[0m         \u001b[0mown_fid\u001b[0m \u001b[1;33m=\u001b[0m \u001b[1;32mTrue\u001b[0m\u001b[1;33m\u001b[0m\u001b[0m\n\u001b[0;32m    430\u001b[0m \u001b[1;33m\u001b[0m\u001b[0m\n",
      "\u001b[1;31mFileNotFoundError\u001b[0m: [Errno 2] No such file or directory: 'datasets/numpy_files/arr'"
     ]
    }
   ],
   "source": [
    "# Will result in FileNotFoundError\n",
    "load_arr = np.load('datasets/numpy_files/arr')"
   ]
  },
  {
   "cell_type": "markdown",
   "metadata": {},
   "source": [
    "# 3. Data Analysis with pandas"
   ]
  },
  {
   "cell_type": "markdown",
   "metadata": {},
   "source": [
    "## Introduction"
   ]
  },
  {
   "cell_type": "markdown",
   "metadata": {},
   "source": [
    "An overview of data analysis with pandas."
   ]
  },
  {
   "cell_type": "markdown",
   "metadata": {},
   "source": [
    "We will be using [pandas](https://en.wikipedia.org/wiki/Pandas_(software)) to analyze Major League Baseball (MLB) data. The data comes courtesy of [Sean Lahman](https://en.wikipedia.org/wiki/Sean_Lahman), and contains statistics for every player, manager, and team in MLB history. The full database can be found and downloaded [here](http://www.seanlahman.com/baseball-archive/statistics/)."
   ]
  },
  {
   "cell_type": "markdown",
   "metadata": {},
   "source": [
    "### A. Data analysis"
   ]
  },
  {
   "cell_type": "markdown",
   "metadata": {},
   "source": [
    "Before doing any task with a dataset, it is a good idea to perform preliminary [data analysis](https://en.wikipedia.org/wiki/Data_analysis). Data analysis allows us to understand the dataset, find potential outlier values, and figure out which features of the dataset are most important to our application."
   ]
  },
  {
   "cell_type": "markdown",
   "metadata": {},
   "source": [
    "### B. pandas"
   ]
  },
  {
   "cell_type": "markdown",
   "metadata": {},
   "source": [
    "Since most machine learning frameworks (e.g. TensorFlow) are built on Python, it is beneficial to use a Python-based data analysis toolkit like pandas. pandas (all lowercase) is an excellent tool for processing and analyzing real world data, with utilities ranging from parsing multiple file formats to converting an entire data table into a NumPy matrix array.\n",
    "\n",
    "We'll dive into the main data analysis functionalities of pandas. For a complete overview of the pandas toolkit, you can visit the official [pandas website](https://pandas.pydata.org/pandas-docs/stable/)."
   ]
  },
  {
   "cell_type": "markdown",
   "metadata": {},
   "source": [
    "### C. Matplotlib and pyplot"
   ]
  },
  {
   "cell_type": "markdown",
   "metadata": {},
   "source": [
    "An essential part of data analysis is creating charts and plots to visualize the data. Similar to the saying, \"a picture is worth a thousand words\", data visualization can convey key data trends and correlations through a single figure.\n",
    "\n",
    "The library we will use for data visualization in Python is [Matplotlib](https://en.wikipedia.org/wiki/Matplotlib). Specifically, we'll be using the [pyplot](https://matplotlib.org/api/pyplot_api.html) API of Matplotlib, which provides a variety of plotting tools from simple line plots to advanced visuals like heatmaps and 3-D plots. While we will only touch on the basic necessities for our data analysis (e.g. line plots, boxplots, etc.), a full overview of Matplotlib can be found at the official [website](https://matplotlib.org/index.html)."
   ]
  },
  {
   "cell_type": "markdown",
   "metadata": {},
   "source": [
    "## Series\n",
    "\n",
    "The pandas Series object for 1-D data."
   ]
  },
  {
   "cell_type": "markdown",
   "metadata": {},
   "source": [
    "### Goals\n",
    "\n",
    "* Explore the pandas Series object and its basic utilities\n",
    "* Write code to create several Series objects"
   ]
  },
  {
   "cell_type": "markdown",
   "metadata": {},
   "source": [
    "### A. 1-D data"
   ]
  },
  {
   "cell_type": "markdown",
   "metadata": {},
   "source": [
    "Similar to NumPy, pandas frequently deals with 1-D and 2-D data. However, we use two separate objects to deal with 1-D and 2-D data in pandas. For 1-D data, we use the  `pandas.Series`  objects, which we'll refer to simply as a Series.\n",
    "\n",
    "A Series is created through the  `pd.Series`  constructor, which takes in no required arguments but does have a variety of keyword arguments.\n",
    "\n",
    "The first keyword argument is  `data` , which specifies the elements of the Series. If  `data`  is not set,  `pd.Series`  returns an empty Series. Since the  `data`  keyword argument is almost always used, we treat it like a regular first argument (i.e. skip the  `data=`  prefix).\n",
    "\n",
    "Similar to the  `np.array`  constructor,  `pd.Series`  also takes in the  `dtype`  keyword argument for manual casting.\n",
    "\n",
    "The code below shows how to create pandas Series objects using  `pd.Series` ."
   ]
  },
  {
   "cell_type": "code",
   "execution_count": 146,
   "metadata": {},
   "outputs": [
    {
     "name": "stdout",
     "output_type": "stream",
     "text": [
      "Series([], dtype: float64)\n",
      "\n"
     ]
    }
   ],
   "source": [
    "series = pd.Series()\n",
    "# Newline to separate series print statements\n",
    "print('{}\\n'.format(series))"
   ]
  },
  {
   "cell_type": "code",
   "execution_count": 147,
   "metadata": {},
   "outputs": [
    {
     "name": "stdout",
     "output_type": "stream",
     "text": [
      "0    5\n",
      "dtype: int64\n",
      "\n"
     ]
    }
   ],
   "source": [
    "series = pd.Series(5)\n",
    "print('{}\\n'.format(series))"
   ]
  },
  {
   "cell_type": "code",
   "execution_count": 148,
   "metadata": {},
   "outputs": [
    {
     "name": "stdout",
     "output_type": "stream",
     "text": [
      "0    1\n",
      "1    2\n",
      "2    3\n",
      "dtype: int64\n",
      "\n"
     ]
    }
   ],
   "source": [
    "series = pd.Series([1, 2, 3])\n",
    "print('{}\\n'.format(series))"
   ]
  },
  {
   "cell_type": "code",
   "execution_count": 149,
   "metadata": {},
   "outputs": [
    {
     "data": {
      "text/plain": [
       "0    1.0\n",
       "1    2.2\n",
       "dtype: float64"
      ]
     },
     "execution_count": 149,
     "metadata": {},
     "output_type": "execute_result"
    }
   ],
   "source": [
    "series = pd.Series([1, 2.2]) # upcasting\n",
    "series"
   ]
  },
  {
   "cell_type": "code",
   "execution_count": 150,
   "metadata": {},
   "outputs": [
    {
     "data": {
      "text/plain": [
       "0    1.0\n",
       "1    2.0\n",
       "dtype: float32"
      ]
     },
     "execution_count": 150,
     "metadata": {},
     "output_type": "execute_result"
    }
   ],
   "source": [
    "arr = np.array([1, 2])\n",
    "series = pd.Series(arr, dtype=np.float32)\n",
    "series"
   ]
  },
  {
   "cell_type": "code",
   "execution_count": 151,
   "metadata": {},
   "outputs": [
    {
     "data": {
      "text/plain": [
       "0    [1, 2]\n",
       "1    [3, 4]\n",
       "dtype: object"
      ]
     },
     "execution_count": 151,
     "metadata": {},
     "output_type": "execute_result"
    }
   ],
   "source": [
    "series = pd.Series([[1, 2], [3, 4]])\n",
    "series"
   ]
  },
  {
   "cell_type": "markdown",
   "metadata": {},
   "source": [
    "In our examples, we initialized each Series with its values by setting the first argument using a scalar, list, or NumPy array. Note that  `pd.Series`  upcasts values in the same way as  `np.array` . Furthermore, since Series objects are 1-D, the  `ser`  variable represents a Series with lists as elements, rather than a 2-D matrix."
   ]
  },
  {
   "cell_type": "markdown",
   "metadata": {},
   "source": [
    "### B. Index"
   ]
  },
  {
   "cell_type": "markdown",
   "metadata": {},
   "source": [
    "In the previous examples, you may have noticed the zero-indexed integers to the left of the elements in each Series. These integers are collectively referred to as the  *index*  of a Series, and each individual index element is referred to as a  *label* .\n",
    "\n",
    "The default index is integers from 0 to  *n*  - 1, where  *n*  is the number of elements in the Series. However, we can specify a custom index via the  `index`  keyword argument of  `pd.Series` .\n",
    "\n",
    "The code below shows how to use the  `index`  keyword argument with  `pd.Series` ."
   ]
  },
  {
   "cell_type": "code",
   "execution_count": 152,
   "metadata": {},
   "outputs": [
    {
     "data": {
      "text/plain": [
       "a    1\n",
       "b    2\n",
       "c    3\n",
       "dtype: int64"
      ]
     },
     "execution_count": 152,
     "metadata": {},
     "output_type": "execute_result"
    }
   ],
   "source": [
    "series = pd.Series([1, 2, 3], index=['a', 'b', 'c'])\n",
    "series"
   ]
  },
  {
   "cell_type": "code",
   "execution_count": 153,
   "metadata": {},
   "outputs": [
    {
     "data": {
      "text/plain": [
       "a      1\n",
       "8      2\n",
       "0.3    3\n",
       "dtype: int64"
      ]
     },
     "execution_count": 153,
     "metadata": {},
     "output_type": "execute_result"
    }
   ],
   "source": [
    "series = pd.Series([1, 2, 3], index=['a', 8, 0.3])\n",
    "series"
   ]
  },
  {
   "cell_type": "markdown",
   "metadata": {},
   "source": [
    "The  `index`  keyword argument needs to be a list or array with the same length as the  `data`  argument for  `pd.Series` . The values in the  `index`  list can be any hashable type (e.g. integer, float, string)."
   ]
  },
  {
   "cell_type": "markdown",
   "metadata": {},
   "source": [
    "### C. Dictionary input"
   ]
  },
  {
   "cell_type": "markdown",
   "metadata": {},
   "source": [
    "Another way to set the index of a Series is by using a Python dictionary for the  `data`  argument. The keys of the dictionary represent the index of the Series, while each individual key is the label for its corresponding value.\n",
    "\n",
    "The code below shows how to use  `pd.Series`  with a Python dictionary as the first argument. In our example, we set  `'a'` ,  `'b'` , and  `'c'`  as the Series index, with corresponding values  `1` ,  `2` , and  `3` ."
   ]
  },
  {
   "cell_type": "code",
   "execution_count": null,
   "metadata": {},
   "outputs": [],
   "source": [
    "series = pd.Series({'a':1, 'b':2, 'c':3})\n",
    "series"
   ]
  },
  {
   "cell_type": "code",
   "execution_count": null,
   "metadata": {},
   "outputs": [],
   "source": [
    "series = pd.Series({'b':2, 'a':1, 'c':3})\n",
    "series"
   ]
  },
  {
   "cell_type": "markdown",
   "metadata": {},
   "source": [
    "## DataFrame"
   ]
  },
  {
   "cell_type": "markdown",
   "metadata": {},
   "source": [
    "the pandas DataFrame object for 2-D data."
   ]
  },
  {
   "cell_type": "markdown",
   "metadata": {},
   "source": [
    "### Goals:\n",
    "\n",
    "* Explore the pandas DataFrame object and its basic utilities\n",
    "* Write code to create and manipulate a pandas DataFrame"
   ]
  },
  {
   "cell_type": "markdown",
   "metadata": {},
   "source": [
    "### A. 2-D data"
   ]
  },
  {
   "cell_type": "markdown",
   "metadata": {},
   "source": [
    "One of the main purposes of pandas is to deal with tabular data, i.e. data that comes from tables or spreadsheets. Since tabular data contains rows and columns, it is 2-D. For working with 2-D data, we use the  `pandas.DataFrame`  object, which we'll refer to simply as a DataFrame.\n",
    "\n",
    "A DataFrame is created through the  `pd.DataFrame`  constructor, which takes in essentially the same arguments as  `pd.Series` . However, while a Series could be constructed from a scalar (representing a single value Series), a DataFrame cannot.\n",
    "\n",
    "Furthermore,  `pd.DataFrame`  takes in an additional  `columns`  keyword argument, which represents the labels for the columns (similar to how  `index`  represents the row labels).\n",
    "\n",
    "The code below shows how to use the  `pd.DataFrame`  constructor."
   ]
  },
  {
   "cell_type": "code",
   "execution_count": null,
   "metadata": {},
   "outputs": [],
   "source": [
    "df = pd.DataFrame()\n",
    "df"
   ]
  },
  {
   "cell_type": "code",
   "execution_count": null,
   "metadata": {},
   "outputs": [],
   "source": [
    "df = pd.DataFrame([5, 6])\n",
    "df"
   ]
  },
  {
   "cell_type": "code",
   "execution_count": null,
   "metadata": {},
   "outputs": [],
   "source": [
    "df = pd.DataFrame([[5,6]])\n",
    "df"
   ]
  },
  {
   "cell_type": "code",
   "execution_count": null,
   "metadata": {},
   "outputs": [],
   "source": [
    "df = pd.DataFrame([[5, 6], [1, 3]],\n",
    "                  index=['r1', 'r2'],\n",
    "                  columns=['c1', 'c2'])\n",
    "df"
   ]
  },
  {
   "cell_type": "code",
   "execution_count": null,
   "metadata": {},
   "outputs": [],
   "source": [
    "df = pd.DataFrame({'c1': [1, 2], 'c2': [3, 4]},\n",
    "                  index=['r1', 'r2'])\n",
    "df"
   ]
  },
  {
   "cell_type": "markdown",
   "metadata": {},
   "source": [
    "> Note: Note that when we use a Python dictionary for initialization, the DataFrame takes the dictionary's keys as its column labels."
   ]
  },
  {
   "cell_type": "markdown",
   "metadata": {},
   "source": [
    "### B. Upcasting"
   ]
  },
  {
   "cell_type": "markdown",
   "metadata": {},
   "source": [
    "When we initialize a DataFrame of mixed types, upcasting occurs on a per-column basis. The  `dtypes`  property returns the types in each column as a Series of types.\n",
    "\n",
    "The code below shows how upcasting works in DataFrames. You'll notice that upcasting only occurs in the first column for the DataFrame below, because the second column's values are both integers."
   ]
  },
  {
   "cell_type": "code",
   "execution_count": null,
   "metadata": {},
   "outputs": [],
   "source": [
    "upcast = pd.DataFrame([[5, 6], [1.2, 3]])\n",
    "upcast"
   ]
  },
  {
   "cell_type": "code",
   "execution_count": null,
   "metadata": {},
   "outputs": [],
   "source": [
    "# Datatypes of each column\n",
    "upcast.dtypes"
   ]
  },
  {
   "cell_type": "markdown",
   "metadata": {},
   "source": [
    "### C. Appending rows"
   ]
  },
  {
   "cell_type": "markdown",
   "metadata": {},
   "source": [
    "We can append additional rows to a given DataFrame through the  `append`  function. The required argument for the function is either a Series or DataFrame, representing the row(s) we append.\n",
    "\n",
    "Note that the  `append`  function returns the modified DataFrame but doesn't actually change the original. Furthermore, when we append a Series to the DataFrame, we either need to specify the  `name`  for the series or use the  `ignore_index`  keyword argument. Setting  `ignore_index=True`  will change the row labels to integer indexes.\n",
    "\n",
    "The code below shows example usages of the  `append`  function."
   ]
  },
  {
   "cell_type": "code",
   "execution_count": null,
   "metadata": {},
   "outputs": [],
   "source": [
    "df = pd.DataFrame([[5, 6], [1.2, 3]])\n",
    "ser = pd.Series([0, 0], name='r3')\n",
    "\n",
    "df_app = df.append(ser)\n",
    "df_app"
   ]
  },
  {
   "cell_type": "code",
   "execution_count": null,
   "metadata": {},
   "outputs": [],
   "source": [
    "df_app = df.append(ser, ignore_index=True)\n",
    "df_app"
   ]
  },
  {
   "cell_type": "code",
   "execution_count": null,
   "metadata": {},
   "outputs": [],
   "source": [
    "df2 = pd.DataFrame([[0,0],[9,9]])\n",
    "df_app = df.append(df2)\n",
    "df_app"
   ]
  },
  {
   "cell_type": "markdown",
   "metadata": {},
   "source": [
    "### D. Dropping data"
   ]
  },
  {
   "cell_type": "markdown",
   "metadata": {},
   "source": [
    "We can drop rows or columns from a given DataFrame through the  `drop`  function. There is no required argument, but the keyword arguments of the function gives us two ways to drop rows/columns from a DataFrame.\n",
    "\n",
    "The first way is using the  `labels`  keyword argument to specify the labels of the rows/columns we want to drop. We use this alongside the  `axis`  keyword argument (which has default value of  `0` ) to drop from the rows or columns axis.\n",
    "\n",
    "The second method is to directly use the  `index`  or  `columns`  keyword arguments to specify the labels of the rows or columns directly, without needing to use  `axis` .\n",
    "\n",
    "The code below shows examples on how to use the  `drop`  function."
   ]
  },
  {
   "cell_type": "code",
   "execution_count": null,
   "metadata": {},
   "outputs": [],
   "source": [
    "df = pd.DataFrame({'c1': [1, 2], 'c2': [3, 4],\n",
    "                   'c3': [5, 6]},\n",
    "                  index=['r1', 'r2'])\n",
    "df"
   ]
  },
  {
   "cell_type": "code",
   "execution_count": null,
   "metadata": {},
   "outputs": [],
   "source": [
    "# Drop row r1\n",
    "df_drop = df.drop(labels='r1')\n",
    "df_drop"
   ]
  },
  {
   "cell_type": "code",
   "execution_count": null,
   "metadata": {},
   "outputs": [],
   "source": [
    "# Drop columns c1, c3\n",
    "df_drop = df.drop(labels=['c1', 'c3'], axis=1)\n",
    "df_drop"
   ]
  },
  {
   "cell_type": "code",
   "execution_count": null,
   "metadata": {},
   "outputs": [],
   "source": [
    "df_drop = df.drop(index='r2')\n",
    "df_drop"
   ]
  },
  {
   "cell_type": "code",
   "execution_count": null,
   "metadata": {},
   "outputs": [],
   "source": [
    "df_drop = df.drop(columns='c2')\n",
    "df_drop"
   ]
  },
  {
   "cell_type": "code",
   "execution_count": null,
   "metadata": {},
   "outputs": [],
   "source": [
    "df.drop(index='r2', columns='c2')\n",
    "df_drop"
   ]
  },
  {
   "cell_type": "markdown",
   "metadata": {},
   "source": [
    "Similar to  `append` , the  `drop`  function returns the modified DataFrame but doesn't actually change the original.\n",
    "\n",
    "\n",
    "> Note: When using  `labels`  and  `axis` , we can't drop both rows and columns from the DataFrame."
   ]
  },
  {
   "cell_type": "markdown",
   "metadata": {},
   "source": [
    "## Combining"
   ]
  },
  {
   "cell_type": "markdown",
   "metadata": {},
   "source": [
    "Combine multiple DataFrames through concatenation and merging."
   ]
  },
  {
   "cell_type": "markdown",
   "metadata": {},
   "source": [
    "### Goals:\n",
    "\n",
    "* Understand the methods used to combine DataFrame objects\n",
    "* Write code for combining DataFrames\n",
    "\n",
    "we discussed the  `append`  function for concatenating DataFrame rows. To concatenate multiple DataFrames along either rows or columns, we use the  `pd.concat`  function.\n",
    "\n",
    "The code below shows example usages of  `pd.concat` ."
   ]
  },
  {
   "cell_type": "code",
   "execution_count": null,
   "metadata": {},
   "outputs": [],
   "source": [
    "df1 = pd.DataFrame({'c1':[1,2], 'c2':[3,4]},\n",
    "                   index=['r1','r2'])\n",
    "df1\n"
   ]
  },
  {
   "cell_type": "code",
   "execution_count": null,
   "metadata": {},
   "outputs": [],
   "source": [
    "df2 = pd.DataFrame({'c1':[5,6], 'c2':[7,8]},\n",
    "                   index=['r1','r2'])\n",
    "df2\n"
   ]
  },
  {
   "cell_type": "code",
   "execution_count": null,
   "metadata": {},
   "outputs": [],
   "source": [
    "df3 = pd.DataFrame({'c1':[5,6], 'c2':[7,8]})\n",
    "df3\n"
   ]
  },
  {
   "cell_type": "code",
   "execution_count": null,
   "metadata": {},
   "outputs": [],
   "source": [
    "concat = pd.concat([df1, df2], axis=1)\n",
    "concat"
   ]
  },
  {
   "cell_type": "code",
   "execution_count": null,
   "metadata": {},
   "outputs": [],
   "source": [
    "concat = pd.concat([df2, df1, df3])\n",
    "concat"
   ]
  },
  {
   "cell_type": "code",
   "execution_count": null,
   "metadata": {},
   "outputs": [],
   "source": [
    "concat = pd.concat([df1, df3], axis=1)\n",
    "concat"
   ]
  },
  {
   "cell_type": "markdown",
   "metadata": {},
   "source": [
    "The  `pd.concat`  function takes in a list of pandas objects (normally a list of DataFrames) to concatenate. The function also takes in numerous keyword arguments, with  `axis`  being one of the more important ones. The  `axis`  argument specifies whether we concatenate the rows ( `axis=0` , the default), or concatenate the columns ( `axis=1` ).\n",
    "\n",
    "This works very similarly to [concatenation in NumPy](https://www.educative.io/collection/page/6083138522447872/5629499534213120/5697982787747840/)\n",
    "\n",
    "In the code example, the final call to  `pd.concat`  resulted in a DataFrame with many  `NaN`  values. This is because the row labels for  `df1`  and  `df3`  did not match, so result was padded with  `NaN`  in locations where values did not exist."
   ]
  },
  {
   "cell_type": "markdown",
   "metadata": {},
   "source": [
    "### B. Merging"
   ]
  },
  {
   "cell_type": "markdown",
   "metadata": {},
   "source": [
    "Apart from combining DataFrames through concatenation, we can also merge multiple DataFrames. The function we use is  `pd.merge` , which takes in two DataFrames for its two required arguments.\n",
    "\n",
    "The code below shows how to use  `pd.merge` ."
   ]
  },
  {
   "cell_type": "code",
   "execution_count": null,
   "metadata": {},
   "outputs": [],
   "source": [
    "mlb_df1 = pd.DataFrame({'name': ['john doe', 'al smith', 'sam black', 'john doe'],\n",
    "                        'pos': ['1B', 'C', 'P', '2B'],\n",
    "                        'year': [2000, 2004, 2008, 2003]})\n",
    "mlb_df1"
   ]
  },
  {
   "cell_type": "code",
   "execution_count": null,
   "metadata": {},
   "outputs": [],
   "source": [
    "mlb_df2 = pd.DataFrame({'name': ['john doe', 'al smith', 'jack lee'],\n",
    "                        'year': [2000, 2004, 2012],\n",
    "                        'rbi': [80, 100, 12]})\n",
    "mlb_df2                        "
   ]
  },
  {
   "cell_type": "code",
   "execution_count": null,
   "metadata": {},
   "outputs": [],
   "source": [
    "mlb_merged = pd.merge(mlb_df1, mlb_df2)\n",
    "mlb_merged"
   ]
  },
  {
   "cell_type": "markdown",
   "metadata": {},
   "source": [
    "Without using any keyword arguments,  `pd.merge`  joins two DataFrames using all their common column labels. In the code example, the common labels between  `mlb_df1`  and  `mlb_df2`  were  `name`  and  `year` .\n",
    "\n",
    "The rows that contain the exact same values for the common column labels will be merged. Since  `'john doe'`  for year  `2000`  was in both  `mlb_df1`  and  `mlb_df2` , its row was merged. However,  `'john doe'`  for year  `2003`  was only in  `mlb_df1` , so its row was not merged.\n",
    "\n",
    "The  `pd.merge`  function takes in many keyword arguments, but often none are needed to properly merge two DataFrames."
   ]
  },
  {
   "cell_type": "markdown",
   "metadata": {},
   "source": [
    "## Indexing\n",
    "\n",
    "Understand how DataFrame values can be accessed via indexing."
   ]
  },
  {
   "cell_type": "markdown",
   "metadata": {},
   "source": [
    "### Goals:\n",
    "\n",
    "* Explore how to index a DataFrame to retrieve rows and columns\n",
    "* Write code for indexing a DataFrame"
   ]
  },
  {
   "cell_type": "markdown",
   "metadata": {},
   "source": [
    "### A. Direct indexing"
   ]
  },
  {
   "cell_type": "markdown",
   "metadata": {},
   "source": [
    "When indexing into a DataFrame, we can treat the DataFrame as a dictionary of Series objects, where each column represents a Series. Each column label then becomes a key, allowing us to directly retrieve columns using dictionary-like bracket notation.\n",
    "\n",
    "The code below shows how to directly index into a DataFrame's columns."
   ]
  },
  {
   "cell_type": "code",
   "execution_count": null,
   "metadata": {},
   "outputs": [],
   "source": [
    "df = pd.DataFrame({'c1': [1, 2], 'c2': [3, 4],\n",
    "                   'c3': [5, 6]}, index=['r1', 'r2'])\n",
    "col1 = df['c1']\n",
    "col1"
   ]
  },
  {
   "cell_type": "code",
   "execution_count": null,
   "metadata": {},
   "outputs": [],
   "source": [
    "col1_df = df[['c1']]\n",
    "col1_df"
   ]
  },
  {
   "cell_type": "code",
   "execution_count": null,
   "metadata": {},
   "outputs": [],
   "source": [
    "col23 = df[['c2', 'c3']]\n",
    "col23"
   ]
  },
  {
   "cell_type": "markdown",
   "metadata": {},
   "source": [
    "Note that when we use a single column label inside the bracket (as was the case for  `col1`  in the code example), the output is a Series representing the corresponding column. When we use a list of column labels (as was the case for  `col1_df`  and  `col23` ), the output is a DataFrame that contains the corresponding columns.\n",
    "\n",
    "We can also use direct indexing to retrieve a subset of the rows (as a DataFrame). However, we can only retrieve rows based on slices, rather than specifying particular rows.\n",
    "\n",
    "The code below shows how to directly index into a DataFrame's rows."
   ]
  },
  {
   "cell_type": "code",
   "execution_count": null,
   "metadata": {},
   "outputs": [],
   "source": [
    "df = pd.DataFrame({'c1': [1, 2, 3], 'c2': [4, 5, 6],\n",
    "                   'c3': [7, 8, 9]}, index=['r1', 'r2', 'r3'])\n",
    "df"
   ]
  },
  {
   "cell_type": "code",
   "execution_count": null,
   "metadata": {},
   "outputs": [],
   "source": [
    "first_two_rows = df[0:2]\n",
    "first_two_rows"
   ]
  },
  {
   "cell_type": "code",
   "execution_count": null,
   "metadata": {},
   "outputs": [],
   "source": [
    "last_two_rows = df['r2':'r3']\n",
    "last_two_rows"
   ]
  },
  {
   "cell_type": "code",
   "execution_count": null,
   "metadata": {},
   "outputs": [],
   "source": [
    "# Results in KeyError\n",
    "df['r1']"
   ]
  },
  {
   "cell_type": "markdown",
   "metadata": {},
   "source": [
    "You'll notice that when we used integer indexing for the rows, the end index was exclusive (e.g.  `first_two_rows`  excluded the row at index 2). However, when we use row labels, the end index is inclusive (e.g.  `last_two_rows`  included the row labeled  `'r3'` ).\n",
    "\n",
    "Furthermore, when we tried to retrieve a single row based on its label, we received a  `KeyError` . This is because the DataFrame treated  `'r1'`  as a column label."
   ]
  },
  {
   "cell_type": "markdown",
   "metadata": {},
   "source": [
    "### B. Other indexing"
   ]
  },
  {
   "cell_type": "markdown",
   "metadata": {},
   "source": [
    "Apart from direct indexing, a DataFrame object also contains the  `loc`  and  `iloc`  properties for indexing.\n",
    "\n",
    "We use  `iloc`  to access rows based on their integer index. Using  `iloc`  we can access a single row as a Series, and specify particular rows to access through a list of integers or a boolean array.\n",
    "\n",
    "The code below shows how to use  `iloc`  to access a DataFrame's rows."
   ]
  },
  {
   "cell_type": "code",
   "execution_count": null,
   "metadata": {},
   "outputs": [],
   "source": [
    "df = pd.DataFrame({'c1': [1, 2, 3], 'c2': [4, 5, 6],\n",
    "                   'c3': [7, 8, 9]}, index=['r1', 'r2', 'r3'])\n",
    "                   \n",
    "df"
   ]
  },
  {
   "cell_type": "code",
   "execution_count": null,
   "metadata": {},
   "outputs": [],
   "source": [
    "df.iloc[1]"
   ]
  },
  {
   "cell_type": "code",
   "execution_count": null,
   "metadata": {},
   "outputs": [],
   "source": [
    "df.iloc[[0, 2]]"
   ]
  },
  {
   "cell_type": "code",
   "execution_count": null,
   "metadata": {},
   "outputs": [],
   "source": [
    "bool_list = [False, True, True]\n",
    "df.iloc[bool_list]"
   ]
  },
  {
   "cell_type": "markdown",
   "metadata": {},
   "source": [
    "The  `loc`  property provides the same row indexing functionality as  `iloc` , but uses row labels rather than integer indexes. Furthermore, with  `loc`  we can perform column indexing along with row indexing, and set new values in a DataFrame for specific rows and columns.\n",
    "\n",
    "The code below shows example usages of  `loc` ."
   ]
  },
  {
   "cell_type": "code",
   "execution_count": null,
   "metadata": {},
   "outputs": [],
   "source": [
    "df = pd.DataFrame({'c1': [1, 2, 3], 'c2': [4, 5, 6],\n",
    "                   'c3': [7, 8, 9]}, index=['r1', 'r2', 'r3'])\n",
    "                   \n",
    "df"
   ]
  },
  {
   "cell_type": "code",
   "execution_count": null,
   "metadata": {},
   "outputs": [],
   "source": [
    "df.loc['r2']"
   ]
  },
  {
   "cell_type": "code",
   "execution_count": null,
   "metadata": {},
   "outputs": [],
   "source": [
    "bool_list = [False, True, True]\n",
    "df.loc[bool_list]"
   ]
  },
  {
   "cell_type": "code",
   "execution_count": null,
   "metadata": {},
   "outputs": [],
   "source": [
    "single_val = df.loc['r1', 'c2']\n",
    "single_val"
   ]
  },
  {
   "cell_type": "code",
   "execution_count": null,
   "metadata": {},
   "outputs": [],
   "source": [
    "df.loc[['r1', 'r3'], 'c2']"
   ]
  },
  {
   "cell_type": "code",
   "execution_count": null,
   "metadata": {},
   "outputs": [],
   "source": [
    "df.loc[['r1', 'r3'], 'c2'] = 0\n",
    "df"
   ]
  },
  {
   "cell_type": "markdown",
   "metadata": {},
   "source": [
    "You'll notice that the way we access rows and columns together with  `loc`  is similar to how we access 2-D NumPy arrays.\n",
    "\n",
    "Since we can't access columns on their own with  `loc`  or  `iloc` , we still use bracket indexing when retrieving columns of a DataFrame."
   ]
  },
  {
   "cell_type": "markdown",
   "metadata": {},
   "source": [
    "## File I/O\n",
    "\n",
    "Read from and write to different types of files in pandas."
   ]
  },
  {
   "cell_type": "markdown",
   "metadata": {},
   "source": [
    "### Goals:\n",
    "\n",
    "* Explore how to handle file input/output using pandas\n",
    "* Write code for processing data files"
   ]
  },
  {
   "cell_type": "markdown",
   "metadata": {},
   "source": [
    "### A. Reading data"
   ]
  },
  {
   "cell_type": "markdown",
   "metadata": {},
   "source": [
    "One of the most important features in pandas is the ability to read from data files. pandas accepts a variety of file formats, ranging from CSV and Excel spreadsheets to SQL and even HTML. A full list of the available file formats for pandas can be found [here](http://pandas.pydata.org/pandas-docs/stable/io.html).\n",
    "\n",
    "In this chapter we'll focus on three of the most common file types: [CSV](https://en.wikipedia.org/wiki/Comma-separated_values), [XLSX (Microsoft Excel)](https://en.wikipedia.org/wiki/Microsoft_Excel), and [JSON](https://en.wikipedia.org/wiki/JSON). For reading data from a file, we use either the  `read_csv` ,  `read_excel` , or  `read_json`  function, depending on the file type.\n",
    "\n",
    "Each of the file reading functions takes in a file path as the only required argument. Each function has numerous keyword arguments, so we won't get into most of them. However, we'll still discuss a couple of the more commonly used keyword arguments.\n",
    "\n",
    "#### CSV\n",
    "\n",
    "A CSV file is pretty straightforward; it's just comma-separated column names and values. When we don't use any keyword arguments,  `pd.read_csv`  returns a DataFrame with integer indexes as row labels, and each comma-separated column name as the column labels.\n",
    "\n",
    "However, when we set the  `index_col`  keyword argument, we specify which column we want to use as the row labels. In our example, we used the first and second column as row labels.\n",
    "\n",
    "The code below shows how to use  `pd.read_csv` ."
   ]
  },
  {
   "cell_type": "code",
   "execution_count": null,
   "metadata": {},
   "outputs": [],
   "source": [
    "# data.csv contains baseball data\n",
    "df = pd.read_csv('datasets/data.csv')\n",
    "df"
   ]
  },
  {
   "cell_type": "code",
   "execution_count": null,
   "metadata": {},
   "outputs": [],
   "source": [
    "df = pd.read_csv('datasets/data.csv', index_col=0)\n",
    "df"
   ]
  },
  {
   "cell_type": "code",
   "execution_count": null,
   "metadata": {},
   "outputs": [],
   "source": [
    "df = pd.read_csv('datasets/data.csv', index_col=1)\n",
    "df"
   ]
  },
  {
   "cell_type": "markdown",
   "metadata": {},
   "source": [
    "#### Excel\n",
    "\n",
    "An Excel spreadsheet is similar to a CSV in its usage of rows and columns. However, the file path for  `pd.read_excel`  normally specifies an Excel workbook, which can contain multiple spreadsheets.\n",
    "\n",
    "When we don't use any keyword arguments, the returned DataFrame from  `pd.read_excel`  contains the first sheet of the Excel workbook. However, when we set the  `sheet_name`  keyword argument, we can obtain a specific spreadsheet by passing in its integer index or name.\n",
    "\n",
    "Furthermore, we obtain an ordered dictionary of spreadsheets by passing in a list of integers or sheet names. Setting  `sheet_name=None`  returns all the sheets in an ordered dictionary.\n",
    "\n",
    "Like  `pd.read_csv` , we can also specify the  `index_col`  argument in  `pd.read_excel` ."
   ]
  },
  {
   "cell_type": "code",
   "execution_count": null,
   "metadata": {},
   "outputs": [],
   "source": [
    "# data.csv contains baseball data\n",
    "df = pd.read_excel('data.xlsx')\n",
    "\n",
    "# Newline to separate print statements\n",
    "print('{}\\n'.format(df))\n",
    "\n",
    "print('Sheet 1 (0-indexed) DataFrame:')\n",
    "df = pd.read_excel('data.xlsx', sheet_name=1)\n",
    "print('{}\\n'.format(df))\n",
    "\n",
    "print('MIL DataFrame:')\n",
    "df = pd.read_excel('data.xlsx', sheet_name='MIL')\n",
    "print('{}\\n'.format(df))\n",
    "\n",
    "# Sheets 0 and 1\n",
    "df_dict = pd.read_excel('data.xlsx', sheet_name=[0, 1])\n",
    "print('{}\\n'.format(df_dict[1]))\n",
    "\n",
    "# All Sheets\n",
    "df_dict = pd.read_excel('data.xlsx', sheet_name=None)\n",
    "print(df_dict.keys())"
   ]
  },
  {
   "cell_type": "markdown",
   "metadata": {},
   "source": [
    "#### JSON\n",
    "\n",
    "JSON data is pretty similar to a Python dictionary. In fact, you can use the  `json`  module (part of the Python standard library) to convert between dictionaries and JSON data. The file path for  `pd.read_json`  specifies a file containing JSON data.\n",
    "\n",
    "When we don't use any keyword arguments,  `pd.read_json`  treats each outer key of the JSON data as a column label and each inner key as a row label. In the code example below, you can see  `df1`  treats the player's names as column labels.\n",
    "\n",
    "However, when we set  `orient='index'` , the outer keys are treated as row labels and the inner keys are treated as column labels."
   ]
  },
  {
   "cell_type": "code",
   "execution_count": null,
   "metadata": {},
   "outputs": [],
   "source": [
    "# data is the JSON data (as a Python dict)\n",
    "data={'jack doe': {'pos': '1B', 'HR': 4}, 'tom june': {'pos': 'P', 'HR': 31}}\n",
    "print('{}\\n'.format(data))"
   ]
  },
  {
   "cell_type": "code",
   "execution_count": null,
   "metadata": {},
   "outputs": [],
   "source": [
    "df1 = pd.read_json('data.json')\n",
    "print('{}\\n'.format(df1))\n",
    "\n",
    "df2 = pd.read_json('data.json', orient='index')\n",
    "print('{}\\n'.format(df2))"
   ]
  },
  {
   "cell_type": "markdown",
   "metadata": {},
   "source": [
    "### B. Writing to files"
   ]
  },
  {
   "cell_type": "markdown",
   "metadata": {},
   "source": [
    "We can also use pandas to write data to a file. Focusing again on CSV, Excel, and JSON, the functions we use to write to files are  `to_csv` ,  `to_excel` , and  `to_json` .\n",
    "\n",
    "Similar to the file reading functions, each of the writing functions has dozens of keyword arguments. Therefore, we'll only go over a few of the commonly used ones.\n",
    "\n",
    "#### CSV\n",
    "\n",
    "Note that when we don't use any keyword arguments,  `to_csv`  will write the row labels as the first column in the CSV file. This is fine if the row labels are meaningful, but if they are just integers we don't really want them in the CSV file. In that case, we set  `index=False` , to specify that we don't write the row labels into the CSV file."
   ]
  },
  {
   "cell_type": "code",
   "execution_count": null,
   "metadata": {},
   "outputs": [],
   "source": [
    "# Predefined mlb_df\n",
    "print('{}\\n'.format(mlb_df))\n",
    "\n",
    "# Index is kept when writing\n",
    "mlb_df.to_csv('data.csv')\n",
    "df = pd.read_csv('data.csv')\n",
    "print('{}\\n'.format(df))\n",
    "\n",
    "# Index is not kept when writing\n",
    "mlb_df.to_csv('data.csv', index=False)\n",
    "df = pd.read_csv('data.csv')\n",
    "print('{}\\n'.format(df))"
   ]
  },
  {
   "cell_type": "markdown",
   "metadata": {},
   "source": [
    "#### Excel\n",
    "\n",
    "The basic  `to_excel`  function will only write a single DataFrame to a spreadsheet. However, if we want to write multiple spreadsheets in an Excel workbook, we first load the Excel file into a  `pd.ExcelWriter`  then use the ExcelWriter as the first argument to  `to_excel` .\n",
    "\n",
    "When we don't specify the  `sheet_name`  keyword argument, the Excel spreadsheet we write to is named  `'Sheet1'` . We can pass in custom names into  `sheet_name`  to avoid constantly writing to  `'Sheet1'` ."
   ]
  },
  {
   "cell_type": "code",
   "execution_count": null,
   "metadata": {},
   "outputs": [],
   "source": [
    "# Predefined DataFrames\n",
    "print('{}\\n'.format(mlb_df1))\n",
    "print('{}\\n'.format(mlb_df2))\n",
    "\n",
    "with pd.ExcelWriter('data.xlsx') as writer:\n",
    "    mlb_df1.to_excel(writer, index=False, sheet_name='NYY')\n",
    "    mlb_df2.to_excel(writer, index=False, sheet_name='BOS')\n",
    "  \n",
    "df_dict = pd.read_excel('data.xlsx', sheet_name=None)\n",
    "print(df_dict.keys())\n",
    "print('{}\\n'.format(df_dict['BOS']))"
   ]
  },
  {
   "cell_type": "markdown",
   "metadata": {},
   "source": [
    "#### JSON\n",
    "\n",
    "The  `to_json`  function also uses the  `orient`  keyword argument that was part of  `pd.read_json` . Like in  `pd.read_json` , setting  `orient='index'`  will set the outer keys of the JSON data to the row labels and the inner keys to the column labels.\n",
    "\n",
    "The code below shows how to use  `to_json` ."
   ]
  },
  {
   "cell_type": "code",
   "execution_count": null,
   "metadata": {},
   "outputs": [],
   "source": [
    "# Predefined df\n",
    "df"
   ]
  },
  {
   "cell_type": "code",
   "execution_count": null,
   "metadata": {},
   "outputs": [],
   "source": [
    "df.to_json('datasets/data.json')\n",
    "df2 = pd.read_json('datasets/data.json')\n",
    "df2"
   ]
  },
  {
   "cell_type": "code",
   "execution_count": null,
   "metadata": {},
   "outputs": [],
   "source": [
    "df.to_json('datasets/data.json', orient='index')\n",
    "df2 = pd.read_json('datasets/data.json')\n",
    "df2"
   ]
  },
  {
   "cell_type": "code",
   "execution_count": null,
   "metadata": {},
   "outputs": [],
   "source": [
    "df2 = pd.read_json('datasets/data.json', orient='index')\n",
    "df2"
   ]
  },
  {
   "cell_type": "markdown",
   "metadata": {},
   "source": [
    "## Grouping\n",
    "\n",
    "Exploring how DataFrames can be grouped based on particular columns."
   ]
  },
  {
   "cell_type": "markdown",
   "metadata": {},
   "source": [
    "### Goals:\n",
    "\n",
    "* Exploring how to group DataFrames by columns\n",
    "* Write code to retrieve home run statistics through DataFrame grouping"
   ]
  },
  {
   "cell_type": "markdown",
   "metadata": {},
   "source": [
    "### A. Grouping by column"
   ]
  },
  {
   "cell_type": "markdown",
   "metadata": {},
   "source": [
    "When dealing with large amounts of data, it is usually a good idea to group the data by common categories. For example, we could group a large dataset of MLB player statistics by year, so we can deal with each year's data separately.\n",
    "\n",
    "With pandas DataFrames, we can perform dataset grouping with the  `groupby`  function. A common usage of the function is to group a DataFrame by values from a particular column, e.g. a column representing years.\n",
    "\n",
    "The code below shows how to use the  `groupby`  function, with the example of grouping MLB data by year."
   ]
  },
  {
   "cell_type": "code",
   "execution_count": null,
   "metadata": {},
   "outputs": [],
   "source": [
    "mlb = pd.read_csv(\"datasets/mlb.csv\")\n",
    "mlb"
   ]
  },
  {
   "cell_type": "code",
   "execution_count": null,
   "metadata": {},
   "outputs": [],
   "source": [
    "groups = mlb.groupby('yearID')\n",
    "for name, group in groups:\n",
    "    print('Year: {}'.format(name))\n",
    "    print('{}\\n'.format(group))"
   ]
  },
  {
   "cell_type": "code",
   "execution_count": null,
   "metadata": {},
   "outputs": [],
   "source": [
    "groups.get_group(2016)"
   ]
  },
  {
   "cell_type": "code",
   "execution_count": null,
   "metadata": {},
   "outputs": [],
   "source": [
    "groups.sum()"
   ]
  },
  {
   "cell_type": "code",
   "execution_count": null,
   "metadata": {},
   "outputs": [],
   "source": [
    "groups.mean()\n"
   ]
  },
  {
   "cell_type": "markdown",
   "metadata": {},
   "source": [
    "The grouping code example produced three DataFrames for the years 2015, 2016, and 2017. The three DataFrame groups are contained in the  `groups`  variable, and we used its  `sum`  and  `mean`  functions to retrieve the total and average per-year statistics.\n",
    "\n",
    "In addition to aggregation functions like  `sum`  and  `mean` , we can also filter the groups using  `filter` . The  `filter`  function takes in another function as its required argument, which specifies how we want to filter the groups. The output of  `filter`  is the concatenation of all the groups that pass the filter.\n",
    "\n",
    "The code below shows how to use the  `filter`  function."
   ]
  },
  {
   "cell_type": "code",
   "execution_count": null,
   "metadata": {},
   "outputs": [],
   "source": [
    "no2015 = groups.filter(lambda x: x.name > 2015)\n",
    "no2015"
   ]
  },
  {
   "cell_type": "markdown",
   "metadata": {},
   "source": [
    "In the above code example, the lambda function passed into  `filter`  returns  `True`  if the group (represented as  `x` ) represents a year greater than 2015. The output is the concatenation of the 2016 and 2017 groups."
   ]
  },
  {
   "cell_type": "markdown",
   "metadata": {},
   "source": [
    "### B. Multiple columns"
   ]
  },
  {
   "cell_type": "markdown",
   "metadata": {},
   "source": [
    "DataFrame grouping is not just limited to a single column. Rather than passing a single column label into  `groupby` , we can use a list of column labels to specify grouping by multiple columns.\n",
    "\n",
    "Grouping by multiple columns can be useful when multiple data features have many different values. For example, if our dataset consisted of MLB players, grouping by both team and year would give us an organized way to view a team's roster throughout the years."
   ]
  },
  {
   "cell_type": "code",
   "execution_count": null,
   "metadata": {},
   "outputs": [],
   "source": [
    "player_df = pd.read_csv('datasets/player.csv')\n",
    "player_df"
   ]
  },
  {
   "cell_type": "code",
   "execution_count": null,
   "metadata": {},
   "outputs": [],
   "source": [
    "# player_df is predefined\n",
    "groups = player_df.groupby(['yearID', 'teamID'])\n",
    "\n",
    "for name, group in groups:\n",
    "    print('Year, Team: {}'.format(name))\n",
    "    display(group)"
   ]
  },
  {
   "cell_type": "markdown",
   "metadata": {},
   "source": [
    "In the code above, we grouped the MLB data by both year and team, resulting in each group's name being a tuple of year and team. Using the  `sum`  function, we obtained the annual total hits for each team."
   ]
  },
  {
   "cell_type": "markdown",
   "metadata": {},
   "source": [
    "## Features\n",
    "\n",
    "Explore the different feature types that can be part of a dataset."
   ]
  },
  {
   "cell_type": "markdown",
   "metadata": {},
   "source": [
    "### Goals:\n",
    "\n",
    "* Understand the difference between quantitative and categorical features\n",
    "* Explore the methods to manipulate features and add them to a DataFrame\n",
    "* Write code to add MLB statistics to a DataFrame"
   ]
  },
  {
   "cell_type": "markdown",
   "metadata": {},
   "source": [
    "### A. Quantitative vs. categorical"
   ]
  },
  {
   "cell_type": "markdown",
   "metadata": {},
   "source": [
    "We often refer to the columns of a DataFrame as the  *features*  of the dataset that it represents. These features can be quantitative or categorical.\n",
    "\n",
    "A quantitative feature, e.g. height or weight, is a feature that can be measured numerically. These are features we could calculate the sum, mean, or other numerical metrics for.\n",
    "\n",
    "A categorical feature, e.g. gender or birthplace, is one where the values are categories that could be used to group the dataset. These are the features we would use with the  `groupby`  function from the previous chapter.\n",
    "\n",
    "Some features can be both quantitative or categorical, depending on the context they are used. For example, we could use year of birth as a quantitative feature if we were trying to find statistics such as the average birth year for a particular dataset. On the other hand, we could also use it as a categorical feature and group the data by the different years of birth."
   ]
  },
  {
   "cell_type": "markdown",
   "metadata": {},
   "source": [
    "### B. Quantitative features"
   ]
  },
  {
   "cell_type": "markdown",
   "metadata": {},
   "source": [
    "we focused on grouping a dataset by its categorical features. We'll now describe methods for dealing with quantitative features.\n",
    "\n",
    "Two of the most important functions to use with quantitative features are  `sum`  and  `mean` . In the previous chapter we also introduced  `sum`  and  `mean`  functions, which were used to aggregate quantitative features for each a group.\n",
    "\n",
    "However, while the functions from the previous chapter were applied to the output of  `groupby` , the ones we use in this chapter are applied to individual DataFrames.\n",
    "\n",
    "The code below shows example usages of  `sum`  and  `mean` . The  `df`  DataFrame represents three different speed tests (columns) for three different processors (rows). The data values correspond to the seconds taken for a given speed test and processor."
   ]
  },
  {
   "cell_type": "code",
   "execution_count": null,
   "metadata": {},
   "outputs": [],
   "source": [
    "df = pd.DataFrame({\n",
    "  'T1': [10, 15, 8],\n",
    "  'T2': [25, 27, 25],\n",
    "  'T3': [16, 15, 10]})\n",
    "df"
   ]
  },
  {
   "cell_type": "code",
   "execution_count": null,
   "metadata": {},
   "outputs": [],
   "source": [
    "df.sum()"
   ]
  },
  {
   "cell_type": "code",
   "execution_count": null,
   "metadata": {},
   "outputs": [],
   "source": [
    "df.sum(axis=1)"
   ]
  },
  {
   "cell_type": "code",
   "execution_count": null,
   "metadata": {},
   "outputs": [],
   "source": [
    "df.mean()"
   ]
  },
  {
   "cell_type": "code",
   "execution_count": null,
   "metadata": {},
   "outputs": [],
   "source": [
    "df.mean(axis=1)"
   ]
  },
  {
   "cell_type": "markdown",
   "metadata": {},
   "source": [
    "Neither function takes in a required argument. The most commonly used keyword argument for both functions is  `axis` . The  `axis`  argument specifies whether to aggregate over rows ( `axis=0` , the default), or columns ( `axis=1` ).\n",
    "\n",
    "In the code example, we used a DataFrame representing speed tests for three different processors (measured in seconds). When we used no argument, equivalent to using  `axis=0` , the  `sum`  and  `mean`  functions calculated total and average times for each test. When we used  `axis=1` , the  `sum`  and  `mean`  functions calculated total and average test times (across all three tests) for each processor."
   ]
  },
  {
   "cell_type": "markdown",
   "metadata": {},
   "source": [
    "### C. Weighted features"
   ]
  },
  {
   "cell_type": "markdown",
   "metadata": {},
   "source": [
    "Along with aggregating quantitative features, we can also apply weights to them. We do this through the  `multiply`  function.\n",
    "\n",
    "The  `multiply`  function takes in a list of weights or a constant as its required argument. If a constant is used, the constant is multiplied across all the rows or columns (depending on the value of  `axis` ). If a list is used, then the position of each weight in the list corresponds to which row/column it is multiplied to.\n",
    "\n",
    "In contrast with  `sum`  and  `mean` , the default  `axis`  for  `multiply`  is the columns axis. Therefore, to multiply weights along the rows of a DataFrame, we need to explicitly set  `axis=0` .\n",
    "\n",
    "The code below shows example usages of  `multiply` . The  `df`  DataFrame represents three different speed tests (columns) for two different processors (rows)."
   ]
  },
  {
   "cell_type": "code",
   "execution_count": null,
   "metadata": {},
   "outputs": [],
   "source": [
    "df = pd.DataFrame({\n",
    "  'T1': [0.1, 150.],\n",
    "  'T2': [0.25, 240.],\n",
    "  'T3': [0.16, 100.]})\n",
    "  \n",
    "df"
   ]
  },
  {
   "cell_type": "code",
   "execution_count": null,
   "metadata": {},
   "outputs": [],
   "source": [
    "df.multiply(2)"
   ]
  },
  {
   "cell_type": "code",
   "execution_count": null,
   "metadata": {},
   "outputs": [],
   "source": [
    "df_ms = df.multiply([1000, 1], axis=0)\n",
    "df_ms"
   ]
  },
  {
   "cell_type": "code",
   "execution_count": null,
   "metadata": {},
   "outputs": [],
   "source": [
    "df_w = df_ms.multiply([1,0.5,1])\n",
    "df_w"
   ]
  },
  {
   "cell_type": "code",
   "execution_count": null,
   "metadata": {},
   "outputs": [],
   "source": [
    "df_w.sum(axis=1)"
   ]
  },
  {
   "cell_type": "markdown",
   "metadata": {},
   "source": [
    "In the code above, the test times for processor  `'p1'`  were measured in seconds, while the times for  `'p2'`  were in milliseconds. So we made all the times in milliseconds by multiplying the values of  `'p1'`  by  `1000` .\n",
    "\n",
    "Then we multiplied the values in  `'T2'`  by  `0.5` , since those tests were done with two processors rather than one. This makes the final  `sum`  a  *weighted sum*  across the three columns."
   ]
  },
  {
   "cell_type": "markdown",
   "metadata": {},
   "source": [
    "## Filtering\n",
    "\n",
    "Filter DataFrames for values that fit certain conditions."
   ]
  },
  {
   "cell_type": "markdown",
   "metadata": {},
   "source": [
    "### Goals:\n",
    "\n",
    "* Understand how to filter a DataFrame based on filter conditions\n",
    "* Write code to filter a dataset of MLB statistics"
   ]
  },
  {
   "cell_type": "markdown",
   "metadata": {},
   "source": [
    "### A. Filter conditions"
   ]
  },
  {
   "cell_type": "markdown",
   "metadata": {},
   "source": [
    "In the Data Manipulation section, we used relation operations on NumPy arrays to create  *filter conditions* . These filter conditions returned boolean arrays, which represented the locations of the elements that pass the filter.\n",
    "\n",
    "In pandas, we can also create filter conditions for DataFrames. Specifically, we can use relation operations on a DataFrame's column features, which will return a boolean Series representing the DataFrame rows that pass the filter.\n",
    "\n",
    "The code below demonstrates how to use relation operations as filter conditions."
   ]
  },
  {
   "cell_type": "code",
   "execution_count": null,
   "metadata": {},
   "outputs": [],
   "source": [
    "df = pd.DataFrame({\n",
    "  'playerID': ['bettsmo01', 'canoro01', 'cruzne02', 'ortizda01', 'cruzne02'],\n",
    "  'yearID': [2016, 2016, 2016, 2016, 2017],\n",
    "  'teamID': ['BOS', 'SEA', 'SEA', 'BOS', 'SEA'],\n",
    "  'HR': [31, 39, 43, 38, 39]})\n",
    "df "
   ]
  },
  {
   "cell_type": "code",
   "execution_count": null,
   "metadata": {},
   "outputs": [],
   "source": [
    "cruzne02 = df['playerID'] == 'cruzne02'\n",
    "cruzne02"
   ]
  },
  {
   "cell_type": "code",
   "execution_count": null,
   "metadata": {},
   "outputs": [],
   "source": [
    "hr40 = df['HR'] > 40\n",
    "hr40"
   ]
  },
  {
   "cell_type": "code",
   "execution_count": null,
   "metadata": {},
   "outputs": [],
   "source": [
    "notbos = df['teamID'] != 'BOS'\n",
    "notbos"
   ]
  },
  {
   "cell_type": "markdown",
   "metadata": {},
   "source": [
    "In the code above, we created filter conditions for  `df`  based on the columns labeled  `'playerID'` ,  `'HR'` , and  `'teamID'` . The boolean Series outputs have  `True`  for the rows that pass the filter, and  `False`  for the rows that don't."
   ]
  },
  {
   "cell_type": "markdown",
   "metadata": {},
   "source": [
    "### B. Filters from functions"
   ]
  },
  {
   "cell_type": "markdown",
   "metadata": {},
   "source": [
    "Apart from relation operations, pandas provides various functions for creating specific filter conditions. For columns with string values, we can use  `str.startswith` ,  `str.endswith` , and  `str.contains`  to filter for specific strings. These functions work the exact same as their namesakes from the Python standard library.\n",
    "\n",
    "The code below shows various examples of string filter conditions. In the final example using  `str.contains` , we prepend the  `~`  operation, which negates the filter condition. This means our final filter condition checked for player IDs that  *do not*  contain  `'o'` ."
   ]
  },
  {
   "cell_type": "code",
   "execution_count": null,
   "metadata": {},
   "outputs": [],
   "source": [
    "df = pd.DataFrame({\n",
    "  'playerID': ['bettsmo01', 'canoro01', 'cruzne02', 'ortizda01', 'cruzne02'],\n",
    "  'yearID': [2016, 2016, 2016, 2016, 2017],\n",
    "  'teamID': ['BOS', 'SEA', 'SEA', 'BOS', 'SEA'],\n",
    "  'HR': [31, 39, 43, 38, 39]})\n",
    "df  "
   ]
  },
  {
   "cell_type": "code",
   "execution_count": null,
   "metadata": {},
   "outputs": [],
   "source": [
    "str_f1 = df['playerID'].str.startswith('c')\n",
    "str_f1"
   ]
  },
  {
   "cell_type": "code",
   "execution_count": null,
   "metadata": {},
   "outputs": [],
   "source": [
    "str_f2 = df['teamID'].str.endswith('S')\n",
    "str_f2"
   ]
  },
  {
   "cell_type": "code",
   "execution_count": null,
   "metadata": {},
   "outputs": [],
   "source": [
    "str_f3 = ~df['playerID'].str.contains('o')\n",
    "str_f3"
   ]
  },
  {
   "cell_type": "markdown",
   "metadata": {},
   "source": [
    "We can also create filter conditions that check for values in a specific set, by using the  `isin`  function. The function only takes in one argument, which is a list of values that we want to filter for.\n",
    "\n",
    "The code below demonstrates how to use the  `isin`  function for filter conditions."
   ]
  },
  {
   "cell_type": "code",
   "execution_count": null,
   "metadata": {},
   "outputs": [],
   "source": [
    "df = pd.DataFrame({\n",
    "  'playerID': ['bettsmo01', 'canoro01', 'cruzne02', 'ortizda01', 'cruzne02'],\n",
    "  'yearID': [2016, 2016, 2016, 2016, 2017],\n",
    "  'teamID': ['BOS', 'SEA', 'SEA', 'BOS', 'SEA'],\n",
    "  'HR': [31, 39, 43, 38, 39]})\n",
    "  \n",
    "df"
   ]
  },
  {
   "cell_type": "code",
   "execution_count": null,
   "metadata": {},
   "outputs": [],
   "source": [
    "isin_f1 = df['playerID'].isin(['cruzne02',\n",
    "                               'ortizda01'])\n",
    "isin_f1"
   ]
  },
  {
   "cell_type": "code",
   "execution_count": null,
   "metadata": {},
   "outputs": [],
   "source": [
    "isin_f2 = df['yearID'].isin([2015, 2017])\n",
    "isin_f2"
   ]
  },
  {
   "cell_type": "markdown",
   "metadata": {},
   "source": [
    "In pandas, when a Series or DataFrame has a missing value at a location, it is represented by  `NaN` . The  `NaN`  value in pandas is equivalent to  `np.nan`  in NumPy.\n",
    "\n",
    "Similar to Numpy, we cannot use a relation operation to create a filter condition for  `NaN`  values. Instead, we use the  `isna`  and  `notna`  functions."
   ]
  },
  {
   "cell_type": "code",
   "execution_count": null,
   "metadata": {},
   "outputs": [],
   "source": [
    "df = pd.DataFrame({\n",
    "  'playerID': ['bettsmo01', 'canoro01', 'doejo01'],\n",
    "  'yearID': [2016, 2016, 2017],\n",
    "  'teamID': ['BOS', 'SEA', np.nan],\n",
    "  'HR': [31, 39, 99]})\n",
    "df"
   ]
  },
  {
   "cell_type": "code",
   "execution_count": null,
   "metadata": {},
   "outputs": [],
   "source": [
    "isna = df['teamID'].isna()\n",
    "isna"
   ]
  },
  {
   "cell_type": "code",
   "execution_count": null,
   "metadata": {},
   "outputs": [],
   "source": [
    "notna = df['teamID'].notna()\n",
    "notna"
   ]
  },
  {
   "cell_type": "markdown",
   "metadata": {},
   "source": [
    "The  `isna`  function returns  `True`  in the locations that contain  `NaN`  and  `False`  in the locations that don't, while the  `notna`  function does the opposite."
   ]
  },
  {
   "cell_type": "markdown",
   "metadata": {},
   "source": [
    "### C. Feature filtering"
   ]
  },
  {
   "cell_type": "markdown",
   "metadata": {},
   "source": [
    "It is really easy to filter a DataFrame's rows based on filter conditions. Similar to direct indexing of a DataFrame, we use square brackets. However, the inside of the square brackets will now contain a filter condition.\n",
    "\n",
    "When applying filter conditions within square brackets, we retrieve the rows of the DataFrame that pass the filter condition (i.e. the rows for which the filter condition is  `True` ).\n",
    "\n",
    "The code below shows how to filter using square brackets and filter conditions."
   ]
  },
  {
   "cell_type": "code",
   "execution_count": 154,
   "metadata": {},
   "outputs": [
    {
     "data": {
      "text/html": [
       "<div>\n",
       "<style scoped>\n",
       "    .dataframe tbody tr th:only-of-type {\n",
       "        vertical-align: middle;\n",
       "    }\n",
       "\n",
       "    .dataframe tbody tr th {\n",
       "        vertical-align: top;\n",
       "    }\n",
       "\n",
       "    .dataframe thead th {\n",
       "        text-align: right;\n",
       "    }\n",
       "</style>\n",
       "<table border=\"1\" class=\"dataframe\">\n",
       "  <thead>\n",
       "    <tr style=\"text-align: right;\">\n",
       "      <th></th>\n",
       "      <th>playerID</th>\n",
       "      <th>yearID</th>\n",
       "      <th>teamID</th>\n",
       "      <th>HR</th>\n",
       "    </tr>\n",
       "  </thead>\n",
       "  <tbody>\n",
       "    <tr>\n",
       "      <th>0</th>\n",
       "      <td>bettsmo01</td>\n",
       "      <td>2016</td>\n",
       "      <td>BOS</td>\n",
       "      <td>31</td>\n",
       "    </tr>\n",
       "    <tr>\n",
       "      <th>1</th>\n",
       "      <td>canoro01</td>\n",
       "      <td>2016</td>\n",
       "      <td>SEA</td>\n",
       "      <td>39</td>\n",
       "    </tr>\n",
       "    <tr>\n",
       "      <th>2</th>\n",
       "      <td>cruzne02</td>\n",
       "      <td>2016</td>\n",
       "      <td>SEA</td>\n",
       "      <td>43</td>\n",
       "    </tr>\n",
       "    <tr>\n",
       "      <th>3</th>\n",
       "      <td>ortizda01</td>\n",
       "      <td>2016</td>\n",
       "      <td>BOS</td>\n",
       "      <td>38</td>\n",
       "    </tr>\n",
       "    <tr>\n",
       "      <th>4</th>\n",
       "      <td>bettsmo01</td>\n",
       "      <td>2015</td>\n",
       "      <td>BOS</td>\n",
       "      <td>18</td>\n",
       "    </tr>\n",
       "  </tbody>\n",
       "</table>\n",
       "</div>"
      ],
      "text/plain": [
       "    playerID  yearID teamID  HR\n",
       "0  bettsmo01    2016    BOS  31\n",
       "1   canoro01    2016    SEA  39\n",
       "2   cruzne02    2016    SEA  43\n",
       "3  ortizda01    2016    BOS  38\n",
       "4  bettsmo01    2015    BOS  18"
      ]
     },
     "execution_count": 154,
     "metadata": {},
     "output_type": "execute_result"
    }
   ],
   "source": [
    "df = pd.DataFrame({\n",
    "  'playerID': ['bettsmo01', 'canoro01', 'cruzne02', 'ortizda01', 'bettsmo01'],\n",
    "  'yearID': [2016, 2016, 2016, 2016, 2015],\n",
    "  'teamID': ['BOS', 'SEA', 'SEA', 'BOS', 'BOS'],\n",
    "  'HR': [31, 39, 43, 38, 18]})\n",
    "  \n",
    "df"
   ]
  },
  {
   "cell_type": "code",
   "execution_count": 155,
   "metadata": {},
   "outputs": [
    {
     "data": {
      "text/html": [
       "<div>\n",
       "<style scoped>\n",
       "    .dataframe tbody tr th:only-of-type {\n",
       "        vertical-align: middle;\n",
       "    }\n",
       "\n",
       "    .dataframe tbody tr th {\n",
       "        vertical-align: top;\n",
       "    }\n",
       "\n",
       "    .dataframe thead th {\n",
       "        text-align: right;\n",
       "    }\n",
       "</style>\n",
       "<table border=\"1\" class=\"dataframe\">\n",
       "  <thead>\n",
       "    <tr style=\"text-align: right;\">\n",
       "      <th></th>\n",
       "      <th>playerID</th>\n",
       "      <th>yearID</th>\n",
       "      <th>teamID</th>\n",
       "      <th>HR</th>\n",
       "    </tr>\n",
       "  </thead>\n",
       "  <tbody>\n",
       "    <tr>\n",
       "      <th>2</th>\n",
       "      <td>cruzne02</td>\n",
       "      <td>2016</td>\n",
       "      <td>SEA</td>\n",
       "      <td>43</td>\n",
       "    </tr>\n",
       "  </tbody>\n",
       "</table>\n",
       "</div>"
      ],
      "text/plain": [
       "   playerID  yearID teamID  HR\n",
       "2  cruzne02    2016    SEA  43"
      ]
     },
     "execution_count": 155,
     "metadata": {},
     "output_type": "execute_result"
    }
   ],
   "source": [
    "hr40_df = df[df['HR'] > 40]\n",
    "hr40_df"
   ]
  },
  {
   "cell_type": "code",
   "execution_count": 156,
   "metadata": {},
   "outputs": [
    {
     "data": {
      "text/html": [
       "<div>\n",
       "<style scoped>\n",
       "    .dataframe tbody tr th:only-of-type {\n",
       "        vertical-align: middle;\n",
       "    }\n",
       "\n",
       "    .dataframe tbody tr th {\n",
       "        vertical-align: top;\n",
       "    }\n",
       "\n",
       "    .dataframe thead th {\n",
       "        text-align: right;\n",
       "    }\n",
       "</style>\n",
       "<table border=\"1\" class=\"dataframe\">\n",
       "  <thead>\n",
       "    <tr style=\"text-align: right;\">\n",
       "      <th></th>\n",
       "      <th>playerID</th>\n",
       "      <th>yearID</th>\n",
       "      <th>teamID</th>\n",
       "      <th>HR</th>\n",
       "    </tr>\n",
       "  </thead>\n",
       "  <tbody>\n",
       "    <tr>\n",
       "      <th>4</th>\n",
       "      <td>bettsmo01</td>\n",
       "      <td>2015</td>\n",
       "      <td>BOS</td>\n",
       "      <td>18</td>\n",
       "    </tr>\n",
       "  </tbody>\n",
       "</table>\n",
       "</div>"
      ],
      "text/plain": [
       "    playerID  yearID teamID  HR\n",
       "4  bettsmo01    2015    BOS  18"
      ]
     },
     "execution_count": 156,
     "metadata": {},
     "output_type": "execute_result"
    }
   ],
   "source": [
    "not_hr30_df = df[~(df['HR'] > 30)]\n",
    "not_hr30_df"
   ]
  },
  {
   "cell_type": "code",
   "execution_count": 157,
   "metadata": {},
   "outputs": [
    {
     "data": {
      "text/html": [
       "<div>\n",
       "<style scoped>\n",
       "    .dataframe tbody tr th:only-of-type {\n",
       "        vertical-align: middle;\n",
       "    }\n",
       "\n",
       "    .dataframe tbody tr th {\n",
       "        vertical-align: top;\n",
       "    }\n",
       "\n",
       "    .dataframe thead th {\n",
       "        text-align: right;\n",
       "    }\n",
       "</style>\n",
       "<table border=\"1\" class=\"dataframe\">\n",
       "  <thead>\n",
       "    <tr style=\"text-align: right;\">\n",
       "      <th></th>\n",
       "      <th>playerID</th>\n",
       "      <th>yearID</th>\n",
       "      <th>teamID</th>\n",
       "      <th>HR</th>\n",
       "    </tr>\n",
       "  </thead>\n",
       "  <tbody>\n",
       "    <tr>\n",
       "      <th>0</th>\n",
       "      <td>bettsmo01</td>\n",
       "      <td>2016</td>\n",
       "      <td>BOS</td>\n",
       "      <td>31</td>\n",
       "    </tr>\n",
       "    <tr>\n",
       "      <th>3</th>\n",
       "      <td>ortizda01</td>\n",
       "      <td>2016</td>\n",
       "      <td>BOS</td>\n",
       "      <td>38</td>\n",
       "    </tr>\n",
       "    <tr>\n",
       "      <th>4</th>\n",
       "      <td>bettsmo01</td>\n",
       "      <td>2015</td>\n",
       "      <td>BOS</td>\n",
       "      <td>18</td>\n",
       "    </tr>\n",
       "  </tbody>\n",
       "</table>\n",
       "</div>"
      ],
      "text/plain": [
       "    playerID  yearID teamID  HR\n",
       "0  bettsmo01    2016    BOS  31\n",
       "3  ortizda01    2016    BOS  38\n",
       "4  bettsmo01    2015    BOS  18"
      ]
     },
     "execution_count": 157,
     "metadata": {},
     "output_type": "execute_result"
    }
   ],
   "source": [
    "str_df = df[df['teamID'].str.startswith('B')]\n",
    "str_df"
   ]
  },
  {
   "cell_type": "markdown",
   "metadata": {},
   "source": [
    "## Sorting\n",
    "\n",
    "Sort DataFrames based on their column features."
   ]
  },
  {
   "cell_type": "markdown",
   "metadata": {},
   "source": [
    "### Goals:\n",
    "\n",
    "* Exploring how to sort a DataFrame by its features\n",
    "* Write code to sort an MLB player's statistics"
   ]
  },
  {
   "cell_type": "markdown",
   "metadata": {},
   "source": [
    "### A. Sorting by feature"
   ]
  },
  {
   "cell_type": "markdown",
   "metadata": {},
   "source": [
    "When we deal with a dataset that has many features, it is often useful to sort the dataset. This makes it easier to view the data and spot trends in the values.\n",
    "\n",
    "In pandas, the  `sort_values`  function allows us to sort a DataFrame by one or more of its columns. The first argument is either a column label or a list of column labels to sort by.\n",
    "\n",
    "The  `ascending`  keyword argument allows us to specify whether to sort in ascending or descending order (default is ascending order, i.e.  `ascending=True` ).\n",
    "\n",
    "The code below demonstrates how to use  `sort_values`  with a single column label. The first example sorts by  `'yearID'`  in ascending order, while the second sorts  `'playerID'`  in descending lexicographic (alphabetical) order."
   ]
  },
  {
   "cell_type": "code",
   "execution_count": 158,
   "metadata": {},
   "outputs": [
    {
     "data": {
      "text/html": [
       "<div>\n",
       "<style scoped>\n",
       "    .dataframe tbody tr th:only-of-type {\n",
       "        vertical-align: middle;\n",
       "    }\n",
       "\n",
       "    .dataframe tbody tr th {\n",
       "        vertical-align: top;\n",
       "    }\n",
       "\n",
       "    .dataframe thead th {\n",
       "        text-align: right;\n",
       "    }\n",
       "</style>\n",
       "<table border=\"1\" class=\"dataframe\">\n",
       "  <thead>\n",
       "    <tr style=\"text-align: right;\">\n",
       "      <th></th>\n",
       "      <th>playerID</th>\n",
       "      <th>yearID</th>\n",
       "      <th>teamID</th>\n",
       "      <th>HR</th>\n",
       "    </tr>\n",
       "  </thead>\n",
       "  <tbody>\n",
       "    <tr>\n",
       "      <th>0</th>\n",
       "      <td>bettsmo01</td>\n",
       "      <td>2016</td>\n",
       "      <td>BOS</td>\n",
       "      <td>31</td>\n",
       "    </tr>\n",
       "    <tr>\n",
       "      <th>1</th>\n",
       "      <td>canoro01</td>\n",
       "      <td>2016</td>\n",
       "      <td>SEA</td>\n",
       "      <td>39</td>\n",
       "    </tr>\n",
       "    <tr>\n",
       "      <th>2</th>\n",
       "      <td>cruzne02</td>\n",
       "      <td>2016</td>\n",
       "      <td>SEA</td>\n",
       "      <td>43</td>\n",
       "    </tr>\n",
       "    <tr>\n",
       "      <th>3</th>\n",
       "      <td>ortizda01</td>\n",
       "      <td>2016</td>\n",
       "      <td>BOS</td>\n",
       "      <td>38</td>\n",
       "    </tr>\n",
       "    <tr>\n",
       "      <th>4</th>\n",
       "      <td>bettsmo01</td>\n",
       "      <td>2015</td>\n",
       "      <td>BOS</td>\n",
       "      <td>18</td>\n",
       "    </tr>\n",
       "  </tbody>\n",
       "</table>\n",
       "</div>"
      ],
      "text/plain": [
       "    playerID  yearID teamID  HR\n",
       "0  bettsmo01    2016    BOS  31\n",
       "1   canoro01    2016    SEA  39\n",
       "2   cruzne02    2016    SEA  43\n",
       "3  ortizda01    2016    BOS  38\n",
       "4  bettsmo01    2015    BOS  18"
      ]
     },
     "execution_count": 158,
     "metadata": {},
     "output_type": "execute_result"
    }
   ],
   "source": [
    "df"
   ]
  },
  {
   "cell_type": "code",
   "execution_count": 159,
   "metadata": {},
   "outputs": [
    {
     "data": {
      "text/html": [
       "<div>\n",
       "<style scoped>\n",
       "    .dataframe tbody tr th:only-of-type {\n",
       "        vertical-align: middle;\n",
       "    }\n",
       "\n",
       "    .dataframe tbody tr th {\n",
       "        vertical-align: top;\n",
       "    }\n",
       "\n",
       "    .dataframe thead th {\n",
       "        text-align: right;\n",
       "    }\n",
       "</style>\n",
       "<table border=\"1\" class=\"dataframe\">\n",
       "  <thead>\n",
       "    <tr style=\"text-align: right;\">\n",
       "      <th></th>\n",
       "      <th>playerID</th>\n",
       "      <th>yearID</th>\n",
       "      <th>teamID</th>\n",
       "      <th>HR</th>\n",
       "    </tr>\n",
       "  </thead>\n",
       "  <tbody>\n",
       "    <tr>\n",
       "      <th>4</th>\n",
       "      <td>bettsmo01</td>\n",
       "      <td>2015</td>\n",
       "      <td>BOS</td>\n",
       "      <td>18</td>\n",
       "    </tr>\n",
       "    <tr>\n",
       "      <th>0</th>\n",
       "      <td>bettsmo01</td>\n",
       "      <td>2016</td>\n",
       "      <td>BOS</td>\n",
       "      <td>31</td>\n",
       "    </tr>\n",
       "    <tr>\n",
       "      <th>1</th>\n",
       "      <td>canoro01</td>\n",
       "      <td>2016</td>\n",
       "      <td>SEA</td>\n",
       "      <td>39</td>\n",
       "    </tr>\n",
       "    <tr>\n",
       "      <th>2</th>\n",
       "      <td>cruzne02</td>\n",
       "      <td>2016</td>\n",
       "      <td>SEA</td>\n",
       "      <td>43</td>\n",
       "    </tr>\n",
       "    <tr>\n",
       "      <th>3</th>\n",
       "      <td>ortizda01</td>\n",
       "      <td>2016</td>\n",
       "      <td>BOS</td>\n",
       "      <td>38</td>\n",
       "    </tr>\n",
       "  </tbody>\n",
       "</table>\n",
       "</div>"
      ],
      "text/plain": [
       "    playerID  yearID teamID  HR\n",
       "4  bettsmo01    2015    BOS  18\n",
       "0  bettsmo01    2016    BOS  31\n",
       "1   canoro01    2016    SEA  39\n",
       "2   cruzne02    2016    SEA  43\n",
       "3  ortizda01    2016    BOS  38"
      ]
     },
     "execution_count": 159,
     "metadata": {},
     "output_type": "execute_result"
    }
   ],
   "source": [
    "sort1 = df.sort_values('yearID')\n",
    "sort1"
   ]
  },
  {
   "cell_type": "code",
   "execution_count": 160,
   "metadata": {},
   "outputs": [
    {
     "data": {
      "text/html": [
       "<div>\n",
       "<style scoped>\n",
       "    .dataframe tbody tr th:only-of-type {\n",
       "        vertical-align: middle;\n",
       "    }\n",
       "\n",
       "    .dataframe tbody tr th {\n",
       "        vertical-align: top;\n",
       "    }\n",
       "\n",
       "    .dataframe thead th {\n",
       "        text-align: right;\n",
       "    }\n",
       "</style>\n",
       "<table border=\"1\" class=\"dataframe\">\n",
       "  <thead>\n",
       "    <tr style=\"text-align: right;\">\n",
       "      <th></th>\n",
       "      <th>playerID</th>\n",
       "      <th>yearID</th>\n",
       "      <th>teamID</th>\n",
       "      <th>HR</th>\n",
       "    </tr>\n",
       "  </thead>\n",
       "  <tbody>\n",
       "    <tr>\n",
       "      <th>3</th>\n",
       "      <td>ortizda01</td>\n",
       "      <td>2016</td>\n",
       "      <td>BOS</td>\n",
       "      <td>38</td>\n",
       "    </tr>\n",
       "    <tr>\n",
       "      <th>2</th>\n",
       "      <td>cruzne02</td>\n",
       "      <td>2016</td>\n",
       "      <td>SEA</td>\n",
       "      <td>43</td>\n",
       "    </tr>\n",
       "    <tr>\n",
       "      <th>1</th>\n",
       "      <td>canoro01</td>\n",
       "      <td>2016</td>\n",
       "      <td>SEA</td>\n",
       "      <td>39</td>\n",
       "    </tr>\n",
       "    <tr>\n",
       "      <th>0</th>\n",
       "      <td>bettsmo01</td>\n",
       "      <td>2016</td>\n",
       "      <td>BOS</td>\n",
       "      <td>31</td>\n",
       "    </tr>\n",
       "    <tr>\n",
       "      <th>4</th>\n",
       "      <td>bettsmo01</td>\n",
       "      <td>2015</td>\n",
       "      <td>BOS</td>\n",
       "      <td>18</td>\n",
       "    </tr>\n",
       "  </tbody>\n",
       "</table>\n",
       "</div>"
      ],
      "text/plain": [
       "    playerID  yearID teamID  HR\n",
       "3  ortizda01    2016    BOS  38\n",
       "2   cruzne02    2016    SEA  43\n",
       "1   canoro01    2016    SEA  39\n",
       "0  bettsmo01    2016    BOS  31\n",
       "4  bettsmo01    2015    BOS  18"
      ]
     },
     "execution_count": 160,
     "metadata": {},
     "output_type": "execute_result"
    }
   ],
   "source": [
    "sort2 = df.sort_values('playerID', ascending=False)\n",
    "sort2"
   ]
  },
  {
   "cell_type": "markdown",
   "metadata": {},
   "source": [
    "When sorting with a list of column labels, each additional label is used to break ties. Specifically, label  *i*  in the list acts as a tiebreaker for label  *i - 1* .\n",
    "\n",
    "The code below demonstrates how to sort with a list of column labels."
   ]
  },
  {
   "cell_type": "code",
   "execution_count": 161,
   "metadata": {},
   "outputs": [
    {
     "data": {
      "text/html": [
       "<div>\n",
       "<style scoped>\n",
       "    .dataframe tbody tr th:only-of-type {\n",
       "        vertical-align: middle;\n",
       "    }\n",
       "\n",
       "    .dataframe tbody tr th {\n",
       "        vertical-align: top;\n",
       "    }\n",
       "\n",
       "    .dataframe thead th {\n",
       "        text-align: right;\n",
       "    }\n",
       "</style>\n",
       "<table border=\"1\" class=\"dataframe\">\n",
       "  <thead>\n",
       "    <tr style=\"text-align: right;\">\n",
       "      <th></th>\n",
       "      <th>playerID</th>\n",
       "      <th>yearID</th>\n",
       "      <th>teamID</th>\n",
       "      <th>HR</th>\n",
       "    </tr>\n",
       "  </thead>\n",
       "  <tbody>\n",
       "    <tr>\n",
       "      <th>0</th>\n",
       "      <td>bettsmo01</td>\n",
       "      <td>2016</td>\n",
       "      <td>BOS</td>\n",
       "      <td>31</td>\n",
       "    </tr>\n",
       "    <tr>\n",
       "      <th>1</th>\n",
       "      <td>canoro01</td>\n",
       "      <td>2016</td>\n",
       "      <td>SEA</td>\n",
       "      <td>39</td>\n",
       "    </tr>\n",
       "    <tr>\n",
       "      <th>2</th>\n",
       "      <td>cruzne02</td>\n",
       "      <td>2016</td>\n",
       "      <td>SEA</td>\n",
       "      <td>43</td>\n",
       "    </tr>\n",
       "    <tr>\n",
       "      <th>3</th>\n",
       "      <td>ortizda01</td>\n",
       "      <td>2016</td>\n",
       "      <td>BOS</td>\n",
       "      <td>38</td>\n",
       "    </tr>\n",
       "    <tr>\n",
       "      <th>4</th>\n",
       "      <td>bettsmo01</td>\n",
       "      <td>2015</td>\n",
       "      <td>BOS</td>\n",
       "      <td>18</td>\n",
       "    </tr>\n",
       "  </tbody>\n",
       "</table>\n",
       "</div>"
      ],
      "text/plain": [
       "    playerID  yearID teamID  HR\n",
       "0  bettsmo01    2016    BOS  31\n",
       "1   canoro01    2016    SEA  39\n",
       "2   cruzne02    2016    SEA  43\n",
       "3  ortizda01    2016    BOS  38\n",
       "4  bettsmo01    2015    BOS  18"
      ]
     },
     "execution_count": 161,
     "metadata": {},
     "output_type": "execute_result"
    }
   ],
   "source": [
    "df"
   ]
  },
  {
   "cell_type": "code",
   "execution_count": 162,
   "metadata": {},
   "outputs": [
    {
     "data": {
      "text/html": [
       "<div>\n",
       "<style scoped>\n",
       "    .dataframe tbody tr th:only-of-type {\n",
       "        vertical-align: middle;\n",
       "    }\n",
       "\n",
       "    .dataframe tbody tr th {\n",
       "        vertical-align: top;\n",
       "    }\n",
       "\n",
       "    .dataframe thead th {\n",
       "        text-align: right;\n",
       "    }\n",
       "</style>\n",
       "<table border=\"1\" class=\"dataframe\">\n",
       "  <thead>\n",
       "    <tr style=\"text-align: right;\">\n",
       "      <th></th>\n",
       "      <th>playerID</th>\n",
       "      <th>yearID</th>\n",
       "      <th>teamID</th>\n",
       "      <th>HR</th>\n",
       "    </tr>\n",
       "  </thead>\n",
       "  <tbody>\n",
       "    <tr>\n",
       "      <th>4</th>\n",
       "      <td>bettsmo01</td>\n",
       "      <td>2015</td>\n",
       "      <td>BOS</td>\n",
       "      <td>18</td>\n",
       "    </tr>\n",
       "    <tr>\n",
       "      <th>0</th>\n",
       "      <td>bettsmo01</td>\n",
       "      <td>2016</td>\n",
       "      <td>BOS</td>\n",
       "      <td>31</td>\n",
       "    </tr>\n",
       "    <tr>\n",
       "      <th>1</th>\n",
       "      <td>canoro01</td>\n",
       "      <td>2016</td>\n",
       "      <td>SEA</td>\n",
       "      <td>39</td>\n",
       "    </tr>\n",
       "    <tr>\n",
       "      <th>2</th>\n",
       "      <td>cruzne02</td>\n",
       "      <td>2016</td>\n",
       "      <td>SEA</td>\n",
       "      <td>43</td>\n",
       "    </tr>\n",
       "    <tr>\n",
       "      <th>3</th>\n",
       "      <td>ortizda01</td>\n",
       "      <td>2016</td>\n",
       "      <td>BOS</td>\n",
       "      <td>38</td>\n",
       "    </tr>\n",
       "  </tbody>\n",
       "</table>\n",
       "</div>"
      ],
      "text/plain": [
       "    playerID  yearID teamID  HR\n",
       "4  bettsmo01    2015    BOS  18\n",
       "0  bettsmo01    2016    BOS  31\n",
       "1   canoro01    2016    SEA  39\n",
       "2   cruzne02    2016    SEA  43\n",
       "3  ortizda01    2016    BOS  38"
      ]
     },
     "execution_count": 162,
     "metadata": {},
     "output_type": "execute_result"
    }
   ],
   "source": [
    "sort1 = df.sort_values(['yearID', 'playerID'])\n",
    "sort1"
   ]
  },
  {
   "cell_type": "code",
   "execution_count": 163,
   "metadata": {},
   "outputs": [
    {
     "data": {
      "text/html": [
       "<div>\n",
       "<style scoped>\n",
       "    .dataframe tbody tr th:only-of-type {\n",
       "        vertical-align: middle;\n",
       "    }\n",
       "\n",
       "    .dataframe tbody tr th {\n",
       "        vertical-align: top;\n",
       "    }\n",
       "\n",
       "    .dataframe thead th {\n",
       "        text-align: right;\n",
       "    }\n",
       "</style>\n",
       "<table border=\"1\" class=\"dataframe\">\n",
       "  <thead>\n",
       "    <tr style=\"text-align: right;\">\n",
       "      <th></th>\n",
       "      <th>playerID</th>\n",
       "      <th>yearID</th>\n",
       "      <th>teamID</th>\n",
       "      <th>HR</th>\n",
       "    </tr>\n",
       "  </thead>\n",
       "  <tbody>\n",
       "    <tr>\n",
       "      <th>4</th>\n",
       "      <td>bettsmo01</td>\n",
       "      <td>2015</td>\n",
       "      <td>BOS</td>\n",
       "      <td>18</td>\n",
       "    </tr>\n",
       "    <tr>\n",
       "      <th>2</th>\n",
       "      <td>cruzne02</td>\n",
       "      <td>2016</td>\n",
       "      <td>SEA</td>\n",
       "      <td>43</td>\n",
       "    </tr>\n",
       "    <tr>\n",
       "      <th>1</th>\n",
       "      <td>canoro01</td>\n",
       "      <td>2016</td>\n",
       "      <td>SEA</td>\n",
       "      <td>39</td>\n",
       "    </tr>\n",
       "    <tr>\n",
       "      <th>3</th>\n",
       "      <td>ortizda01</td>\n",
       "      <td>2016</td>\n",
       "      <td>BOS</td>\n",
       "      <td>38</td>\n",
       "    </tr>\n",
       "    <tr>\n",
       "      <th>0</th>\n",
       "      <td>bettsmo01</td>\n",
       "      <td>2016</td>\n",
       "      <td>BOS</td>\n",
       "      <td>31</td>\n",
       "    </tr>\n",
       "  </tbody>\n",
       "</table>\n",
       "</div>"
      ],
      "text/plain": [
       "    playerID  yearID teamID  HR\n",
       "4  bettsmo01    2015    BOS  18\n",
       "2   cruzne02    2016    SEA  43\n",
       "1   canoro01    2016    SEA  39\n",
       "3  ortizda01    2016    BOS  38\n",
       "0  bettsmo01    2016    BOS  31"
      ]
     },
     "execution_count": 163,
     "metadata": {},
     "output_type": "execute_result"
    }
   ],
   "source": [
    "sort2 = df.sort_values(['yearID', 'HR'],\n",
    "                       ascending=[True, False])\n",
    "sort2"
   ]
  },
  {
   "cell_type": "markdown",
   "metadata": {},
   "source": [
    "When using two column labels to sort, the list's first label represents the main sorting criterion, while the second label is used to break ties. In the example with sorting by  `'yearID'`  and  `'playerID'` , the DataFrame is first sorted by year (in ascending order). For identical years, we sort again by player ID (in ascending order).\n",
    "\n",
    "For multi-label inputs to  `sort_values` , we are allowed to specify different sorting orders for each column label. In our second example, we specified that  `'yearID'`  would be sorted in ascending order, while  `'HR'`  would be sorted in descending order."
   ]
  },
  {
   "cell_type": "markdown",
   "metadata": {},
   "source": [
    "## Metrics\n",
    "\n",
    "Use pandas to obtain statistical metrics for data."
   ]
  },
  {
   "cell_type": "markdown",
   "metadata": {},
   "source": [
    "### Goals:\n",
    "\n",
    "* Understand the common metrics used to summarize numeric data\n",
    "* Learn how to describe categorical data using histograms"
   ]
  },
  {
   "cell_type": "markdown",
   "metadata": {},
   "source": [
    "### A. Numeric metrics"
   ]
  },
  {
   "cell_type": "markdown",
   "metadata": {},
   "source": [
    "When working with numeric features, we usually want to calculate metrics such as mean, standard deviation, etc. These metrics give us more insight into the type of data we're working with, which benefits our overall analysis of the dataset.\n",
    "\n",
    "Rather than calculating several different metrics separately, pandas provides the  `describe`  function to obtain a summary of a DataFrame's numeric data.\n",
    "\n",
    "The metrics included in the output summary of  `describe`  are\n",
    "\n",
    "|Metric|Description|\n",
    "|---|---|\n",
    "|count|The number of rows in the DataFrame|\n",
    "|mean|The mean value for a feature|\n",
    "|std|The standard deviation for a feature|\n",
    "|min|The minimum value in a feature|\n",
    "|25%|The 25th percentile of a feature|\n",
    "|50%|The 50th percentile of a feature. Note that this is identical to the median|\n",
    "|75%|The 75th percentile of a feature|\n",
    "|max|The maximum value in a feature|\n",
    "\n",
    "The code below shows how to use the  `describe`  function."
   ]
  },
  {
   "cell_type": "code",
   "execution_count": 164,
   "metadata": {},
   "outputs": [
    {
     "data": {
      "text/html": [
       "<div>\n",
       "<style scoped>\n",
       "    .dataframe tbody tr th:only-of-type {\n",
       "        vertical-align: middle;\n",
       "    }\n",
       "\n",
       "    .dataframe tbody tr th {\n",
       "        vertical-align: top;\n",
       "    }\n",
       "\n",
       "    .dataframe thead th {\n",
       "        text-align: right;\n",
       "    }\n",
       "</style>\n",
       "<table border=\"1\" class=\"dataframe\">\n",
       "  <thead>\n",
       "    <tr style=\"text-align: right;\">\n",
       "      <th></th>\n",
       "      <th>yearID</th>\n",
       "      <th>playerID</th>\n",
       "      <th>teamID</th>\n",
       "      <th>HR</th>\n",
       "      <th>RBI</th>\n",
       "    </tr>\n",
       "  </thead>\n",
       "  <tbody>\n",
       "    <tr>\n",
       "      <th>0</th>\n",
       "      <td>2017</td>\n",
       "      <td>cruzne02</td>\n",
       "      <td>SEA</td>\n",
       "      <td>39</td>\n",
       "      <td>119</td>\n",
       "    </tr>\n",
       "    <tr>\n",
       "      <th>1</th>\n",
       "      <td>2017</td>\n",
       "      <td>pedrodu01</td>\n",
       "      <td>BOS</td>\n",
       "      <td>7</td>\n",
       "      <td>62</td>\n",
       "    </tr>\n",
       "    <tr>\n",
       "      <th>2</th>\n",
       "      <td>2016</td>\n",
       "      <td>cruzne02</td>\n",
       "      <td>SEA</td>\n",
       "      <td>43</td>\n",
       "      <td>105</td>\n",
       "    </tr>\n",
       "    <tr>\n",
       "      <th>3</th>\n",
       "      <td>2015</td>\n",
       "      <td>pedrodu01</td>\n",
       "      <td>BOS</td>\n",
       "      <td>12</td>\n",
       "      <td>42</td>\n",
       "    </tr>\n",
       "    <tr>\n",
       "      <th>4</th>\n",
       "      <td>2017</td>\n",
       "      <td>troutmi01</td>\n",
       "      <td>LAA</td>\n",
       "      <td>33</td>\n",
       "      <td>72</td>\n",
       "    </tr>\n",
       "    <tr>\n",
       "      <th>5</th>\n",
       "      <td>2016</td>\n",
       "      <td>pedrodu01</td>\n",
       "      <td>BOS</td>\n",
       "      <td>15</td>\n",
       "      <td>74</td>\n",
       "    </tr>\n",
       "  </tbody>\n",
       "</table>\n",
       "</div>"
      ],
      "text/plain": [
       "   yearID   playerID teamID  HR  RBI\n",
       "0    2017   cruzne02    SEA  39  119\n",
       "1    2017  pedrodu01    BOS   7   62\n",
       "2    2016   cruzne02    SEA  43  105\n",
       "3    2015  pedrodu01    BOS  12   42\n",
       "4    2017  troutmi01    LAA  33   72\n",
       "5    2016  pedrodu01    BOS  15   74"
      ]
     },
     "execution_count": 164,
     "metadata": {},
     "output_type": "execute_result"
    }
   ],
   "source": [
    "df = pd.DataFrame(\n",
    "    {\n",
    "        'yearID': [2017, 2017, 2016, 2015, 2017, 2016], \n",
    "        'playerID': ['cruzne02', 'pedrodu01', 'cruzne02', 'pedrodu01', 'troutmi01', 'pedrodu01'], \n",
    "        'teamID': ['SEA', 'BOS', 'SEA', 'BOS', 'LAA', 'BOS'], \n",
    "        'HR': [39, 7, 43, 12, 33, 15], \n",
    "        'RBI': [119, 62, 105, 42, 72, 74]\n",
    "    }\n",
    ")\n",
    "df"
   ]
  },
  {
   "cell_type": "code",
   "execution_count": 165,
   "metadata": {},
   "outputs": [
    {
     "data": {
      "text/html": [
       "<div>\n",
       "<style scoped>\n",
       "    .dataframe tbody tr th:only-of-type {\n",
       "        vertical-align: middle;\n",
       "    }\n",
       "\n",
       "    .dataframe tbody tr th {\n",
       "        vertical-align: top;\n",
       "    }\n",
       "\n",
       "    .dataframe thead th {\n",
       "        text-align: right;\n",
       "    }\n",
       "</style>\n",
       "<table border=\"1\" class=\"dataframe\">\n",
       "  <thead>\n",
       "    <tr style=\"text-align: right;\">\n",
       "      <th></th>\n",
       "      <th>yearID</th>\n",
       "      <th>HR</th>\n",
       "      <th>RBI</th>\n",
       "    </tr>\n",
       "  </thead>\n",
       "  <tbody>\n",
       "    <tr>\n",
       "      <th>count</th>\n",
       "      <td>6.000000</td>\n",
       "      <td>6.000000</td>\n",
       "      <td>6.000000</td>\n",
       "    </tr>\n",
       "    <tr>\n",
       "      <th>mean</th>\n",
       "      <td>2016.333333</td>\n",
       "      <td>24.833333</td>\n",
       "      <td>79.000000</td>\n",
       "    </tr>\n",
       "    <tr>\n",
       "      <th>std</th>\n",
       "      <td>0.816497</td>\n",
       "      <td>15.341664</td>\n",
       "      <td>28.312541</td>\n",
       "    </tr>\n",
       "    <tr>\n",
       "      <th>min</th>\n",
       "      <td>2015.000000</td>\n",
       "      <td>7.000000</td>\n",
       "      <td>42.000000</td>\n",
       "    </tr>\n",
       "    <tr>\n",
       "      <th>25%</th>\n",
       "      <td>2016.000000</td>\n",
       "      <td>12.750000</td>\n",
       "      <td>64.500000</td>\n",
       "    </tr>\n",
       "    <tr>\n",
       "      <th>50%</th>\n",
       "      <td>2016.500000</td>\n",
       "      <td>24.000000</td>\n",
       "      <td>73.000000</td>\n",
       "    </tr>\n",
       "    <tr>\n",
       "      <th>75%</th>\n",
       "      <td>2017.000000</td>\n",
       "      <td>37.500000</td>\n",
       "      <td>97.250000</td>\n",
       "    </tr>\n",
       "    <tr>\n",
       "      <th>max</th>\n",
       "      <td>2017.000000</td>\n",
       "      <td>43.000000</td>\n",
       "      <td>119.000000</td>\n",
       "    </tr>\n",
       "  </tbody>\n",
       "</table>\n",
       "</div>"
      ],
      "text/plain": [
       "            yearID         HR         RBI\n",
       "count     6.000000   6.000000    6.000000\n",
       "mean   2016.333333  24.833333   79.000000\n",
       "std       0.816497  15.341664   28.312541\n",
       "min    2015.000000   7.000000   42.000000\n",
       "25%    2016.000000  12.750000   64.500000\n",
       "50%    2016.500000  24.000000   73.000000\n",
       "75%    2017.000000  37.500000   97.250000\n",
       "max    2017.000000  43.000000  119.000000"
      ]
     },
     "execution_count": 165,
     "metadata": {},
     "output_type": "execute_result"
    }
   ],
   "source": [
    "metrics1 = df.describe()\n",
    "metrics1"
   ]
  },
  {
   "cell_type": "code",
   "execution_count": 166,
   "metadata": {},
   "outputs": [
    {
     "data": {
      "text/html": [
       "<div>\n",
       "<style scoped>\n",
       "    .dataframe tbody tr th:only-of-type {\n",
       "        vertical-align: middle;\n",
       "    }\n",
       "\n",
       "    .dataframe tbody tr th {\n",
       "        vertical-align: top;\n",
       "    }\n",
       "\n",
       "    .dataframe thead th {\n",
       "        text-align: right;\n",
       "    }\n",
       "</style>\n",
       "<table border=\"1\" class=\"dataframe\">\n",
       "  <thead>\n",
       "    <tr style=\"text-align: right;\">\n",
       "      <th></th>\n",
       "      <th>HR</th>\n",
       "      <th>RBI</th>\n",
       "    </tr>\n",
       "  </thead>\n",
       "  <tbody>\n",
       "    <tr>\n",
       "      <th>count</th>\n",
       "      <td>6.000000</td>\n",
       "      <td>6.000000</td>\n",
       "    </tr>\n",
       "    <tr>\n",
       "      <th>mean</th>\n",
       "      <td>24.833333</td>\n",
       "      <td>79.000000</td>\n",
       "    </tr>\n",
       "    <tr>\n",
       "      <th>std</th>\n",
       "      <td>15.341664</td>\n",
       "      <td>28.312541</td>\n",
       "    </tr>\n",
       "    <tr>\n",
       "      <th>min</th>\n",
       "      <td>7.000000</td>\n",
       "      <td>42.000000</td>\n",
       "    </tr>\n",
       "    <tr>\n",
       "      <th>25%</th>\n",
       "      <td>12.750000</td>\n",
       "      <td>64.500000</td>\n",
       "    </tr>\n",
       "    <tr>\n",
       "      <th>50%</th>\n",
       "      <td>24.000000</td>\n",
       "      <td>73.000000</td>\n",
       "    </tr>\n",
       "    <tr>\n",
       "      <th>75%</th>\n",
       "      <td>37.500000</td>\n",
       "      <td>97.250000</td>\n",
       "    </tr>\n",
       "    <tr>\n",
       "      <th>max</th>\n",
       "      <td>43.000000</td>\n",
       "      <td>119.000000</td>\n",
       "    </tr>\n",
       "  </tbody>\n",
       "</table>\n",
       "</div>"
      ],
      "text/plain": [
       "              HR         RBI\n",
       "count   6.000000    6.000000\n",
       "mean   24.833333   79.000000\n",
       "std    15.341664   28.312541\n",
       "min     7.000000   42.000000\n",
       "25%    12.750000   64.500000\n",
       "50%    24.000000   73.000000\n",
       "75%    37.500000   97.250000\n",
       "max    43.000000  119.000000"
      ]
     },
     "execution_count": 166,
     "metadata": {},
     "output_type": "execute_result"
    }
   ],
   "source": [
    "hr_rbi = df[['HR','RBI']]\n",
    "metrics2 = hr_rbi.describe()\n",
    "metrics2"
   ]
  },
  {
   "cell_type": "markdown",
   "metadata": {},
   "source": [
    "Using  `describe`  with a DataFrame will return a summary of metrics for each of the DataFrame's numeric features. In our example,  `df`  had three features with numerical values:  `yearID` ,  `HR` , and  `RBI` .\n",
    "\n",
    "Since we normally treat  `yearID`  as a categorical feature, the second time we used  `describe`  was with the  `hr_rbi`  DataFrame, which only included the  `HR`  and  `RBI`  features.\n",
    "\n",
    "To have  `describe`  return specific percentiles, we can use the  `percentiles`  keyword argument. The  `percentiles`  argument takes in a list of decimal percentages, representing the percentiles we want returned in the summary."
   ]
  },
  {
   "cell_type": "code",
   "execution_count": 167,
   "metadata": {},
   "outputs": [
    {
     "data": {
      "text/html": [
       "<div>\n",
       "<style scoped>\n",
       "    .dataframe tbody tr th:only-of-type {\n",
       "        vertical-align: middle;\n",
       "    }\n",
       "\n",
       "    .dataframe tbody tr th {\n",
       "        vertical-align: top;\n",
       "    }\n",
       "\n",
       "    .dataframe thead th {\n",
       "        text-align: right;\n",
       "    }\n",
       "</style>\n",
       "<table border=\"1\" class=\"dataframe\">\n",
       "  <thead>\n",
       "    <tr style=\"text-align: right;\">\n",
       "      <th></th>\n",
       "      <th>HR</th>\n",
       "      <th>RBI</th>\n",
       "    </tr>\n",
       "  </thead>\n",
       "  <tbody>\n",
       "    <tr>\n",
       "      <th>count</th>\n",
       "      <td>6.000000</td>\n",
       "      <td>6.000000</td>\n",
       "    </tr>\n",
       "    <tr>\n",
       "      <th>mean</th>\n",
       "      <td>24.833333</td>\n",
       "      <td>79.000000</td>\n",
       "    </tr>\n",
       "    <tr>\n",
       "      <th>std</th>\n",
       "      <td>15.341664</td>\n",
       "      <td>28.312541</td>\n",
       "    </tr>\n",
       "    <tr>\n",
       "      <th>min</th>\n",
       "      <td>7.000000</td>\n",
       "      <td>42.000000</td>\n",
       "    </tr>\n",
       "    <tr>\n",
       "      <th>50%</th>\n",
       "      <td>24.000000</td>\n",
       "      <td>73.000000</td>\n",
       "    </tr>\n",
       "    <tr>\n",
       "      <th>max</th>\n",
       "      <td>43.000000</td>\n",
       "      <td>119.000000</td>\n",
       "    </tr>\n",
       "  </tbody>\n",
       "</table>\n",
       "</div>"
      ],
      "text/plain": [
       "              HR         RBI\n",
       "count   6.000000    6.000000\n",
       "mean   24.833333   79.000000\n",
       "std    15.341664   28.312541\n",
       "min     7.000000   42.000000\n",
       "50%    24.000000   73.000000\n",
       "max    43.000000  119.000000"
      ]
     },
     "execution_count": 167,
     "metadata": {},
     "output_type": "execute_result"
    }
   ],
   "source": [
    "metrics1 = hr_rbi.describe(percentiles=[.5])\n",
    "metrics1"
   ]
  },
  {
   "cell_type": "code",
   "execution_count": 168,
   "metadata": {},
   "outputs": [
    {
     "data": {
      "text/html": [
       "<div>\n",
       "<style scoped>\n",
       "    .dataframe tbody tr th:only-of-type {\n",
       "        vertical-align: middle;\n",
       "    }\n",
       "\n",
       "    .dataframe tbody tr th {\n",
       "        vertical-align: top;\n",
       "    }\n",
       "\n",
       "    .dataframe thead th {\n",
       "        text-align: right;\n",
       "    }\n",
       "</style>\n",
       "<table border=\"1\" class=\"dataframe\">\n",
       "  <thead>\n",
       "    <tr style=\"text-align: right;\">\n",
       "      <th></th>\n",
       "      <th>HR</th>\n",
       "      <th>RBI</th>\n",
       "    </tr>\n",
       "  </thead>\n",
       "  <tbody>\n",
       "    <tr>\n",
       "      <th>count</th>\n",
       "      <td>6.000000</td>\n",
       "      <td>6.000000</td>\n",
       "    </tr>\n",
       "    <tr>\n",
       "      <th>mean</th>\n",
       "      <td>24.833333</td>\n",
       "      <td>79.000000</td>\n",
       "    </tr>\n",
       "    <tr>\n",
       "      <th>std</th>\n",
       "      <td>15.341664</td>\n",
       "      <td>28.312541</td>\n",
       "    </tr>\n",
       "    <tr>\n",
       "      <th>min</th>\n",
       "      <td>7.000000</td>\n",
       "      <td>42.000000</td>\n",
       "    </tr>\n",
       "    <tr>\n",
       "      <th>10%</th>\n",
       "      <td>9.500000</td>\n",
       "      <td>52.000000</td>\n",
       "    </tr>\n",
       "    <tr>\n",
       "      <th>50%</th>\n",
       "      <td>24.000000</td>\n",
       "      <td>73.000000</td>\n",
       "    </tr>\n",
       "    <tr>\n",
       "      <th>max</th>\n",
       "      <td>43.000000</td>\n",
       "      <td>119.000000</td>\n",
       "    </tr>\n",
       "  </tbody>\n",
       "</table>\n",
       "</div>"
      ],
      "text/plain": [
       "              HR         RBI\n",
       "count   6.000000    6.000000\n",
       "mean   24.833333   79.000000\n",
       "std    15.341664   28.312541\n",
       "min     7.000000   42.000000\n",
       "10%     9.500000   52.000000\n",
       "50%    24.000000   73.000000\n",
       "max    43.000000  119.000000"
      ]
     },
     "execution_count": 168,
     "metadata": {},
     "output_type": "execute_result"
    }
   ],
   "source": [
    "metrics2 = hr_rbi.describe(percentiles=[.1])\n",
    "metrics2"
   ]
  },
  {
   "cell_type": "code",
   "execution_count": 169,
   "metadata": {},
   "outputs": [
    {
     "data": {
      "text/html": [
       "<div>\n",
       "<style scoped>\n",
       "    .dataframe tbody tr th:only-of-type {\n",
       "        vertical-align: middle;\n",
       "    }\n",
       "\n",
       "    .dataframe tbody tr th {\n",
       "        vertical-align: top;\n",
       "    }\n",
       "\n",
       "    .dataframe thead th {\n",
       "        text-align: right;\n",
       "    }\n",
       "</style>\n",
       "<table border=\"1\" class=\"dataframe\">\n",
       "  <thead>\n",
       "    <tr style=\"text-align: right;\">\n",
       "      <th></th>\n",
       "      <th>HR</th>\n",
       "      <th>RBI</th>\n",
       "    </tr>\n",
       "  </thead>\n",
       "  <tbody>\n",
       "    <tr>\n",
       "      <th>count</th>\n",
       "      <td>6.000000</td>\n",
       "      <td>6.000000</td>\n",
       "    </tr>\n",
       "    <tr>\n",
       "      <th>mean</th>\n",
       "      <td>24.833333</td>\n",
       "      <td>79.000000</td>\n",
       "    </tr>\n",
       "    <tr>\n",
       "      <th>std</th>\n",
       "      <td>15.341664</td>\n",
       "      <td>28.312541</td>\n",
       "    </tr>\n",
       "    <tr>\n",
       "      <th>min</th>\n",
       "      <td>7.000000</td>\n",
       "      <td>42.000000</td>\n",
       "    </tr>\n",
       "    <tr>\n",
       "      <th>20%</th>\n",
       "      <td>12.000000</td>\n",
       "      <td>62.000000</td>\n",
       "    </tr>\n",
       "    <tr>\n",
       "      <th>50%</th>\n",
       "      <td>24.000000</td>\n",
       "      <td>73.000000</td>\n",
       "    </tr>\n",
       "    <tr>\n",
       "      <th>80%</th>\n",
       "      <td>39.000000</td>\n",
       "      <td>105.000000</td>\n",
       "    </tr>\n",
       "    <tr>\n",
       "      <th>max</th>\n",
       "      <td>43.000000</td>\n",
       "      <td>119.000000</td>\n",
       "    </tr>\n",
       "  </tbody>\n",
       "</table>\n",
       "</div>"
      ],
      "text/plain": [
       "              HR         RBI\n",
       "count   6.000000    6.000000\n",
       "mean   24.833333   79.000000\n",
       "std    15.341664   28.312541\n",
       "min     7.000000   42.000000\n",
       "20%    12.000000   62.000000\n",
       "50%    24.000000   73.000000\n",
       "80%    39.000000  105.000000\n",
       "max    43.000000  119.000000"
      ]
     },
     "execution_count": 169,
     "metadata": {},
     "output_type": "execute_result"
    }
   ],
   "source": [
    "metrics3 = hr_rbi.describe(percentiles=[.2,.8])\n",
    "metrics3"
   ]
  },
  {
   "cell_type": "markdown",
   "metadata": {},
   "source": [
    "Note that the 50th percentile, i.e. the median, is always returned. The values specified in the  `percentiles`  list will replace the default 25th and 75th percentiles."
   ]
  },
  {
   "cell_type": "markdown",
   "metadata": {},
   "source": [
    "### B. Categorical features"
   ]
  },
  {
   "cell_type": "markdown",
   "metadata": {},
   "source": [
    "With categorical features, we don't calculate metrics like mean, standard deviation, etc. Instead, we use  *frequency counts*  to describe a categorical feature.\n",
    "\n",
    "The frequency count for a specific category of a feature refers to how many times that category appears in the dataset. In pandas, we use the  `value_counts`  function to obtain the frequency counts for each category in a column feature.\n",
    "\n",
    "The code below uses the  `value_counts`  function to get frequency counts of the  `'playerID'`  feature."
   ]
  },
  {
   "cell_type": "code",
   "execution_count": 170,
   "metadata": {},
   "outputs": [
    {
     "data": {
      "text/plain": [
       "pedrodu01    3\n",
       "cruzne02     2\n",
       "troutmi01    1\n",
       "Name: playerID, dtype: int64"
      ]
     },
     "execution_count": 170,
     "metadata": {},
     "output_type": "execute_result"
    }
   ],
   "source": [
    "p_ids = df['playerID']\n",
    "p_ids.value_counts()"
   ]
  },
  {
   "cell_type": "code",
   "execution_count": 171,
   "metadata": {},
   "outputs": [
    {
     "data": {
      "text/plain": [
       "pedrodu01    0.500000\n",
       "cruzne02     0.333333\n",
       "troutmi01    0.166667\n",
       "Name: playerID, dtype: float64"
      ]
     },
     "execution_count": 171,
     "metadata": {},
     "output_type": "execute_result"
    }
   ],
   "source": [
    "p_ids.value_counts(normalize=True)"
   ]
  },
  {
   "cell_type": "code",
   "execution_count": 172,
   "metadata": {},
   "outputs": [
    {
     "data": {
      "text/plain": [
       "troutmi01    1\n",
       "cruzne02     2\n",
       "pedrodu01    3\n",
       "Name: playerID, dtype: int64"
      ]
     },
     "execution_count": 172,
     "metadata": {},
     "output_type": "execute_result"
    }
   ],
   "source": [
    "p_ids.value_counts(ascending=True)"
   ]
  },
  {
   "cell_type": "markdown",
   "metadata": {},
   "source": [
    "Using  `value_counts`  without any keyword arguments will return the frequency counts for each category, sorted in descending order.\n",
    "\n",
    "Setting  `normalize=True`  returns the frequency proportions, rather than counts, for each category (note that the sum of all the proportions is 1). We can also set  `ascending=True`  to get the frequencies sorted in ascending order.\n",
    "\n",
    "If we just want the names of each unique category in a column, rather than the frequencies, we use the  `unique`  function."
   ]
  },
  {
   "cell_type": "code",
   "execution_count": 173,
   "metadata": {},
   "outputs": [
    {
     "data": {
      "text/plain": [
       "array(['cruzne02', 'pedrodu01', 'troutmi01'], dtype=object)"
      ]
     },
     "execution_count": 173,
     "metadata": {},
     "output_type": "execute_result"
    }
   ],
   "source": [
    "unique_players = df['playerID'].unique()\n",
    "unique_players"
   ]
  },
  {
   "cell_type": "code",
   "execution_count": 174,
   "metadata": {},
   "outputs": [
    {
     "data": {
      "text/plain": [
       "array(['SEA', 'BOS', 'LAA'], dtype=object)"
      ]
     },
     "execution_count": 174,
     "metadata": {},
     "output_type": "execute_result"
    }
   ],
   "source": [
    "unique_teams = df['teamID'].unique()\n",
    "unique_teams"
   ]
  },
  {
   "cell_type": "markdown",
   "metadata": {},
   "source": [
    "So far we've focused on categorical features with string values. However, categorical features can also have integer values. For example, we can use  `yearID`  as a categorical feature with each unique year as a separate category."
   ]
  },
  {
   "cell_type": "code",
   "execution_count": 175,
   "metadata": {},
   "outputs": [
    {
     "data": {
      "text/plain": [
       "0    2017\n",
       "1    2017\n",
       "2    2016\n",
       "3    2015\n",
       "4    2017\n",
       "5    2016\n",
       "Name: yearID, dtype: int64"
      ]
     },
     "execution_count": 175,
     "metadata": {},
     "output_type": "execute_result"
    }
   ],
   "source": [
    "y_ids = df['yearID']\n",
    "y_ids"
   ]
  },
  {
   "cell_type": "code",
   "execution_count": 176,
   "metadata": {},
   "outputs": [
    {
     "data": {
      "text/plain": [
       "array([2017, 2016, 2015], dtype=int64)"
      ]
     },
     "execution_count": 176,
     "metadata": {},
     "output_type": "execute_result"
    }
   ],
   "source": [
    "y_ids.unique()"
   ]
  },
  {
   "cell_type": "code",
   "execution_count": 177,
   "metadata": {},
   "outputs": [
    {
     "data": {
      "text/plain": [
       "2017    3\n",
       "2016    2\n",
       "2015    1\n",
       "Name: yearID, dtype: int64"
      ]
     },
     "execution_count": 177,
     "metadata": {},
     "output_type": "execute_result"
    }
   ],
   "source": [
    "y_ids.value_counts()"
   ]
  },
  {
   "cell_type": "markdown",
   "metadata": {},
   "source": [
    "## Plotting\n",
    "\n",
    "Learn how to plot DataFrames using the pyplot API from Matplotlib."
   ]
  },
  {
   "cell_type": "markdown",
   "metadata": {},
   "source": [
    "### Goals:\n",
    "\n",
    "* Explore how to plot DataFrames using the pyplot API"
   ]
  },
  {
   "cell_type": "markdown",
   "metadata": {},
   "source": [
    "### A. Basics"
   ]
  },
  {
   "cell_type": "markdown",
   "metadata": {},
   "source": [
    "The main function used for plotting DataFrames is  `plot` . This function is used in tandem with the  `show`  function from the pyplot API, to produce plot visualizations. We import the pyplot API with the line:\n",
    "`import matplotlib.pyplot as plt`"
   ]
  },
  {
   "cell_type": "code",
   "execution_count": 178,
   "metadata": {},
   "outputs": [
    {
     "data": {
      "text/html": [
       "<div>\n",
       "<style scoped>\n",
       "    .dataframe tbody tr th:only-of-type {\n",
       "        vertical-align: middle;\n",
       "    }\n",
       "\n",
       "    .dataframe tbody tr th {\n",
       "        vertical-align: top;\n",
       "    }\n",
       "\n",
       "    .dataframe thead th {\n",
       "        text-align: right;\n",
       "    }\n",
       "</style>\n",
       "<table border=\"1\" class=\"dataframe\">\n",
       "  <thead>\n",
       "    <tr style=\"text-align: right;\">\n",
       "      <th></th>\n",
       "      <th>yearID</th>\n",
       "      <th>HR</th>\n",
       "    </tr>\n",
       "  </thead>\n",
       "  <tbody>\n",
       "    <tr>\n",
       "      <th>0</th>\n",
       "      <td>2000</td>\n",
       "      <td>49</td>\n",
       "    </tr>\n",
       "    <tr>\n",
       "      <th>1</th>\n",
       "      <td>2001</td>\n",
       "      <td>73</td>\n",
       "    </tr>\n",
       "    <tr>\n",
       "      <th>2</th>\n",
       "      <td>2002</td>\n",
       "      <td>46</td>\n",
       "    </tr>\n",
       "    <tr>\n",
       "      <th>3</th>\n",
       "      <td>2003</td>\n",
       "      <td>45</td>\n",
       "    </tr>\n",
       "    <tr>\n",
       "      <th>4</th>\n",
       "      <td>2004</td>\n",
       "      <td>45</td>\n",
       "    </tr>\n",
       "    <tr>\n",
       "      <th>5</th>\n",
       "      <td>2005</td>\n",
       "      <td>5</td>\n",
       "    </tr>\n",
       "    <tr>\n",
       "      <th>6</th>\n",
       "      <td>2006</td>\n",
       "      <td>26</td>\n",
       "    </tr>\n",
       "    <tr>\n",
       "      <th>7</th>\n",
       "      <td>2007</td>\n",
       "      <td>28</td>\n",
       "    </tr>\n",
       "  </tbody>\n",
       "</table>\n",
       "</div>"
      ],
      "text/plain": [
       "   yearID  HR\n",
       "0    2000  49\n",
       "1    2001  73\n",
       "2    2002  46\n",
       "3    2003  45\n",
       "4    2004  45\n",
       "5    2005   5\n",
       "6    2006  26\n",
       "7    2007  28"
      ]
     },
     "execution_count": 178,
     "metadata": {},
     "output_type": "execute_result"
    }
   ],
   "source": [
    "df = pd.DataFrame(\n",
    "    {\n",
    "        'yearID': [2000, 2001, 2002, 2003, 2004, 2005, 2006, 2007], \n",
    "        'HR': [49, 73, 46, 45, 45, 5, 26, 28]\n",
    "    }\n",
    ")\n",
    "df"
   ]
  },
  {
   "cell_type": "code",
   "execution_count": 181,
   "metadata": {},
   "outputs": [
    {
     "data": {
      "image/png": "[encoded data removed]",
      "text/plain": [
       "<Figure size 432x288 with 1 Axes>"
      ]
     },
     "metadata": {},
     "output_type": "display_data"
    }
   ],
   "source": [
    "df.plot(x='yearID', y='HR')\n",
    "plt.show()"
   ]
  },
  {
   "cell_type": "markdown",
   "metadata": {},
   "source": [
    "After calling  `df.plot` , which creates our line plot, we then use  `plt.show`  to open a separate window containing the visualization of the plot. You can also use  `plt.savefig`  to save the plot to a PNG or PDF file."
   ]
  },
  {
   "cell_type": "code",
   "execution_count": 182,
   "metadata": {},
   "outputs": [
    {
     "data": {
      "text/html": [
       "<div>\n",
       "<style scoped>\n",
       "    .dataframe tbody tr th:only-of-type {\n",
       "        vertical-align: middle;\n",
       "    }\n",
       "\n",
       "    .dataframe tbody tr th {\n",
       "        vertical-align: top;\n",
       "    }\n",
       "\n",
       "    .dataframe thead th {\n",
       "        text-align: right;\n",
       "    }\n",
       "</style>\n",
       "<table border=\"1\" class=\"dataframe\">\n",
       "  <thead>\n",
       "    <tr style=\"text-align: right;\">\n",
       "      <th></th>\n",
       "      <th>yearID</th>\n",
       "      <th>HR</th>\n",
       "    </tr>\n",
       "  </thead>\n",
       "  <tbody>\n",
       "    <tr>\n",
       "      <th>0</th>\n",
       "      <td>2000</td>\n",
       "      <td>49</td>\n",
       "    </tr>\n",
       "    <tr>\n",
       "      <th>1</th>\n",
       "      <td>2001</td>\n",
       "      <td>73</td>\n",
       "    </tr>\n",
       "    <tr>\n",
       "      <th>2</th>\n",
       "      <td>2002</td>\n",
       "      <td>46</td>\n",
       "    </tr>\n",
       "    <tr>\n",
       "      <th>3</th>\n",
       "      <td>2003</td>\n",
       "      <td>45</td>\n",
       "    </tr>\n",
       "    <tr>\n",
       "      <th>4</th>\n",
       "      <td>2004</td>\n",
       "      <td>45</td>\n",
       "    </tr>\n",
       "    <tr>\n",
       "      <th>5</th>\n",
       "      <td>2005</td>\n",
       "      <td>5</td>\n",
       "    </tr>\n",
       "    <tr>\n",
       "      <th>6</th>\n",
       "      <td>2006</td>\n",
       "      <td>26</td>\n",
       "    </tr>\n",
       "    <tr>\n",
       "      <th>7</th>\n",
       "      <td>2007</td>\n",
       "      <td>28</td>\n",
       "    </tr>\n",
       "  </tbody>\n",
       "</table>\n",
       "</div>"
      ],
      "text/plain": [
       "   yearID  HR\n",
       "0    2000  49\n",
       "1    2001  73\n",
       "2    2002  46\n",
       "3    2003  45\n",
       "4    2004  45\n",
       "5    2005   5\n",
       "6    2006  26\n",
       "7    2007  28"
      ]
     },
     "execution_count": 182,
     "metadata": {},
     "output_type": "execute_result"
    }
   ],
   "source": [
    "df"
   ]
  },
  {
   "cell_type": "code",
   "execution_count": 183,
   "metadata": {},
   "outputs": [
    {
     "data": {
      "image/png": "[encoded data removed]",
      "text/plain": [
       "<Figure size 432x288 with 1 Axes>"
      ]
     },
     "metadata": {},
     "output_type": "display_data"
    }
   ],
   "source": [
    "df.plot(x='yearID', y='HR')\n",
    "plt.savefig('df.png')  # save to PNG file"
   ]
  },
  {
   "cell_type": "markdown",
   "metadata": {},
   "source": [
    "The plot we created has no title or  *y* -axis label. We can manually set the plot's title and axis labels using the pyplot API."
   ]
  },
  {
   "cell_type": "code",
   "execution_count": 184,
   "metadata": {},
   "outputs": [
    {
     "data": {
      "text/html": [
       "<div>\n",
       "<style scoped>\n",
       "    .dataframe tbody tr th:only-of-type {\n",
       "        vertical-align: middle;\n",
       "    }\n",
       "\n",
       "    .dataframe tbody tr th {\n",
       "        vertical-align: top;\n",
       "    }\n",
       "\n",
       "    .dataframe thead th {\n",
       "        text-align: right;\n",
       "    }\n",
       "</style>\n",
       "<table border=\"1\" class=\"dataframe\">\n",
       "  <thead>\n",
       "    <tr style=\"text-align: right;\">\n",
       "      <th></th>\n",
       "      <th>yearID</th>\n",
       "      <th>HR</th>\n",
       "    </tr>\n",
       "  </thead>\n",
       "  <tbody>\n",
       "    <tr>\n",
       "      <th>0</th>\n",
       "      <td>2000</td>\n",
       "      <td>49</td>\n",
       "    </tr>\n",
       "    <tr>\n",
       "      <th>1</th>\n",
       "      <td>2001</td>\n",
       "      <td>73</td>\n",
       "    </tr>\n",
       "    <tr>\n",
       "      <th>2</th>\n",
       "      <td>2002</td>\n",
       "      <td>46</td>\n",
       "    </tr>\n",
       "    <tr>\n",
       "      <th>3</th>\n",
       "      <td>2003</td>\n",
       "      <td>45</td>\n",
       "    </tr>\n",
       "    <tr>\n",
       "      <th>4</th>\n",
       "      <td>2004</td>\n",
       "      <td>45</td>\n",
       "    </tr>\n",
       "    <tr>\n",
       "      <th>5</th>\n",
       "      <td>2005</td>\n",
       "      <td>5</td>\n",
       "    </tr>\n",
       "    <tr>\n",
       "      <th>6</th>\n",
       "      <td>2006</td>\n",
       "      <td>26</td>\n",
       "    </tr>\n",
       "    <tr>\n",
       "      <th>7</th>\n",
       "      <td>2007</td>\n",
       "      <td>28</td>\n",
       "    </tr>\n",
       "  </tbody>\n",
       "</table>\n",
       "</div>"
      ],
      "text/plain": [
       "   yearID  HR\n",
       "0    2000  49\n",
       "1    2001  73\n",
       "2    2002  46\n",
       "3    2003  45\n",
       "4    2004  45\n",
       "5    2005   5\n",
       "6    2006  26\n",
       "7    2007  28"
      ]
     },
     "execution_count": 184,
     "metadata": {},
     "output_type": "execute_result"
    }
   ],
   "source": [
    "df"
   ]
  },
  {
   "cell_type": "code",
   "execution_count": 185,
   "metadata": {},
   "outputs": [
    {
     "data": {
      "image/png": "[encoded data removed]",
      "text/plain": [
       "<Figure size 432x288 with 1 Axes>"
      ]
     },
     "metadata": {},
     "output_type": "display_data"
    }
   ],
   "source": [
    "df.plot(x='yearID', y='HR')\n",
    "plt.title('HR vs. Year')\n",
    "plt.xlabel('Year')\n",
    "plt.ylabel('HR Count')\n",
    "plt.show()"
   ]
  },
  {
   "cell_type": "markdown",
   "metadata": {},
   "source": [
    "We use the  `title`  function to set the title of our plot, and the  `xlabel`  and  `ylabel`  functions to set the axis labels."
   ]
  },
  {
   "cell_type": "markdown",
   "metadata": {},
   "source": [
    "### B. Other plots"
   ]
  },
  {
   "cell_type": "markdown",
   "metadata": {},
   "source": [
    "In addition to basic line plots, we can create other plots like histograms or boxplots by setting the  `kind`  keyword argument in  `plot` ."
   ]
  },
  {
   "cell_type": "code",
   "execution_count": 187,
   "metadata": {},
   "outputs": [
    {
     "data": {
      "text/html": [
       "<div>\n",
       "<style scoped>\n",
       "    .dataframe tbody tr th:only-of-type {\n",
       "        vertical-align: middle;\n",
       "    }\n",
       "\n",
       "    .dataframe tbody tr th {\n",
       "        vertical-align: top;\n",
       "    }\n",
       "\n",
       "    .dataframe thead th {\n",
       "        text-align: right;\n",
       "    }\n",
       "</style>\n",
       "<table border=\"1\" class=\"dataframe\">\n",
       "  <thead>\n",
       "    <tr style=\"text-align: right;\">\n",
       "      <th></th>\n",
       "      <th>yearID</th>\n",
       "      <th>HR</th>\n",
       "    </tr>\n",
       "  </thead>\n",
       "  <tbody>\n",
       "    <tr>\n",
       "      <th>0</th>\n",
       "      <td>2000</td>\n",
       "      <td>49</td>\n",
       "    </tr>\n",
       "    <tr>\n",
       "      <th>1</th>\n",
       "      <td>2001</td>\n",
       "      <td>73</td>\n",
       "    </tr>\n",
       "    <tr>\n",
       "      <th>2</th>\n",
       "      <td>2002</td>\n",
       "      <td>46</td>\n",
       "    </tr>\n",
       "    <tr>\n",
       "      <th>3</th>\n",
       "      <td>2003</td>\n",
       "      <td>45</td>\n",
       "    </tr>\n",
       "    <tr>\n",
       "      <th>4</th>\n",
       "      <td>2004</td>\n",
       "      <td>45</td>\n",
       "    </tr>\n",
       "    <tr>\n",
       "      <th>5</th>\n",
       "      <td>2005</td>\n",
       "      <td>5</td>\n",
       "    </tr>\n",
       "    <tr>\n",
       "      <th>6</th>\n",
       "      <td>2006</td>\n",
       "      <td>26</td>\n",
       "    </tr>\n",
       "    <tr>\n",
       "      <th>7</th>\n",
       "      <td>2007</td>\n",
       "      <td>28</td>\n",
       "    </tr>\n",
       "  </tbody>\n",
       "</table>\n",
       "</div>"
      ],
      "text/plain": [
       "   yearID  HR\n",
       "0    2000  49\n",
       "1    2001  73\n",
       "2    2002  46\n",
       "3    2003  45\n",
       "4    2004  45\n",
       "5    2005   5\n",
       "6    2006  26\n",
       "7    2007  28"
      ]
     },
     "execution_count": 187,
     "metadata": {},
     "output_type": "execute_result"
    }
   ],
   "source": [
    "df"
   ]
  },
  {
   "cell_type": "code",
   "execution_count": 188,
   "metadata": {},
   "outputs": [
    {
     "data": {
      "image/png": "[encoded data removed]",
      "text/plain": [
       "<Figure size 432x288 with 1 Axes>"
      ]
     },
     "metadata": {},
     "output_type": "display_data"
    }
   ],
   "source": [
    "df.HR.plot(kind='hist')\n",
    "plt.show()"
   ]
  },
  {
   "cell_type": "code",
   "execution_count": 189,
   "metadata": {},
   "outputs": [
    {
     "data": {
      "image/png": "[encoded data removed]",
      "text/plain": [
       "<Figure size 432x288 with 1 Axes>"
      ]
     },
     "metadata": {},
     "output_type": "display_data"
    }
   ],
   "source": [
    "df.HR.plot(kind='box')\n",
    "plt.show()"
   ]
  },
  {
   "cell_type": "markdown",
   "metadata": {},
   "source": [
    "There are numerous different kinds of plots we can create by setting the  `kind`  keyword argument. A list of the accepted values for  `kind`  can be found in the [documentation](https://pandas.pydata.org/pandas-docs/stable/reference/api/pandas.DataFrame.plot.html#pandas.DataFrame.plot) for  `plot` ."
   ]
  },
  {
   "cell_type": "markdown",
   "metadata": {},
   "source": [
    "### C. Multiple features"
   ]
  },
  {
   "cell_type": "markdown",
   "metadata": {},
   "source": [
    "We can also plot multiple features on the same graph. This can be extremely useful when we want visualizations to compare different features."
   ]
  },
  {
   "cell_type": "code",
   "execution_count": 190,
   "metadata": {},
   "outputs": [
    {
     "data": {
      "text/html": [
       "<div>\n",
       "<style scoped>\n",
       "    .dataframe tbody tr th:only-of-type {\n",
       "        vertical-align: middle;\n",
       "    }\n",
       "\n",
       "    .dataframe tbody tr th {\n",
       "        vertical-align: top;\n",
       "    }\n",
       "\n",
       "    .dataframe thead th {\n",
       "        text-align: right;\n",
       "    }\n",
       "</style>\n",
       "<table border=\"1\" class=\"dataframe\">\n",
       "  <thead>\n",
       "    <tr style=\"text-align: right;\">\n",
       "      <th></th>\n",
       "      <th>yearID</th>\n",
       "      <th>H</th>\n",
       "      <th>BB</th>\n",
       "    </tr>\n",
       "  </thead>\n",
       "  <tbody>\n",
       "    <tr>\n",
       "      <th>0</th>\n",
       "      <td>2000</td>\n",
       "      <td>147</td>\n",
       "      <td>117</td>\n",
       "    </tr>\n",
       "    <tr>\n",
       "      <th>1</th>\n",
       "      <td>2001</td>\n",
       "      <td>156</td>\n",
       "      <td>177</td>\n",
       "    </tr>\n",
       "    <tr>\n",
       "      <th>2</th>\n",
       "      <td>2002</td>\n",
       "      <td>149</td>\n",
       "      <td>198</td>\n",
       "    </tr>\n",
       "    <tr>\n",
       "      <th>3</th>\n",
       "      <td>2003</td>\n",
       "      <td>133</td>\n",
       "      <td>148</td>\n",
       "    </tr>\n",
       "    <tr>\n",
       "      <th>4</th>\n",
       "      <td>2004</td>\n",
       "      <td>135</td>\n",
       "      <td>232</td>\n",
       "    </tr>\n",
       "    <tr>\n",
       "      <th>5</th>\n",
       "      <td>2005</td>\n",
       "      <td>12</td>\n",
       "      <td>9</td>\n",
       "    </tr>\n",
       "    <tr>\n",
       "      <th>6</th>\n",
       "      <td>2006</td>\n",
       "      <td>99</td>\n",
       "      <td>115</td>\n",
       "    </tr>\n",
       "    <tr>\n",
       "      <th>7</th>\n",
       "      <td>2007</td>\n",
       "      <td>94</td>\n",
       "      <td>132</td>\n",
       "    </tr>\n",
       "  </tbody>\n",
       "</table>\n",
       "</div>"
      ],
      "text/plain": [
       "   yearID    H   BB\n",
       "0    2000  147  117\n",
       "1    2001  156  177\n",
       "2    2002  149  198\n",
       "3    2003  133  148\n",
       "4    2004  135  232\n",
       "5    2005   12    9\n",
       "6    2006   99  115\n",
       "7    2007   94  132"
      ]
     },
     "execution_count": 190,
     "metadata": {},
     "output_type": "execute_result"
    }
   ],
   "source": [
    "df = pd.DataFrame(\n",
    "    {\n",
    "        'yearID': [2000, 2001, 2002, 2003, 2004, 2005, 2006, 2007], \n",
    "        'H': [147, 156, 149, 133, 135, 12, 99, 94], \n",
    "        'BB': [117, 177, 198, 148, 232, 9, 115, 132]\n",
    "    }\n",
    ")\n",
    "df"
   ]
  },
  {
   "cell_type": "code",
   "execution_count": 191,
   "metadata": {},
   "outputs": [
    {
     "data": {
      "image/png": "[encoded data removed]",
      "text/plain": [
       "<Figure size 432x288 with 1 Axes>"
      ]
     },
     "metadata": {},
     "output_type": "display_data"
    }
   ],
   "source": [
    "df.plot(x='yearID')\n",
    "plt.show()"
   ]
  },
  {
   "cell_type": "code",
   "execution_count": 193,
   "metadata": {},
   "outputs": [
    {
     "data": {
      "image/png": "[encoded data removed]",
      "text/plain": [
       "<Figure size 432x288 with 1 Axes>"
      ]
     },
     "metadata": {},
     "output_type": "display_data"
    }
   ],
   "source": [
    "df[['H', 'BB']].plot(kind='box')\n",
    "plt.show()"
   ]
  },
  {
   "cell_type": "markdown",
   "metadata": {},
   "source": [
    "These are a line plot and boxplot showing both hits ( `H` ) and walks ( `BB` ). Note that the circles in the boxplot represent outlier values."
   ]
  },
  {
   "cell_type": "markdown",
   "metadata": {},
   "source": [
    "## To NumPy\n",
    "\n",
    "Understand how DataFrames can be converted to 2-D NumPy arrays."
   ]
  },
  {
   "cell_type": "markdown",
   "metadata": {},
   "source": [
    "### Goals:\n",
    "\n",
    "* Explore how to convert a DataFrame to a NumPy matrix\n",
    "* Write code to modify an MLB dataset and convert it to a NumPy matrix"
   ]
  },
  {
   "cell_type": "markdown",
   "metadata": {},
   "source": [
    "### A. Machine learning"
   ]
  },
  {
   "cell_type": "markdown",
   "metadata": {},
   "source": [
    "The DataFrame object is great for storing a dataset and performing data analysis in Python. However, most machine learning frameworks (e.g. TensorFlow), work directly with NumPy data. Furthermore, the NumPy data used as input to machine learning models must solely contain quantitative values.\n",
    "\n",
    "Therefore, to use a DataFrame's data with a machine learning model, we need to convert the DataFrame to a NumPy matrix of quantitative data. So even the categorical features of a DataFrame, such as gender and birthplace, must be converted to quantitative values."
   ]
  },
  {
   "cell_type": "markdown",
   "metadata": {},
   "source": [
    "### B. Indicator features"
   ]
  },
  {
   "cell_type": "markdown",
   "metadata": {},
   "source": [
    "When converting a DataFrame to a NumPy matrix of quantitative data, we need to find a way to modify the categorical features in the DataFrame.\n",
    "\n",
    "The easiest way to do this is to convert each categorical feature into a set of  *indicator features*  for each of its categories. The indicator feature for a specific category represents whether or not a given data sample belongs to that category.\n",
    "\n",
    "The code below shows a DataFrame with indicator features."
   ]
  },
  {
   "cell_type": "code",
   "execution_count": 3,
   "metadata": {},
   "outputs": [
    {
     "data": {
      "text/html": [
       "<div>\n",
       "<style scoped>\n",
       "    .dataframe tbody tr th:only-of-type {\n",
       "        vertical-align: middle;\n",
       "    }\n",
       "\n",
       "    .dataframe tbody tr th {\n",
       "        vertical-align: top;\n",
       "    }\n",
       "\n",
       "    .dataframe thead th {\n",
       "        text-align: right;\n",
       "    }\n",
       "</style>\n",
       "<table border=\"1\" class=\"dataframe\">\n",
       "  <thead>\n",
       "    <tr style=\"text-align: right;\">\n",
       "      <th></th>\n",
       "      <th>color</th>\n",
       "    </tr>\n",
       "  </thead>\n",
       "  <tbody>\n",
       "    <tr>\n",
       "      <th>r1</th>\n",
       "      <td>red</td>\n",
       "    </tr>\n",
       "    <tr>\n",
       "      <th>r2</th>\n",
       "      <td>blue</td>\n",
       "    </tr>\n",
       "    <tr>\n",
       "      <th>r3</th>\n",
       "      <td>green</td>\n",
       "    </tr>\n",
       "    <tr>\n",
       "      <th>r4</th>\n",
       "      <td>red</td>\n",
       "    </tr>\n",
       "    <tr>\n",
       "      <th>r5</th>\n",
       "      <td>red</td>\n",
       "    </tr>\n",
       "    <tr>\n",
       "      <th>r6</th>\n",
       "      <td>blue</td>\n",
       "    </tr>\n",
       "  </tbody>\n",
       "</table>\n",
       "</div>"
      ],
      "text/plain": [
       "    color\n",
       "r1    red\n",
       "r2   blue\n",
       "r3  green\n",
       "r4    red\n",
       "r5    red\n",
       "r6   blue"
      ]
     },
     "execution_count": 3,
     "metadata": {},
     "output_type": "execute_result"
    }
   ],
   "source": [
    "df = pd.DataFrame(\n",
    "    {\n",
    "        'color': {'r3': 'green', 'r4': 'red', 'r6': 'blue', 'r5': 'red', 'r1': 'red', 'r2': 'blue'}\n",
    "    }\n",
    ")\n",
    "df"
   ]
  },
  {
   "cell_type": "code",
   "execution_count": 4,
   "metadata": {},
   "outputs": [
    {
     "data": {
      "text/html": [
       "<div>\n",
       "<style scoped>\n",
       "    .dataframe tbody tr th:only-of-type {\n",
       "        vertical-align: middle;\n",
       "    }\n",
       "\n",
       "    .dataframe tbody tr th {\n",
       "        vertical-align: top;\n",
       "    }\n",
       "\n",
       "    .dataframe thead th {\n",
       "        text-align: right;\n",
       "    }\n",
       "</style>\n",
       "<table border=\"1\" class=\"dataframe\">\n",
       "  <thead>\n",
       "    <tr style=\"text-align: right;\">\n",
       "      <th></th>\n",
       "      <th>color_blue</th>\n",
       "      <th>color_green</th>\n",
       "      <th>color_red</th>\n",
       "    </tr>\n",
       "  </thead>\n",
       "  <tbody>\n",
       "    <tr>\n",
       "      <th>r1</th>\n",
       "      <td>0</td>\n",
       "      <td>0</td>\n",
       "      <td>1</td>\n",
       "    </tr>\n",
       "    <tr>\n",
       "      <th>r2</th>\n",
       "      <td>1</td>\n",
       "      <td>0</td>\n",
       "      <td>0</td>\n",
       "    </tr>\n",
       "    <tr>\n",
       "      <th>r3</th>\n",
       "      <td>0</td>\n",
       "      <td>1</td>\n",
       "      <td>0</td>\n",
       "    </tr>\n",
       "    <tr>\n",
       "      <th>r4</th>\n",
       "      <td>0</td>\n",
       "      <td>0</td>\n",
       "      <td>1</td>\n",
       "    </tr>\n",
       "    <tr>\n",
       "      <th>r5</th>\n",
       "      <td>0</td>\n",
       "      <td>0</td>\n",
       "      <td>1</td>\n",
       "    </tr>\n",
       "    <tr>\n",
       "      <th>r6</th>\n",
       "      <td>1</td>\n",
       "      <td>0</td>\n",
       "      <td>0</td>\n",
       "    </tr>\n",
       "  </tbody>\n",
       "</table>\n",
       "</div>"
      ],
      "text/plain": [
       "    color_blue  color_green  color_red\n",
       "r1           0            0          1\n",
       "r2           1            0          0\n",
       "r3           0            1          0\n",
       "r4           0            0          1\n",
       "r5           0            0          1\n",
       "r6           1            0          0"
      ]
     },
     "execution_count": 4,
     "metadata": {},
     "output_type": "execute_result"
    }
   ],
   "source": [
    "pd.get_dummies(df)"
   ]
  },
  {
   "cell_type": "markdown",
   "metadata": {},
   "source": [
    "In the code above, the DataFrame  `df`  has a single categorical feature called  `Color` . The corresponding indicator features for  `Color`  are shown in  `indicator_df` .\n",
    "\n",
    "Note that an indicator feature contains  `1`  when the row has that particular category, and  `0`  if the row does not."
   ]
  },
  {
   "cell_type": "markdown",
   "metadata": {},
   "source": [
    "### C. Converting to indicators"
   ]
  },
  {
   "cell_type": "markdown",
   "metadata": {},
   "source": [
    "In pandas, we convert each categorical feature of a DataFrame to indicator features with the  `get_dummies`  function. The function takes in a DataFrame as its required argument, and returns the DataFrame with each of its categorical features converted to indicator features.\n",
    "\n",
    "The code below demonstrates how to use the  `get_dummies`  function."
   ]
  },
  {
   "cell_type": "code",
   "execution_count": 5,
   "metadata": {},
   "outputs": [
    {
     "data": {
      "text/html": [
       "<div>\n",
       "<style scoped>\n",
       "    .dataframe tbody tr th:only-of-type {\n",
       "        vertical-align: middle;\n",
       "    }\n",
       "\n",
       "    .dataframe tbody tr th {\n",
       "        vertical-align: top;\n",
       "    }\n",
       "\n",
       "    .dataframe thead th {\n",
       "        text-align: right;\n",
       "    }\n",
       "</style>\n",
       "<table border=\"1\" class=\"dataframe\">\n",
       "  <thead>\n",
       "    <tr style=\"text-align: right;\">\n",
       "      <th></th>\n",
       "      <th>lgID</th>\n",
       "      <th>teamID</th>\n",
       "    </tr>\n",
       "  </thead>\n",
       "  <tbody>\n",
       "    <tr>\n",
       "      <th>polangr01</th>\n",
       "      <td>NL</td>\n",
       "      <td>PIT</td>\n",
       "    </tr>\n",
       "    <tr>\n",
       "      <th>pedrodu01</th>\n",
       "      <td>AL</td>\n",
       "      <td>BOS</td>\n",
       "    </tr>\n",
       "    <tr>\n",
       "      <th>bettsmo01</th>\n",
       "      <td>AL</td>\n",
       "      <td>BOS</td>\n",
       "    </tr>\n",
       "    <tr>\n",
       "      <th>martest01</th>\n",
       "      <td>NL</td>\n",
       "      <td>PIT</td>\n",
       "    </tr>\n",
       "  </tbody>\n",
       "</table>\n",
       "</div>"
      ],
      "text/plain": [
       "          lgID teamID\n",
       "polangr01   NL    PIT\n",
       "pedrodu01   AL    BOS\n",
       "bettsmo01   AL    BOS\n",
       "martest01   NL    PIT"
      ]
     },
     "execution_count": 5,
     "metadata": {},
     "output_type": "execute_result"
    }
   ],
   "source": [
    "df = pd.DataFrame(\n",
    "    {\n",
    "        'lgID': {'polangr01': 'NL', 'pedrodu01': 'AL', 'bettsmo01': 'AL', 'martest01': 'NL'}, \n",
    "        'teamID': {'polangr01': 'PIT', 'pedrodu01': 'BOS', 'bettsmo01': 'BOS', 'martest01': 'PIT'}\n",
    "    }\n",
    ")\n",
    "df"
   ]
  },
  {
   "cell_type": "code",
   "execution_count": 6,
   "metadata": {},
   "outputs": [
    {
     "data": {
      "text/plain": [
       "Index(['lgID_AL', 'lgID_NL', 'teamID_BOS', 'teamID_PIT'], dtype='object')"
      ]
     },
     "execution_count": 6,
     "metadata": {},
     "output_type": "execute_result"
    }
   ],
   "source": [
    "converted = pd.get_dummies(df)\n",
    "converted.columns"
   ]
  },
  {
   "cell_type": "code",
   "execution_count": 7,
   "metadata": {},
   "outputs": [
    {
     "data": {
      "text/html": [
       "<div>\n",
       "<style scoped>\n",
       "    .dataframe tbody tr th:only-of-type {\n",
       "        vertical-align: middle;\n",
       "    }\n",
       "\n",
       "    .dataframe tbody tr th {\n",
       "        vertical-align: top;\n",
       "    }\n",
       "\n",
       "    .dataframe thead th {\n",
       "        text-align: right;\n",
       "    }\n",
       "</style>\n",
       "<table border=\"1\" class=\"dataframe\">\n",
       "  <thead>\n",
       "    <tr style=\"text-align: right;\">\n",
       "      <th></th>\n",
       "      <th>teamID_BOS</th>\n",
       "      <th>teamID_PIT</th>\n",
       "    </tr>\n",
       "  </thead>\n",
       "  <tbody>\n",
       "    <tr>\n",
       "      <th>polangr01</th>\n",
       "      <td>0</td>\n",
       "      <td>1</td>\n",
       "    </tr>\n",
       "    <tr>\n",
       "      <th>pedrodu01</th>\n",
       "      <td>1</td>\n",
       "      <td>0</td>\n",
       "    </tr>\n",
       "    <tr>\n",
       "      <th>bettsmo01</th>\n",
       "      <td>1</td>\n",
       "      <td>0</td>\n",
       "    </tr>\n",
       "    <tr>\n",
       "      <th>martest01</th>\n",
       "      <td>0</td>\n",
       "      <td>1</td>\n",
       "    </tr>\n",
       "  </tbody>\n",
       "</table>\n",
       "</div>"
      ],
      "text/plain": [
       "           teamID_BOS  teamID_PIT\n",
       "polangr01           0           1\n",
       "pedrodu01           1           0\n",
       "bettsmo01           1           0\n",
       "martest01           0           1"
      ]
     },
     "execution_count": 7,
     "metadata": {},
     "output_type": "execute_result"
    }
   ],
   "source": [
    "converted[['teamID_BOS', 'teamID_PIT']]"
   ]
  },
  {
   "cell_type": "code",
   "execution_count": 8,
   "metadata": {},
   "outputs": [
    {
     "data": {
      "text/html": [
       "<div>\n",
       "<style scoped>\n",
       "    .dataframe tbody tr th:only-of-type {\n",
       "        vertical-align: middle;\n",
       "    }\n",
       "\n",
       "    .dataframe tbody tr th {\n",
       "        vertical-align: top;\n",
       "    }\n",
       "\n",
       "    .dataframe thead th {\n",
       "        text-align: right;\n",
       "    }\n",
       "</style>\n",
       "<table border=\"1\" class=\"dataframe\">\n",
       "  <thead>\n",
       "    <tr style=\"text-align: right;\">\n",
       "      <th></th>\n",
       "      <th>lgID_AL</th>\n",
       "      <th>lgID_NL</th>\n",
       "    </tr>\n",
       "  </thead>\n",
       "  <tbody>\n",
       "    <tr>\n",
       "      <th>polangr01</th>\n",
       "      <td>0</td>\n",
       "      <td>1</td>\n",
       "    </tr>\n",
       "    <tr>\n",
       "      <th>pedrodu01</th>\n",
       "      <td>1</td>\n",
       "      <td>0</td>\n",
       "    </tr>\n",
       "    <tr>\n",
       "      <th>bettsmo01</th>\n",
       "      <td>1</td>\n",
       "      <td>0</td>\n",
       "    </tr>\n",
       "    <tr>\n",
       "      <th>martest01</th>\n",
       "      <td>0</td>\n",
       "      <td>1</td>\n",
       "    </tr>\n",
       "  </tbody>\n",
       "</table>\n",
       "</div>"
      ],
      "text/plain": [
       "           lgID_AL  lgID_NL\n",
       "polangr01        0        1\n",
       "pedrodu01        1        0\n",
       "bettsmo01        1        0\n",
       "martest01        0        1"
      ]
     },
     "execution_count": 8,
     "metadata": {},
     "output_type": "execute_result"
    }
   ],
   "source": [
    "converted[['lgID_AL', 'lgID_NL']]"
   ]
  },
  {
   "cell_type": "markdown",
   "metadata": {},
   "source": [
    "> Note: The indicator features have the original categorical feature's label as a prefix. This makes it easy to see where each indicator feature originally came from."
   ]
  },
  {
   "cell_type": "markdown",
   "metadata": {},
   "source": [
    "### D. Converting to NumPy"
   ]
  },
  {
   "cell_type": "markdown",
   "metadata": {},
   "source": [
    "After converting all the categorical features to indicator features, the DataFrame should have all quantitative data. We can then convert to a NumPy matrix using the  `values`  function.\n",
    "\n",
    "The code below converts a DataFrame,  `df`  into a NumPy matrix."
   ]
  },
  {
   "cell_type": "code",
   "execution_count": 10,
   "metadata": {},
   "outputs": [
    {
     "data": {
      "text/html": [
       "<div>\n",
       "<style scoped>\n",
       "    .dataframe tbody tr th:only-of-type {\n",
       "        vertical-align: middle;\n",
       "    }\n",
       "\n",
       "    .dataframe tbody tr th {\n",
       "        vertical-align: top;\n",
       "    }\n",
       "\n",
       "    .dataframe thead th {\n",
       "        text-align: right;\n",
       "    }\n",
       "</style>\n",
       "<table border=\"1\" class=\"dataframe\">\n",
       "  <thead>\n",
       "    <tr style=\"text-align: right;\">\n",
       "      <th></th>\n",
       "      <th>teamID_BOS</th>\n",
       "      <th>teamID_PIT</th>\n",
       "      <th>HR</th>\n",
       "    </tr>\n",
       "  </thead>\n",
       "  <tbody>\n",
       "    <tr>\n",
       "      <th>martest01</th>\n",
       "      <td>0</td>\n",
       "      <td>1</td>\n",
       "      <td>7</td>\n",
       "    </tr>\n",
       "    <tr>\n",
       "      <th>pedrodu01</th>\n",
       "      <td>1</td>\n",
       "      <td>0</td>\n",
       "      <td>7</td>\n",
       "    </tr>\n",
       "    <tr>\n",
       "      <th>bettsmo01</th>\n",
       "      <td>1</td>\n",
       "      <td>0</td>\n",
       "      <td>24</td>\n",
       "    </tr>\n",
       "    <tr>\n",
       "      <th>polangr01</th>\n",
       "      <td>0</td>\n",
       "      <td>1</td>\n",
       "      <td>11</td>\n",
       "    </tr>\n",
       "  </tbody>\n",
       "</table>\n",
       "</div>"
      ],
      "text/plain": [
       "           teamID_BOS  teamID_PIT  HR\n",
       "martest01           0           1   7\n",
       "pedrodu01           1           0   7\n",
       "bettsmo01           1           0  24\n",
       "polangr01           0           1  11"
      ]
     },
     "execution_count": 10,
     "metadata": {},
     "output_type": "execute_result"
    }
   ],
   "source": [
    "df = pd.DataFrame(\n",
    "    {\n",
    "        'teamID_BOS': {'martest01': 0, 'pedrodu01': 1, 'bettsmo01': 1, 'polangr01': 0}, \n",
    "        'teamID_PIT': {'martest01': 1, 'pedrodu01': 0, 'bettsmo01': 0, 'polangr01': 1}, \n",
    "        'HR': {'martest01': 7, 'pedrodu01': 7, 'bettsmo01': 24, 'polangr01': 11}\n",
    "    }\n",
    ")\n",
    "df"
   ]
  },
  {
   "cell_type": "code",
   "execution_count": 11,
   "metadata": {},
   "outputs": [
    {
     "data": {
      "text/plain": [
       "array([[ 0,  1,  7],\n",
       "       [ 1,  0,  7],\n",
       "       [ 1,  0, 24],\n",
       "       [ 0,  1, 11]], dtype=int64)"
      ]
     },
     "execution_count": 11,
     "metadata": {},
     "output_type": "execute_result"
    }
   ],
   "source": [
    "n_matrix = df.values\n",
    "n_matrix"
   ]
  },
  {
   "cell_type": "markdown",
   "metadata": {},
   "source": [
    "The rows and columns of the output matrix correspond to the rows and columns of the same position in the DataFrame. In the code above, the first column of the NumPy matrix represents  `HR` , the second column represents  `teamID_BOS` , and the third column represents  `teamID_PIT` ."
   ]
  },
  {
   "cell_type": "markdown",
   "metadata": {},
   "source": [
    "# 4. Data Preprocessing with scikit-learn"
   ]
  },
  {
   "cell_type": "markdown",
   "metadata": {},
   "source": [
    "## Introduction"
   ]
  },
  {
   "cell_type": "markdown",
   "metadata": {},
   "source": [
    "An overview of industry data science and the scikit-learn API.\n",
    "\n",
    "In the  **Data Preprocessing**  section, we will explore the data preprocessing techniques with scikit-learn, one of the most popular frameworks used for industry data science."
   ]
  },
  {
   "cell_type": "markdown",
   "metadata": {},
   "source": [
    "### A. ML engineering vs. data science"
   ]
  },
  {
   "cell_type": "markdown",
   "metadata": {},
   "source": [
    "In industry, there is quite a bit of overlap between machine learning engineering and data science. Both jobs involve working with data, such as data analysis and data preprocessing.\n",
    "\n",
    "The main task for machine learning engineers is to first analyze the data for viable trends, then create an efficient input pipeline for training a model. This process involves using libraries like [NumPy](http://www.numpy.org/) and [pandas](https://pandas.pydata.org/) for handling data, along with machine learning frameworks like TensorFlow for creating the model and input pipeline.\n",
    "\n",
    "While the NumPy and pandas libraries are also used in data science, the  **Data Preprocessing**  section will cover one of the core libraries that is specific to industry-level data science: [scikit-learn](https://scikit-learn.org/stable/). Data scientists tend to work on smaller datasets than machine learning engineers, and their main goal is to analyze the data and quickly extract usable results. Therefore, they focus more on traditional data inference models (found in scikit-learn), rather than deep neural networks.\n",
    "\n",
    "The scikit-learn library includes tools for data preprocessing and data mining. It is imported in Python via the statement  `import sklearn` ."
   ]
  },
  {
   "cell_type": "markdown",
   "metadata": {},
   "source": [
    "## Standardizing Data\n",
    "\n",
    "Exploring data standardization and implement it with scikit-learn."
   ]
  },
  {
   "cell_type": "markdown",
   "metadata": {},
   "source": [
    "### Goals:\n",
    "\n",
    "* Explore data standardization"
   ]
  },
  {
   "cell_type": "markdown",
   "metadata": {},
   "source": [
    "### A. Standard data format"
   ]
  },
  {
   "cell_type": "markdown",
   "metadata": {},
   "source": [
    "Data can contain all sorts of different values. For example, Olympic 100m sprint times will range from 9.5 to 10.5 seconds, while calorie counts in large pepperoni pizzas can range from 1500 to 3000 calories. Even data measuring the exact same quantities can range in value (e.g. weight in kilograms vs. weight in pounds).\n",
    "\n",
    "When data can take on any range of values, it makes it difficult to interpret. Therefore, data scientists will convert the data into a standard format to make it easier to understand. The standard format refers to data that has 0 mean and unit variance (i.e. standard deviation = 1), and the process of converting data into this format is called  *data standardization* .\n",
    "\n",
    "Data standardization is a relatively simple process. For each data value,  *x* , we subtract the overall mean of the data, μ, then divide by the overall standard deviation, $\\sigma$. The new value,  *z* , represents the standardized data value. Thus, the formula for data standardization is:\n",
    "\n",
    "$$\n",
    "z = \\frac{x - μ }{\\sigma}\n",
    "$$"
   ]
  },
  {
   "cell_type": "markdown",
   "metadata": {},
   "source": [
    "### B. NumPy and scikit-learn"
   ]
  },
  {
   "cell_type": "markdown",
   "metadata": {},
   "source": [
    "For most scikit-learn functions, the input data comes in the form of a NumPy array.\n",
    "\n",
    "**Note:**  The array’s rows represent individual data observations, while each column represents a particular feature of the data, i.e. the same format as a spreadsheet data table.\n",
    "\n",
    "The scikit-learn data preprocessing module is called  `sklearn.preprocessing` . One of the functions in this module,  `scale` , applies data standardization to a given axis of a NumPy array."
   ]
  },
  {
   "cell_type": "code",
   "execution_count": 3,
   "metadata": {},
   "outputs": [
    {
     "data": {
      "text/plain": [
       "array([[2100,   10,  800],\n",
       "       [2500,   11,  850],\n",
       "       [1800,   10,  760],\n",
       "       [2000,   12,  800],\n",
       "       [2300,   11,  810]])"
      ]
     },
     "execution_count": 3,
     "metadata": {},
     "output_type": "execute_result"
    }
   ],
   "source": [
    "pizza_data = np.array([[2100,   10,  800],\n",
    "                       [2500,   11,  850],\n",
    "                       [1800,   10,  760],\n",
    "                       [2000,   12,  800],\n",
    "                       [2300,   11,  810]])\n",
    "pizza_data"
   ]
  },
  {
   "cell_type": "code",
   "execution_count": 6,
   "metadata": {},
   "outputs": [
    {
     "data": {
      "text/plain": [
       "array([[-0.16552118, -1.06904497, -0.1393466 ],\n",
       "       [ 1.4896906 ,  0.26726124,  1.60248593],\n",
       "       [-1.40693001, -1.06904497, -1.53281263],\n",
       "       [-0.57932412,  1.60356745, -0.1393466 ],\n",
       "       [ 0.66208471,  0.26726124,  0.2090199 ]])"
      ]
     },
     "execution_count": 6,
     "metadata": {},
     "output_type": "execute_result"
    }
   ],
   "source": [
    "# Standardizing each column of pizza_data\n",
    "col_standardized = scale(pizza_data)\n",
    "col_standardized"
   ]
  },
  {
   "cell_type": "code",
   "execution_count": 7,
   "metadata": {},
   "outputs": [
    {
     "data": {
      "text/plain": [
       "array([ 0., -0.,  0.])"
      ]
     },
     "execution_count": 7,
     "metadata": {},
     "output_type": "execute_result"
    }
   ],
   "source": [
    "# Column means (rounded to nearest thousandth)\n",
    "col_means = col_standardized.mean(axis=0).round(decimals=3)\n",
    "col_means"
   ]
  },
  {
   "cell_type": "code",
   "execution_count": 8,
   "metadata": {},
   "outputs": [
    {
     "data": {
      "text/plain": [
       "array([1., 1., 1.])"
      ]
     },
     "execution_count": 8,
     "metadata": {},
     "output_type": "execute_result"
    }
   ],
   "source": [
    "# Column standard deviations\n",
    "col_stds = col_standardized.std(axis=0)\n",
    "col_stds"
   ]
  },
  {
   "cell_type": "markdown",
   "metadata": {},
   "source": [
    "We normally standardize the data independently across each feature of the data array. This way, we can see how many standard deviations a particular observation's feature value is from the mean.\n",
    "\n",
    "For example, the second data observation in  `pizza_data`  has a net weight of 1.6 standard deviations above the mean pizza weight in the dataset.\n",
    "\n",
    "If for some reason we need to standardize the data across rows, rather than columns, we can set the  `axis`  keyword argument in the  `scale`  function to 1. This may be the case when analyzing data within observations, rather than within a feature. An example of this would be analyzing a particular student's test scores in terms of standard deviations from that student's average test score."
   ]
  },
  {
   "cell_type": "markdown",
   "metadata": {},
   "source": [
    "## Data Range"
   ]
  },
  {
   "cell_type": "markdown",
   "metadata": {},
   "source": [
    "Create a function to compress data into a specific range of values."
   ]
  },
  {
   "cell_type": "markdown",
   "metadata": {},
   "source": [
    "### Goals:\n",
    "\n",
    "* Explore how to compress data values to a specified range"
   ]
  },
  {
   "cell_type": "markdown",
   "metadata": {},
   "source": [
    "### A. Range scaling"
   ]
  },
  {
   "cell_type": "markdown",
   "metadata": {},
   "source": [
    "Apart from standardizing data, we can also scale data by compressing it into a fixed range. One of the biggest use cases for this is compressing data into the range [0, 1]. This allows us to view the data in terms of proportions, or percentages, based on the minimum and maximum values in the data.\n",
    "\n",
    "The formula for scaling based on a range is a two-step process. For a given data value,  $x$ , we first compute the proportion of the value with respect to the min and max of the data  $d_{min}$ and  $d_{max}$, respectively).\n",
    "\n",
    "$$\n",
    "x_{prop} = \\frac{x - d{min}}{d_{max}-d_{min}}\n",
    "$$\n",
    "\n",
    "The formula above computes the proportion of the data value, $x_{prop}$. Note that this only works if not all the data values are the same (i.e.$d_{max} \\neq d_{min}$).\n",
    "\n",
    "We then use the proportion of the value to scale to the specified range, $[r_{min}, r_{max}]$. The formula below calculates the new scaled value, $x_{scale}$.\n",
    "\n",
    "$$\n",
    "x_{scale} = x_{prop}.(r_{max}-r_{min}) + r_{min}\n",
    "$$"
   ]
  },
  {
   "cell_type": "markdown",
   "metadata": {},
   "source": [
    "### B. Range compression in scikit-learn"
   ]
  },
  {
   "cell_type": "markdown",
   "metadata": {},
   "source": [
    "The scikit-learn library provides a variety of  *transformers* , modules that perform transformations on data. While in the previous chapter we used a single function,  `scale` , to perform the data standardization, the remaining chapters will focus on using these transformer modules.\n",
    "\n",
    "The  `MinMaxScaler`  transformer performs the range compression using the previous formula. Specifically, it scales each feature (column) of the data to a given range (where the default range is [0, 1]).\n",
    "\n",
    "The code below shows how to use the  `MinMaxScaler`  (with the default range and a custom range).\n",
    "\n",
    "The  `MinMaxScaler`  object contains a function called  `fit_transform` , which allows it to take in the input data array and then output the scaled data. The function is a combination of the object's  `fit`  and  `transform`  functions, where the former takes in an input data array and the latter transforms a (possibly different) array based on the data from the input to the  `fit`  function."
   ]
  },
  {
   "cell_type": "code",
   "execution_count": 9,
   "metadata": {},
   "outputs": [
    {
     "data": {
      "text/plain": [
       "array([[ 1.2,  3.2],\n",
       "       [-0.3, -1.2],\n",
       "       [ 6.5, 10.1],\n",
       "       [ 2.2, -8.4]])"
      ]
     },
     "execution_count": 9,
     "metadata": {},
     "output_type": "execute_result"
    }
   ],
   "source": [
    "data = np.array([[ 1.2,  3.2],\n",
    "                 [-0.3, -1.2],\n",
    "                 [ 6.5, 10.1],\n",
    "                 [ 2.2, -8.4]])\n",
    "data"
   ]
  },
  {
   "cell_type": "code",
   "execution_count": 11,
   "metadata": {},
   "outputs": [
    {
     "data": {
      "text/plain": [
       "array([[0.22058824, 0.62702703],\n",
       "       [0.        , 0.38918919],\n",
       "       [1.        , 1.        ],\n",
       "       [0.36764706, 0.        ]])"
      ]
     },
     "execution_count": 11,
     "metadata": {},
     "output_type": "execute_result"
    }
   ],
   "source": [
    "default_scaler = MinMaxScaler() # the default range is [0,1]\n",
    "transformed = default_scaler.fit_transform(data)\n",
    "transformed"
   ]
  },
  {
   "cell_type": "code",
   "execution_count": 12,
   "metadata": {},
   "outputs": [
    {
     "data": {
      "text/plain": [
       "array([[-0.89705882,  1.13513514],\n",
       "       [-2.        , -0.05405405],\n",
       "       [ 3.        ,  3.        ],\n",
       "       [-0.16176471, -2.        ]])"
      ]
     },
     "execution_count": 12,
     "metadata": {},
     "output_type": "execute_result"
    }
   ],
   "source": [
    "custom_scaler = MinMaxScaler(feature_range=(-2, 3))\n",
    "transformed = custom_scaler.fit_transform(data)\n",
    "transformed"
   ]
  },
  {
   "cell_type": "markdown",
   "metadata": {},
   "source": [
    "Now lets run the  `fit`  and  `transform`  functions separately and compare them with the  `fit_transform`  function.  `fit`  takes in an input data array and  `transform`  transforms a (possibly different) array based on the data from the input to the fit function."
   ]
  },
  {
   "cell_type": "code",
   "execution_count": 13,
   "metadata": {},
   "outputs": [
    {
     "data": {
      "text/plain": [
       "array([[ 1.2, -0.5],\n",
       "       [ 5.3,  2.3],\n",
       "       [-3.3,  4.1]])"
      ]
     },
     "execution_count": 13,
     "metadata": {},
     "output_type": "execute_result"
    }
   ],
   "source": [
    "new_data = np.array([[ 1.2, -0.5],\n",
    "                     [ 5.3,  2.3],\n",
    "                     [-3.3,  4.1]])\n",
    "new_data"
   ]
  },
  {
   "cell_type": "code",
   "execution_count": 14,
   "metadata": {},
   "outputs": [
    {
     "data": {
      "text/plain": [
       "array([[0.52325581, 0.        ],\n",
       "       [1.        , 0.60869565],\n",
       "       [0.        , 1.        ]])"
      ]
     },
     "execution_count": 14,
     "metadata": {},
     "output_type": "execute_result"
    }
   ],
   "source": [
    "default_scaler = MinMaxScaler() # the default range is [0,1]\n",
    "transformed = default_scaler.fit_transform(new_data)\n",
    "transformed"
   ]
  },
  {
   "cell_type": "code",
   "execution_count": 15,
   "metadata": {},
   "outputs": [
    {
     "data": {
      "text/plain": [
       "array([[ 0.22058824,  0.42702703],\n",
       "       [ 0.82352941,  0.57837838],\n",
       "       [-0.44117647,  0.67567568]])"
      ]
     },
     "execution_count": 15,
     "metadata": {},
     "output_type": "execute_result"
    }
   ],
   "source": [
    "default_scaler = MinMaxScaler()  # new instance\n",
    "default_scaler.fit(data)  # different data value fit\n",
    "transformed = default_scaler.transform(new_data)\n",
    "transformed"
   ]
  },
  {
   "cell_type": "markdown",
   "metadata": {},
   "source": [
    "The code above scales the  `new_data`  array to the range [0, 1], based on the (column-wise) minimum and maximum values from the  `data`  array in the original code example."
   ]
  },
  {
   "cell_type": "markdown",
   "metadata": {},
   "source": [
    "## Robust Scaling\n",
    "\n",
    "Understanding how outliers can affect data and implement robust scaling."
   ]
  },
  {
   "cell_type": "markdown",
   "metadata": {},
   "source": [
    "### Goals:\n",
    "\n",
    "* Exploring how to scale data without being affected by outliers"
   ]
  },
  {
   "cell_type": "markdown",
   "metadata": {},
   "source": [
    "### A. Data outliers"
   ]
  },
  {
   "cell_type": "markdown",
   "metadata": {},
   "source": [
    "An important aspect of data that we have to deal with is  *outliers* . In general terms, an outlier is a data point that is significantly further away from the other data points. For example, if we had watermelons of weights 5, 4, 6, 7, and 20 pounds, the 20 pound watermelon is an outlier.\n",
    "\n",
    "![widget](https://www.educative.io/api/collection/6083138522447872/5629499534213120/page/5172785596858368/image/5630721452408832.png)\n",
    "\n",
    "A 2-D data plot with the outlier data points circled. Note that the outliers in this plot are exaggerated, and in real life outliers are not usually this far from the non-outlier data.\n",
    "\n",
    "The data scaling methods from the previous two chapters are both affected by outliers. Data standardization uses each feature's mean and standard deviation, while ranged scaling uses the maximum and minimum feature values, meaning that they're both susceptible to being skewed by outlier values.\n",
    "\n",
    "We can robustly scale the data, i.e. avoid being affected by outliers, by using use the data's median and [Interquartile Range (IQR)](https://en.wikipedia.org/wiki/Interquartile_range). Since the median and IQR are percentile measurements of the data (50% for median, 25% to 75% for the IQR), they are not affected by outliers. For the scaling method, we just subtract the median from each data value then scale to the IQR."
   ]
  },
  {
   "cell_type": "markdown",
   "metadata": {},
   "source": [
    "### B. Robust scaling with scikit-learn"
   ]
  },
  {
   "cell_type": "markdown",
   "metadata": {},
   "source": [
    "In scikit-learn, we perform robust scaling with the  `RobustScaler`  module. It is another transformer object, with the same  `fit` ,  `transform` , and  `fit_transform`  functions described in the previous chapter.\n",
    "\n",
    "The code below shows how to use the  `RobustScaler` ."
   ]
  },
  {
   "cell_type": "code",
   "execution_count": 17,
   "metadata": {},
   "outputs": [
    {
     "data": {
      "text/plain": [
       "array([[ 0.        , -1.        ],\n",
       "       [ 0.27272727,  2.16666667],\n",
       "       [-0.93939394,  0.33333333],\n",
       "       [-1.12121212, -0.66666667],\n",
       "       [-0.12121212,  0.16666667],\n",
       "       [ 1.54545455, -1.33333333],\n",
       "       [-0.81818182, -0.33333333],\n",
       "       [ 0.06060606,  0.        ],\n",
       "       [ 0.18181818,  0.5       ]])"
      ]
     },
     "execution_count": 17,
     "metadata": {},
     "output_type": "execute_result"
    }
   ],
   "source": [
    "data = np.array([[ 1.2,  2.3],\n",
    "                 [ 2.1,  4.2],\n",
    "                 [-1.9,  3.1],\n",
    "                 [-2.5,  2.5],\n",
    "                 [ 0.8,  3. ],\n",
    "                 [ 6.3,  2.1],\n",
    "                 [-1.5,  2.7],\n",
    "                 [ 1.4,  2.9],\n",
    "                 [ 1.8,  3.2]])\n",
    "robust_scaler = RobustScaler()\n",
    "transformed = robust_scaler.fit_transform(data)\n",
    "transformed"
   ]
  },
  {
   "cell_type": "code",
   "execution_count": 24,
   "metadata": {},
   "outputs": [
    {
     "data": {
      "image/png": "[encoded data removed]",
      "text/plain": [
       "<Figure size 432x288 with 1 Axes>"
      ]
     },
     "metadata": {},
     "output_type": "display_data"
    }
   ],
   "source": [
    "plt.scatter(data[:,0], data[:,1])\n",
    "plt.xlim((-3, 7))\n",
    "plt.ylim((1, 5))\n",
    "plt.show()"
   ]
  },
  {
   "cell_type": "markdown",
   "metadata": {},
   "source": [
    "## Normalizing Data\n",
    "\n",
    "Learn about data normalization and implement a normalization function."
   ]
  },
  {
   "cell_type": "markdown",
   "metadata": {},
   "source": [
    "### Goals:\n",
    "\n",
    "* Exploring how to apply L2 normalization to data"
   ]
  },
  {
   "cell_type": "markdown",
   "metadata": {},
   "source": [
    "### L2 normalization"
   ]
  },
  {
   "cell_type": "markdown",
   "metadata": {},
   "source": [
    "So far, each of the scaling techniques we've used has been applied to the data features (i.e. columns). However, in certain cases we want to scale the individual data observations (i.e. rows). For instance, when clustering data we need to apply L2 normalization to each row, in order to calculate [cosine similarity scores](https://en.wikipedia.org/wiki/Cosine_similarity).\n",
    "\n",
    "L2 normalization applied to a particular row of a data array will divide each value in that row by the row's [L2 norm](http://mathworld.wolfram.com/L2-Norm.html). In general terms, the L2 norm of a row is just the square root of the sum of squared values for the row.\n",
    "\n",
    "$$\n",
    "X = [x_1, x_2, ..., x_m]\\\\\n",
    "X_{L2} = [\\frac{x_1}{\\ell}, \\frac{x_2}{\\ell}, ..., \\frac{x_m}{\\ell}], where \\ \\ell = \\sqrt{\\sum_{i=1}^{m}{x_i}^2}\n",
    "$$\n",
    "\n",
    "The above formula demonstrates L2 normalization applied to row  *X*  to obtain the normalized row of values,  *X* L2.\n",
    "\n",
    "In sci-kit-learn, the transformer module that implements L2 normalization is the  `Normalizer` .\n",
    "\n",
    "The code below shows how to use the  `Normalizer`."
   ]
  },
  {
   "cell_type": "code",
   "execution_count": 40,
   "metadata": {},
   "outputs": [
    {
     "data": {
      "text/plain": [
       "array([[4, 1, 2, 2],\n",
       "       [3, 4, 0, 0],\n",
       "       [7, 5, 9, 2]])"
      ]
     },
     "execution_count": 40,
     "metadata": {},
     "output_type": "execute_result"
    }
   ],
   "source": [
    "data = np.array([[4, 1, 2, 2],\n",
    "       [3, 4, 0, 0],\n",
    "       [7, 5, 9, 2]])\n",
    "data"
   ]
  },
  {
   "cell_type": "code",
   "execution_count": 43,
   "metadata": {},
   "outputs": [
    {
     "data": {
      "text/plain": [
       "array([[0.8       , 0.2       , 0.4       , 0.4       ],\n",
       "       [0.6       , 0.8       , 0.        , 0.        ],\n",
       "       [0.55513611, 0.39652579, 0.71374643, 0.15861032]])"
      ]
     },
     "execution_count": 43,
     "metadata": {},
     "output_type": "execute_result"
    }
   ],
   "source": [
    "normalizer = Normalizer()\n",
    "transformed = normalizer.fit_transform(data)\n",
    "transformed"
   ]
  },
  {
   "cell_type": "markdown",
   "metadata": {},
   "source": [
    "## Data Imputation\n",
    "\n",
    "Learn about data imputation and the various methods to accomplish it."
   ]
  },
  {
   "cell_type": "markdown",
   "metadata": {},
   "source": [
    "### Goals:\n",
    "\n",
    "* Exploring different methods for imputing data"
   ]
  },
  {
   "cell_type": "markdown",
   "metadata": {},
   "source": [
    "### A. Data imputation methods"
   ]
  },
  {
   "cell_type": "markdown",
   "metadata": {},
   "source": [
    "In real life, we often have to deal with data that contains missing values. Sometimes, if the dataset is missing too many values, we just don't use it. However, if only a few of the values are missing, we can perform [data imputation](https://en.wikipedia.org/wiki/Imputation_(statistics)) to substitute the missing data with some other value(s).\n",
    "\n",
    "There are many different methods for data imputation. In scikit-learn, the  `SimpleImputer`  transformer performs four different data imputation methods.\n",
    "\n",
    "The four methods are:\n",
    "* Using the mean value\n",
    "* Using the median value\n",
    "* Using the most frequent value\n",
    "* Filling in missing values with a constant\n",
    "\n",
    "The code below shows how to perform data imputation using mean values from each column."
   ]
  },
  {
   "cell_type": "code",
   "execution_count": 45,
   "metadata": {},
   "outputs": [
    {
     "data": {
      "text/plain": [
       "array([[ 1.,  2., nan,  2.],\n",
       "       [ 5., nan,  1.,  2.],\n",
       "       [ 4., nan,  3., nan],\n",
       "       [ 5.,  6.,  8.,  1.],\n",
       "       [nan,  7., nan,  0.]])"
      ]
     },
     "execution_count": 45,
     "metadata": {},
     "output_type": "execute_result"
    }
   ],
   "source": [
    "data = np.array([[ 1.,  2., np.NaN,  2.],\n",
    "       [ 5., np.NaN,  1.,  2.],\n",
    "       [ 4., np.NaN,  3., np.NaN],\n",
    "       [ 5.,  6.,  8.,  1.],\n",
    "       [np.NaN,  7., np.NaN,  0.]])\n",
    "data"
   ]
  },
  {
   "cell_type": "code",
   "execution_count": 47,
   "metadata": {},
   "outputs": [
    {
     "data": {
      "text/plain": [
       "array([[1.  , 2.  , 4.  , 2.  ],\n",
       "       [5.  , 5.  , 1.  , 2.  ],\n",
       "       [4.  , 5.  , 3.  , 1.25],\n",
       "       [5.  , 6.  , 8.  , 1.  ],\n",
       "       [3.75, 7.  , 4.  , 0.  ]])"
      ]
     },
     "execution_count": 47,
     "metadata": {},
     "output_type": "execute_result"
    }
   ],
   "source": [
    "imp_mean = SimpleImputer()\n",
    "transformed = imp_mean.fit_transform(data)\n",
    "transformed"
   ]
  },
  {
   "cell_type": "markdown",
   "metadata": {},
   "source": [
    "In NumPy arrays, missing data is represented by the  `np.nan`  value. In the above example, we replaced each missing value with the mean of the values in its column.\n",
    "\n",
    "The default imputation method for  `SimpleImputer`  is using the column means. By using the  `strategy`  keyword argument when initializing a  `SimpleImputer`  object, we can specify a different imputation method.\n",
    "\n",
    "The code below demonstrates various initialization strategies for  `SimpleImputer` ."
   ]
  },
  {
   "cell_type": "code",
   "execution_count": 50,
   "metadata": {},
   "outputs": [
    {
     "data": {
      "text/plain": [
       "array([[ 1.,  2., nan,  2.],\n",
       "       [ 5., nan,  1.,  2.],\n",
       "       [ 4., nan,  3., nan],\n",
       "       [ 5.,  6.,  8.,  1.],\n",
       "       [nan,  7., nan,  0.]])"
      ]
     },
     "execution_count": 50,
     "metadata": {},
     "output_type": "execute_result"
    }
   ],
   "source": [
    "data = np.array([[ 1.,  2., nan,  2.],\n",
    "       [ 5., nan,  1.,  2.],\n",
    "       [ 4., nan,  3., nan],\n",
    "       [ 5.,  6.,  8.,  1.],\n",
    "       [nan,  7., nan,  0.]])\n",
    "data"
   ]
  },
  {
   "cell_type": "code",
   "execution_count": 51,
   "metadata": {},
   "outputs": [
    {
     "data": {
      "text/plain": [
       "array([[1. , 2. , 3. , 2. ],\n",
       "       [5. , 6. , 1. , 2. ],\n",
       "       [4. , 6. , 3. , 1.5],\n",
       "       [5. , 6. , 8. , 1. ],\n",
       "       [4.5, 7. , 3. , 0. ]])"
      ]
     },
     "execution_count": 51,
     "metadata": {},
     "output_type": "execute_result"
    }
   ],
   "source": [
    "imp_median = SimpleImputer(strategy='median')\n",
    "transformed = imp_median.fit_transform(data)\n",
    "transformed"
   ]
  },
  {
   "cell_type": "code",
   "execution_count": 52,
   "metadata": {},
   "outputs": [
    {
     "data": {
      "text/plain": [
       "array([[1., 2., 1., 2.],\n",
       "       [5., 2., 1., 2.],\n",
       "       [4., 2., 3., 2.],\n",
       "       [5., 6., 8., 1.],\n",
       "       [5., 7., 1., 0.]])"
      ]
     },
     "execution_count": 52,
     "metadata": {},
     "output_type": "execute_result"
    }
   ],
   "source": [
    "imp_frequent = SimpleImputer(strategy='most_frequent')\n",
    "transformed = imp_frequent.fit_transform(data)\n",
    "transformed"
   ]
  },
  {
   "cell_type": "markdown",
   "metadata": {},
   "source": [
    "The  `'median'`  strategy fills in missing data with the median from each column, while the  `'most_frequent'`  strategy uses the value that appears the most for each column.\n",
    "\n",
    "The final imputation method that  `SimpleImputer`  provides is to fill in missing values with a specified constant. This can be useful if there is already a suitable substitute for missing data (e.g. 0 or -1).\n",
    "\n",
    "The code below demonstrates how to fill in missing data with a specific constant. The  `fill_value`  keyword argument is used when initializing the  `SimpleImputer`  object, to specify the constant."
   ]
  },
  {
   "cell_type": "code",
   "execution_count": 53,
   "metadata": {},
   "outputs": [
    {
     "data": {
      "text/plain": [
       "array([[ 1.,  2., -1.,  2.],\n",
       "       [ 5., -1.,  1.,  2.],\n",
       "       [ 4., -1.,  3., -1.],\n",
       "       [ 5.,  6.,  8.,  1.],\n",
       "       [-1.,  7., -1.,  0.]])"
      ]
     },
     "execution_count": 53,
     "metadata": {},
     "output_type": "execute_result"
    }
   ],
   "source": [
    "imp_constant = SimpleImputer(strategy='constant',\n",
    "                             fill_value=-1)\n",
    "transformed = imp_constant.fit_transform(data)\n",
    "transformed"
   ]
  },
  {
   "cell_type": "markdown",
   "metadata": {},
   "source": [
    "### B. Other imputation methods"
   ]
  },
  {
   "cell_type": "markdown",
   "metadata": {},
   "source": [
    "The  `SimpleImputer`  object only implements the four imputation methods shown in section  **A** . However, data imputation is not limited to those four methods.\n",
    "\n",
    "There are also more advanced imputation methods such as [k-Nearest Neighbors](https://en.wikipedia.org/wiki/K-nearest_neighbors_algorithm) (filling in missing values based on similarity scores from the kNN algorithm) and [MICE](https://www.ncbi.nlm.nih.gov/pmc/articles/PMC3074241/) (applying multiple chained imputations, assuming the missing values are randomly distributed across observations).\n",
    "\n",
    "In most industry cases these advanced methods are not required, since the data is either perfectly cleaned or the missing values are scarce. Nevertheless, the advanced methods could be useful when dealing with open source datasets, since these tend to be more incomplete."
   ]
  },
  {
   "cell_type": "markdown",
   "metadata": {},
   "source": [
    "## PCA\n",
    "\n",
    "Exploring PCA and why it's useful for data preprocessing."
   ]
  },
  {
   "cell_type": "markdown",
   "metadata": {},
   "source": [
    "### Goals:\n",
    "\n",
    "* Explore principal component analysis and why it's used"
   ]
  },
  {
   "cell_type": "markdown",
   "metadata": {},
   "source": [
    "### A. Dimensionality reduction"
   ]
  },
  {
   "cell_type": "markdown",
   "metadata": {},
   "source": [
    "Most datasets contain a large number of features, some of which are redundant or not informative. For example, in a dataset of basketball statistics, the total points and points per game for a player will (most of the time) tell the same story about the player's scoring prowess.\n",
    "\n",
    "When a dataset contains these types of correlated numeric features, we can perform [principal component analysis (PCA)](https://en.wikipedia.org/wiki/Principal_component_analysis) for dimensionality reduction (i.e. reducing the number of columns in the data array).\n",
    "\n",
    "PCA extracts the  *principal components*  of the dataset, which are an uncorrelated set of [latent variables](https://en.wikipedia.org/wiki/Latent_variable) that encompass most of the information from the original dataset. Using a smaller set of principal components can make it a lot easier to use the dataset in statistical or machine learning models (especially when the original dataset contains many correlated features)."
   ]
  },
  {
   "cell_type": "markdown",
   "metadata": {},
   "source": [
    "### B. PCA in scikit-learn"
   ]
  },
  {
   "cell_type": "markdown",
   "metadata": {},
   "source": [
    "Like every other data transformation, we can apply PCA to a dataset in scikit-learn with a transformer, in this case the  `PCA`  module. When initializing the  `PCA`  module, we can use the  `n_components`  keyword to specify the number of principal components. The default setting is to extract  *m - 1*  principal components, where  *m*  is the number of features in the dataset.\n",
    "\n",
    "The code below shows examples of applying PCA with various numbers of principal components."
   ]
  },
  {
   "cell_type": "code",
   "execution_count": 4,
   "metadata": {},
   "outputs": [
    {
     "data": {
      "text/plain": [
       "array([[ 1.5,  3. ,  9. , -0.5,  1. ],\n",
       "       [ 2.2,  4.3,  3.5,  0.6,  2.7],\n",
       "       [ 3. ,  6.1,  1.1,  1.2,  4.2],\n",
       "       [ 8. , 16. ,  7.7, -1. ,  7.1]])"
      ]
     },
     "execution_count": 4,
     "metadata": {},
     "output_type": "execute_result"
    }
   ],
   "source": [
    "data = np.array([[ 1.5,  3. ,  9. , -0.5,  1. ],\n",
    "       [ 2.2,  4.3,  3.5,  0.6,  2.7],\n",
    "       [ 3. ,  6.1,  1.1,  1.2,  4.2],\n",
    "       [ 8. , 16. ,  7.7, -1. ,  7.1]])\n",
    "data"
   ]
  },
  {
   "cell_type": "code",
   "execution_count": 5,
   "metadata": {},
   "outputs": [
    {
     "data": {
      "text/plain": [
       "array([[-4.8600e+00,  4.6300e+00, -4.7000e-02,  0.0000e+00],\n",
       "       [-3.7990e+00, -1.3180e+00,  1.2700e-01,  0.0000e+00],\n",
       "       [-1.8630e+00, -4.2260e+00, -8.9000e-02,  0.0000e+00],\n",
       "       [ 1.0522e+01,  9.1400e-01,  9.0000e-03,  0.0000e+00]])"
      ]
     },
     "execution_count": 5,
     "metadata": {},
     "output_type": "execute_result"
    }
   ],
   "source": [
    "pca_obj = PCA() # The value of n_component will be 4. As m is 5 and default is always m-1\n",
    "pc = pca_obj.fit_transform(data).round(3)\n",
    "pc"
   ]
  },
  {
   "cell_type": "code",
   "execution_count": 6,
   "metadata": {},
   "outputs": [
    {
     "data": {
      "text/plain": [
       "array([[-4.8600e+00,  4.6300e+00, -4.7000e-02],\n",
       "       [-3.7990e+00, -1.3180e+00,  1.2700e-01],\n",
       "       [-1.8630e+00, -4.2260e+00, -8.9000e-02],\n",
       "       [ 1.0522e+01,  9.1400e-01,  9.0000e-03]])"
      ]
     },
     "execution_count": 6,
     "metadata": {},
     "output_type": "execute_result"
    }
   ],
   "source": [
    "pca_obj = PCA(n_components=3)\n",
    "pc = pca_obj.fit_transform(data).round(3)\n",
    "pc"
   ]
  },
  {
   "cell_type": "code",
   "execution_count": 7,
   "metadata": {},
   "outputs": [
    {
     "data": {
      "text/plain": [
       "array([[-4.86 ,  4.63 ],\n",
       "       [-3.799, -1.318],\n",
       "       [-1.863, -4.226],\n",
       "       [10.522,  0.914]])"
      ]
     },
     "execution_count": 7,
     "metadata": {},
     "output_type": "execute_result"
    }
   ],
   "source": [
    "pca_obj = PCA(n_components=2)\n",
    "pc = pca_obj.fit_transform(data).round(3)\n",
    "pc"
   ]
  },
  {
   "cell_type": "markdown",
   "metadata": {},
   "source": [
    "In the code output above, notice that when PCA is applied with 4 principal components, the final column (last principal component) is all 0's. This means that there are actually only a maximum of three uncorrelated principal components that can be extracted."
   ]
  },
  {
   "cell_type": "markdown",
   "metadata": {},
   "source": [
    "## Labeled Data\n",
    "\n",
    "Separate the PCA components of a dataset by class."
   ]
  },
  {
   "cell_type": "markdown",
   "metadata": {},
   "source": [
    "### Goals:\n",
    "\n",
    "* Explore labeled datasets\n",
    "* Separate principle component data by class label"
   ]
  },
  {
   "cell_type": "markdown",
   "metadata": {},
   "source": [
    "### A. Class labels"
   ]
  },
  {
   "cell_type": "markdown",
   "metadata": {},
   "source": [
    "A big part of data science is classifying observations in a dataset into separate categories, or  *classes* . A popular use case of data classification is in separating a dataset into \"good\" and \"bad\" categories. For example, we can classify a dataset of breast tumors as either malignant or benign.\n",
    "\n",
    "The code below separates a breast cancer dataset into malignant and benign categories. The  `load_breast_cancer`  function is part of the scikit-learn library, and its data comes from the [Breast Cancer Wisconsin](https://archive.ics.uci.edu/ml/datasets/Breast+Cancer+Wisconsin+(Diagnostic)) dataset."
   ]
  },
  {
   "cell_type": "code",
   "execution_count": 9,
   "metadata": {},
   "outputs": [
    {
     "data": {
      "text/plain": [
       "array([[1.799e+01, 1.038e+01, 1.228e+02, ..., 2.654e-01, 4.601e-01,\n",
       "        1.189e-01],\n",
       "       [2.057e+01, 1.777e+01, 1.329e+02, ..., 1.860e-01, 2.750e-01,\n",
       "        8.902e-02],\n",
       "       [1.969e+01, 2.125e+01, 1.300e+02, ..., 2.430e-01, 3.613e-01,\n",
       "        8.758e-02],\n",
       "       ...,\n",
       "       [1.660e+01, 2.808e+01, 1.083e+02, ..., 1.418e-01, 2.218e-01,\n",
       "        7.820e-02],\n",
       "       [2.060e+01, 2.933e+01, 1.401e+02, ..., 2.650e-01, 4.087e-01,\n",
       "        1.240e-01],\n",
       "       [7.760e+00, 2.454e+01, 4.792e+01, ..., 0.000e+00, 2.871e-01,\n",
       "        7.039e-02]])"
      ]
     },
     "execution_count": 9,
     "metadata": {},
     "output_type": "execute_result"
    }
   ],
   "source": [
    "bc = load_breast_cancer()\n",
    "bc.data"
   ]
  },
  {
   "cell_type": "code",
   "execution_count": 10,
   "metadata": {},
   "outputs": [
    {
     "data": {
      "text/plain": [
       "(569, 30)"
      ]
     },
     "execution_count": 10,
     "metadata": {},
     "output_type": "execute_result"
    }
   ],
   "source": [
    "bc.data.shape"
   ]
  },
  {
   "cell_type": "markdown",
   "metadata": {},
   "source": [
    "#### Class Labels"
   ]
  },
  {
   "cell_type": "code",
   "execution_count": 15,
   "metadata": {},
   "outputs": [
    {
     "data": {
      "text/plain": [
       "array([0, 0, 0, 0, 0, 0, 0, 0, 0, 0, 0, 0, 0, 0, 0, 0, 0, 0, 0, 1, 1, 1,\n",
       "       0, 0, 0, 0, 0, 0, 0, 0, 0, 0, 0, 0, 0, 0, 0, 1, 0, 0, 0, 0, 0, 0,\n",
       "       0, 0, 1, 0, 1, 1, 1, 1, 1, 0, 0, 1, 0, 0, 1, 1, 1, 1, 0, 1, 0, 0,\n",
       "       1, 1, 1, 1, 0, 1, 0, 0, 1, 0, 1, 0, 0, 1, 1, 1, 0, 0, 1, 0, 0, 0,\n",
       "       1, 1, 1, 0, 1, 1, 0, 0, 1, 1, 1, 0, 0, 1, 1, 1, 1, 0, 1, 1, 0, 1,\n",
       "       1, 1, 1, 1, 1, 1, 1, 0, 0, 0, 1, 0, 0, 1, 1, 1, 0, 0, 1, 0, 1, 0,\n",
       "       0, 1, 0, 0, 1, 1, 0, 1, 1, 0, 1, 1, 1, 1, 0, 1, 1, 1, 1, 1, 1, 1,\n",
       "       1, 1, 0, 1, 1, 1, 1, 0, 0, 1, 0, 1, 1, 0, 0, 1, 1, 0, 0, 1, 1, 1,\n",
       "       1, 0, 1, 1, 0, 0, 0, 1, 0, 1, 0, 1, 1, 1, 0, 1, 1, 0, 0, 1, 0, 0,\n",
       "       0, 0, 1, 0, 0, 0, 1, 0, 1, 0, 1, 1, 0, 1, 0, 0, 0, 0, 1, 1, 0, 0,\n",
       "       1, 1, 1, 0, 1, 1, 1, 1, 1, 0, 0, 1, 1, 0, 1, 1, 0, 0, 1, 0, 1, 1,\n",
       "       1, 1, 0, 1, 1, 1, 1, 1, 0, 1, 0, 0, 0, 0, 0, 0, 0, 0, 0, 0, 0, 0,\n",
       "       0, 0, 1, 1, 1, 1, 1, 1, 0, 1, 0, 1, 1, 0, 1, 1, 0, 1, 0, 0, 1, 1,\n",
       "       1, 1, 1, 1, 1, 1, 1, 1, 1, 1, 1, 0, 1, 1, 0, 1, 0, 1, 1, 1, 1, 1,\n",
       "       1, 1, 1, 1, 1, 1, 1, 1, 1, 0, 1, 1, 1, 0, 1, 0, 1, 1, 1, 1, 0, 0,\n",
       "       0, 1, 1, 1, 1, 0, 1, 0, 1, 0, 1, 1, 1, 0, 1, 1, 1, 1, 1, 1, 1, 0,\n",
       "       0, 0, 1, 1, 1, 1, 1, 1, 1, 1, 1, 1, 1, 0, 0, 1, 0, 0, 0, 1, 0, 0,\n",
       "       1, 1, 1, 1, 1, 0, 1, 1, 1, 1, 1, 0, 1, 1, 1, 0, 1, 1, 0, 0, 1, 1,\n",
       "       1, 1, 1, 1, 0, 1, 1, 1, 1, 1, 1, 1, 0, 1, 1, 1, 1, 1, 0, 1, 1, 0,\n",
       "       1, 1, 1, 1, 1, 1, 1, 1, 1, 1, 1, 1, 0, 1, 0, 0, 1, 0, 1, 1, 1, 1,\n",
       "       1, 0, 1, 1, 0, 1, 0, 1, 1, 0, 1, 0, 1, 1, 1, 1, 1, 1, 1, 1, 0, 0,\n",
       "       1, 1, 1, 1, 1, 1, 0, 1, 1, 1, 1, 1, 1, 1, 1, 1, 1, 0, 1, 1, 1, 1,\n",
       "       1, 1, 1, 0, 1, 0, 1, 1, 0, 1, 1, 1, 1, 1, 0, 0, 1, 0, 1, 0, 1, 1,\n",
       "       1, 1, 1, 0, 1, 1, 0, 1, 0, 1, 0, 0, 1, 1, 1, 0, 1, 1, 1, 1, 1, 1,\n",
       "       1, 1, 1, 1, 1, 0, 1, 0, 0, 1, 1, 1, 1, 1, 1, 1, 1, 1, 1, 1, 1, 1,\n",
       "       1, 1, 1, 1, 1, 1, 1, 1, 1, 1, 1, 1, 0, 0, 0, 0, 0, 0, 1])"
      ]
     },
     "execution_count": 15,
     "metadata": {},
     "output_type": "execute_result"
    }
   ],
   "source": [
    "bc.target"
   ]
  },
  {
   "cell_type": "code",
   "execution_count": 16,
   "metadata": {},
   "outputs": [
    {
     "data": {
      "text/plain": [
       "(569,)"
      ]
     },
     "execution_count": 16,
     "metadata": {},
     "output_type": "execute_result"
    }
   ],
   "source": [
    "bc.target.shape"
   ]
  },
  {
   "cell_type": "markdown",
   "metadata": {},
   "source": [
    "#### Label Names"
   ]
  },
  {
   "cell_type": "code",
   "execution_count": 12,
   "metadata": {},
   "outputs": [
    {
     "data": {
      "text/plain": [
       "array(['malignant', 'benign'], dtype='<U9')"
      ]
     },
     "execution_count": 12,
     "metadata": {},
     "output_type": "execute_result"
    }
   ],
   "source": [
    "bc.target_names"
   ]
  },
  {
   "cell_type": "code",
   "execution_count": 13,
   "metadata": {},
   "outputs": [
    {
     "data": {
      "text/plain": [
       "(212, 30)"
      ]
     },
     "execution_count": 13,
     "metadata": {},
     "output_type": "execute_result"
    }
   ],
   "source": [
    "malignant = bc.data[bc.target==0]\n",
    "malignant.shape"
   ]
  },
  {
   "cell_type": "code",
   "execution_count": 14,
   "metadata": {},
   "outputs": [
    {
     "data": {
      "text/plain": [
       "(357, 30)"
      ]
     },
     "execution_count": 14,
     "metadata": {},
     "output_type": "execute_result"
    }
   ],
   "source": [
    "benign = bc.data[bc.target==1]\n",
    "benign.shape"
   ]
  },
  {
   "cell_type": "markdown",
   "metadata": {},
   "source": [
    "In the example above, the  `bc.data`  array contains all the dataset values, while the  `bc.target`  array contains the class ID labels for each row in  `bc.data` . A class ID of 0 corresponds to a malignant tumor, while a class ID of 1 corresponds to a benign tumor.\n",
    "\n",
    "Using the  `bc.target`  class IDs, we separated the dataset into malignant and benign data arrays. In other words, the  `malignant`  array contains the rows of  `bc.data`  corresponding to the indexes in  `bc.target`  containing 0, while the  `benign`  array contains the rows of  `bc.data`  corresponding to the indexes in  `bc.target`  containing 1. There are 212 malignant data observations and 357 benign observations."
   ]
  },
  {
   "cell_type": "code",
   "execution_count": 17,
   "metadata": {},
   "outputs": [],
   "source": [
    "def get_label_info(component_data, labels,\n",
    "                   class_label, label_names):\n",
    "  \"\"\"returns the label name and data for an input class label.\"\"\"\n",
    "  return label_names[class_label], component_data[labels==class_label]"
   ]
  },
  {
   "cell_type": "code",
   "execution_count": 18,
   "metadata": {},
   "outputs": [],
   "source": [
    "def separate_data(component_data, labels,\n",
    "                  label_names):\n",
    "  \"\"\"separate principal component data by class.\"\"\"\n",
    "  return [get_label_info(component_data, labels, class_label, label_names) for class_label in range(len(label_names))]"
   ]
  },
  {
   "cell_type": "code",
   "execution_count": 19,
   "metadata": {},
   "outputs": [
    {
     "data": {
      "image/png": "[encoded data removed]",
      "text/plain": [
       "<Figure size 432x288 with 1 Axes>"
      ]
     },
     "metadata": {},
     "output_type": "display_data"
    }
   ],
   "source": [
    "pca_obj = PCA(n_components=2)\n",
    "component_data = pca_obj.fit_transform(bc.data)\n",
    "labels = bc.target\n",
    "label_names = bc.target_names\n",
    "\n",
    "# Using the completed separate_data function\n",
    "separated_data = separate_data(component_data,\n",
    "                               labels, label_names)\n",
    "\n",
    "# Plotting the data\n",
    "plt.style.use(\"fivethirtyeight\")\n",
    "for label_name, label_data in separated_data:\n",
    "    col1 = label_data[:, 0]  # 1st column (1st pr. comp.)\n",
    "    col2 = label_data[:, 1]  # 2nd column (2nd pr. comp.)\n",
    "    plt.scatter(col1, col2, label=label_name) # scatterplot\n",
    "\n",
    "plt.legend()  # adds legend to plot\n",
    "plt.title('Breast Cancer Dataset PCA Plot')\n",
    "plt.show()"
   ]
  },
  {
   "cell_type": "markdown",
   "metadata": {},
   "source": [
    "# Data Modeling with scikit-learn"
   ]
  },
  {
   "cell_type": "markdown",
   "metadata": {},
   "source": [
    "## Introduction\n",
    "\n",
    "An overview of the main models used in scikit-learn. We will be creating a variety of models for linear regression and classifying data. We will also explore how to perform hyperparameter tuning and model evaluation through cross-validation."
   ]
  },
  {
   "cell_type": "markdown",
   "metadata": {},
   "source": [
    "### A. Creating models for data"
   ]
  },
  {
   "cell_type": "markdown",
   "metadata": {},
   "source": [
    "The main job of a data scientist is analyzing data and creating models for obtaining results from the data. Oftentimes, data scientists will use simple statistical models for their data, rather than machine learning models like neural networks. This is because data scientists tend to work with smaller datasets than machine learning engineers, so they can quickly extract good results using statistical models.\n",
    "\n",
    "The scikit-learn library provides many statistical models for [linear regression](https://en.wikipedia.org/wiki/Linear_regression). It also provides a few good models for classifying data.\n",
    "When creating these models, data scientists need to figure out the optimal [hyperparameters](https://en.wikipedia.org/wiki/Hyperparameter) to use. Hyperparameters are values that we set when creating a model, e.g. certain constant coefficients used in the model's calculations."
   ]
  },
  {
   "cell_type": "markdown",
   "metadata": {},
   "source": [
    "## Linear Regression\n",
    "\n",
    "Explore basic linear regression and how it's used."
   ]
  },
  {
   "cell_type": "markdown",
   "metadata": {},
   "source": [
    "### Goals:\n",
    "\n",
    "* Create a basic linear regression model based on input data and labels"
   ]
  },
  {
   "cell_type": "markdown",
   "metadata": {},
   "source": [
    "### A. What is linear regression?"
   ]
  },
  {
   "cell_type": "markdown",
   "metadata": {},
   "source": [
    "One of the main objectives in both machine learning and data science is finding an equation or distribution that best fits a given dataset. This is known as data modeling, where we create a model that uses the dataset's features as independent variables to predict output values for some dependent variable (with minimal error). However, it is incredibly difficult to find an optimal model for most datasets, given the amount of noise (i.e. random errors/fluctuations) in real world data.\n",
    "\n",
    "Since finding an optimal model for a dataset is difficult, we instead try to find a good approximating distribution. In many cases, a linear model (a [linear combination](http://mathworld.wolfram.com/LinearCombination.html) of the dataset's features) can approximate the data well. The term  *linear regression*  refers to using a linear model to represent the relationship between a set of independent variables and a dependent variable.\n",
    "\n",
    "$$\n",
    "y = ax_1 + bx_2 + cx_3 + d\n",
    "$$\n",
    "\n",
    "The above formula is example linear model which produces output y (dependent variable) based on the linear combination of independent variables $x_1$, $x_2$, $x_3$. The coefficients $a$, $b$, $c$ and intercept $d$ determine the model's fit."
   ]
  },
  {
   "cell_type": "markdown",
   "metadata": {},
   "source": [
    "### B. Basic linear regression"
   ]
  },
  {
   "cell_type": "markdown",
   "metadata": {},
   "source": [
    "The simplest form of linear regression is called [least squares regression](https://en.wikipedia.org/wiki/Least_squares). This strategy produces a regression model, which is a linear combination of the independent variables, that minimizes the [sum of squared residuals](https://en.wikipedia.org/wiki/Residual_sum_of_squares) between the model's predictions and actual values for the dependent variable.\n",
    "\n",
    "In scikit-learn, the least squares regression model is implemented with the  `LinearRegression`  object, which is a part of the  `linear_model`  module in  `sklearn` . The object contains a  `fit`  function, which takes in an input dataset of features (independent variables) and an array of labels (dependent variables) for each data observation (rows of the dataset).\n",
    "\n",
    "The code below demonstrates how to fit a  `LinearRegression`  model to a dataset of 5 different pizzas ( `pizza_data` ) and corresponding pizza prices. The first column of  `pizza_data`  represents the number of calories and the second column represents net weight (in grams)."
   ]
  },
  {
   "cell_type": "code",
   "execution_count": 3,
   "metadata": {},
   "outputs": [
    {
     "data": {
      "text/plain": [
       "array([[2100,  800],\n",
       "       [2500,  850],\n",
       "       [1800,  760],\n",
       "       [2000,  800],\n",
       "       [2300,  810]])"
      ]
     },
     "execution_count": 3,
     "metadata": {},
     "output_type": "execute_result"
    }
   ],
   "source": [
    "pizza_data = np.array(\n",
    "    [[2100,  800],\n",
    "     [2500,  850],\n",
    "     [1800,  760],\n",
    "     [2000,  800],\n",
    "     [2300,  810]]\n",
    ")\n",
    "pizza_data"
   ]
  },
  {
   "cell_type": "code",
   "execution_count": 4,
   "metadata": {},
   "outputs": [
    {
     "data": {
      "text/plain": [
       "array([10.99, 12.5 ,  9.99, 10.99, 11.99])"
      ]
     },
     "execution_count": 4,
     "metadata": {},
     "output_type": "execute_result"
    }
   ],
   "source": [
    "pizza_prices = np.array([10.99, 12.5 ,  9.99, 10.99, 11.99])\n",
    "pizza_prices"
   ]
  },
  {
   "cell_type": "code",
   "execution_count": 7,
   "metadata": {},
   "outputs": [
    {
     "data": {
      "text/plain": [
       "LinearRegression()"
      ]
     },
     "execution_count": 7,
     "metadata": {},
     "output_type": "execute_result"
    }
   ],
   "source": [
    "reg = LinearRegression()\n",
    "reg.fit(pizza_data, pizza_prices)"
   ]
  },
  {
   "cell_type": "markdown",
   "metadata": {},
   "source": [
    "After calling the  `fit`  function, the model is ready to use. The  `predict`  function allows us to make predictions on new data.\n",
    "\n",
    "We can also get the specific coefficients and intercept for the linear combination using the  `coef_`  and  `intercept_`  properties, respectively.\n",
    "\n",
    "Finally, we can retrieve the [coefficient of determination](https://en.wikipedia.org/wiki/Coefficient_of_determination) (or $R^2$ value) using the  `score`  function applied to the dataset and labels. The $R^2$ value tells us how close of a fit the linear model is to the data, or in other words, how good of a fit the model is for the data."
   ]
  },
  {
   "cell_type": "code",
   "execution_count": 8,
   "metadata": {},
   "outputs": [
    {
     "data": {
      "text/plain": [
       "array([10.86599206, 11.55111111])"
      ]
     },
     "execution_count": 8,
     "metadata": {},
     "output_type": "execute_result"
    }
   ],
   "source": [
    "# new pizza data\n",
    "new_pizzas = np.array(\n",
    "    [[2000,  820],\n",
    "     [2200,  830]]\n",
    ")\n",
    "\n",
    "price_predicts = reg.predict(new_pizzas)\n",
    "price_predicts"
   ]
  },
  {
   "cell_type": "code",
   "execution_count": 9,
   "metadata": {},
   "outputs": [
    {
     "name": "stdout",
     "output_type": "stream",
     "text": [
      "Coefficients: [0.00330913 0.00232937]\n",
      "Intercept: 2.337658730158733\n"
     ]
    }
   ],
   "source": [
    "print(f'Coefficients: {reg.coef_}')\n",
    "print(f'Intercept: {reg.intercept_}')"
   ]
  },
  {
   "cell_type": "code",
   "execution_count": 10,
   "metadata": {},
   "outputs": [
    {
     "data": {
      "text/plain": [
       "0.9758349388652625"
      ]
     },
     "execution_count": 10,
     "metadata": {},
     "output_type": "execute_result"
    }
   ],
   "source": [
    "r2 = reg.score(pizza_data, pizza_prices)\n",
    "r2"
   ]
  },
  {
   "cell_type": "markdown",
   "metadata": {},
   "source": [
    "The traditional $R^2$ value is a real number between 0 and 1. In scikit-learn it ranges from -∞ to 1, where lower values denote a poorer model fit to the data. The closer the value is to 1, the better the model's fit on the data. In the example above, we see that the model is a near perfect fit for the pizza data."
   ]
  },
  {
   "cell_type": "markdown",
   "metadata": {},
   "source": [
    "## Ridge Regression\n",
    "\n",
    "Understand the need for regularization in linear regression."
   ]
  },
  {
   "cell_type": "markdown",
   "metadata": {},
   "source": [
    "### Goals:\n",
    "\n",
    "* Explore regularization in linear regression\n",
    "* Explore hyperparameter tuning using cross-validation\n",
    "* Implement a cross-validated ridge regression model in scikit-learn"
   ]
  },
  {
   "cell_type": "markdown",
   "metadata": {},
   "source": [
    "While ordinary least squares regression is a good way to fit a linear model onto a dataset, it relies on the fact that the dataset's features are each independent, i.e. uncorrelated. When many of the dataset features are linearly correlated, e.g. if a dataset has multiple features depicting the same price in different currencies, it makes the least squares regression model highly sensitive to noise in the data.\n",
    "\n",
    "Because real life data tends to have noise, and will often have some linearly correlated features in the dataset, we combat this by performing  *regularization* . For ordinary least squares regression, the goal is to find the weights (coefficients) for the linear model that minimize the sum of squared residuals:\n",
    "\n",
    "$$\n",
    "\\sum_{i=1}^n(X_i \\cdot w-y_i)^2\\\\\n",
    "\\mbox{where  each} \\  X_i \\ \\mbox{represents  a  data  observation  and} \\  y_i \\ \\mbox{is  the  corresponding  label.}\n",
    "$$\n",
    "For regularization, the goal is to not only minimize the sum of squared residuals but to do this with coefficients as small as possible. The smaller the coefficients, the less susceptible they are to random noise in the data. The most commonly used form of regularization is [ridge regularization](https://en.wikipedia.org/wiki/Tikhonov_regularization).\n",
    "\n",
    "With ridge regularization, the goal is now to find the weights that minimize the following quantity:\n",
    "$$\n",
    "\\alpha \\| w \\|_2^2+\\sum_{i=1}^n(X_i\\cdot w-y_i)^2\\\\\n",
    "\\mbox{where }\\alpha \\mbox{ is a non-negative real number hyperparameter and }\\| w\\| _2^2 \\\\ \\mbox{ represents the L2 norm of the weights.}\\\\ \\mbox{ The additional }\\alpha \\| w \\|_2^2 \\mbox{ is referred to as the }  \\textbf{penalty term}\\mbox{ , since it penalizes larger weight values.}\\\\ \\mbox{ Larger quantities of }\\alpha \\mbox{ will put greater emphasis on the penalty term, forcing the model to have even smaller weight values.}\n",
    "$$\n",
    "\n",
    "![image.png](data:image/png;base64,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)\n",
    "\n",
    "The plot above shows an example of ordinary least squares regression models vs. ridge regression models. The two red crosses mark the points (0.5, 0.5) and (1, 1), and the blue lines are the regression lines for those two points. Each of the grey lines are the regression lines for the original points with added noise (which is signified by the grey points).\n",
    "\n",
    "The ordinary least squares regression is much more susceptible to being influenced by the added noise, as there is a much larger degree of variance in the grey regression lines compared to the ridge regression."
   ]
  },
  {
   "cell_type": "markdown",
   "metadata": {},
   "source": [
    "### B. Choosing the best alpha"
   ]
  },
  {
   "cell_type": "markdown",
   "metadata": {},
   "source": [
    "In scikit-learn, we implement ridge regression in essentially the same way we implement ordinary least squares regression. We use the  `Ridge`  object (part of the  `linear_model`  module) to implement ridge regression.\n",
    "\n",
    "The code below fits a  `Ridge`  object on the pizza dataset from the previous chapter."
   ]
  },
  {
   "cell_type": "code",
   "execution_count": 14,
   "metadata": {},
   "outputs": [
    {
     "name": "stdout",
     "output_type": "stream",
     "text": [
      "Coefficients: [0.00330976 0.00232372]\n",
      "Intercept: 2.340845980549572\n"
     ]
    }
   ],
   "source": [
    "ridge = Ridge()\n",
    "ridge.fit(pizza_data, pizza_prices)\n",
    "print(f'Coefficients: {ridge.coef_}\\nIntercept: {ridge.intercept_}')"
   ]
  },
  {
   "cell_type": "code",
   "execution_count": 15,
   "metadata": {},
   "outputs": [
    {
     "data": {
      "text/plain": [
       "0.9758349359826239"
      ]
     },
     "execution_count": 15,
     "metadata": {},
     "output_type": "execute_result"
    }
   ],
   "source": [
    "r2_ridge = ridge.score(pizza_data, pizza_prices)\n",
    "r2_ridge"
   ]
  },
  {
   "cell_type": "markdown",
   "metadata": {},
   "source": [
    "We can specify the value of the $\\alpha$ hyperparameter when initializing the  `Ridge`  object (the default is 1.0). However, rather than manually choosing a value, we can use  *cross-validation*  to help us choose the optimal $\\alpha$ from a list of values."
   ]
  },
  {
   "cell_type": "code",
   "execution_count": 5,
   "metadata": {},
   "outputs": [
    {
     "name": "stdout",
     "output_type": "stream",
     "text": [
      "Coeffiecients: [0.00330932 0.00232767]\n",
      "Intercept: 2.3386168534478244\n",
      "Alphas: 0.3\n"
     ]
    }
   ],
   "source": [
    "alphas = [0.1, 0.2, 0.3]\n",
    "reg = RidgeCV(alphas=alphas)\n",
    "reg.fit(pizza_data, pizza_prices)\n",
    "\n",
    "print(f\"\"\"Coeffiecients: {reg.coef_}\n",
    "Intercept: {reg.intercept_}\n",
    "Alphas: {reg.alpha_}\"\"\")"
   ]
  },
  {
   "cell_type": "markdown",
   "metadata": {},
   "source": [
    "## LASSO Regression\n",
    "Apply regularization with LASSO regression."
   ]
  },
  {
   "cell_type": "markdown",
   "metadata": {},
   "source": [
    "### Goals:\n",
    "* Explore sparse linear regression via LASSO"
   ]
  },
  {
   "cell_type": "markdown",
   "metadata": {},
   "source": [
    "### A. Sparse regularization"
   ]
  },
  {
   "cell_type": "markdown",
   "metadata": {},
   "source": [
    "While ridge regularization uses an L2 norm penalty term, another regularization method called [LASSO](https://en.wikipedia.org/wiki/Lasso_(statistics)) uses an [L1 norm](http://mathworld.wolfram.com/L1-Norm.html) for the weights penalty term. Specifically, LASSO regularization will find the optimal weights to minimize the following quantity:\n",
    "$$\n",
    "\\alpha \\|w\\|_1+\\sum_{i=1}^n(X_i\\cdot w-y_i)^2\\\\\n",
    "\\mbox{Where }\\|w\\|_1\\mbox{ represents the L1 norm of the weights.}\n",
    "$$\n",
    "\n",
    "LASSO regularization tends to prefer linear models with fewer parameter values. This means that it will likely zero-out some of the weight coefficients. This reduces the number of features that the model is actually dependent on (since some of the coefficients will now be 0), which can be beneficial when some features are completely irrelevant or duplicates of other features.\n",
    "\n",
    "In scikit-learn, we implement LASSO using the  `Lasso`  object, which is part of the  `linear_model`  module. Like the  `Ridge`  object, it takes in the model's $\\alpha$ value with the  `alpha`  keyword argument (default is 1.0).\n",
    "\n",
    "The code below demonstrates how to use the  `Lasso`  object on a dataset with 150 observations and 4 features."
   ]
  },
  {
   "cell_type": "code",
   "execution_count": 3,
   "metadata": {},
   "outputs": [
    {
     "data": {
      "text/plain": [
       "array([[5.1, 3.5, 1.4, 0.2],\n",
       "       [4.9, 3. , 1.4, 0.2],\n",
       "       [4.7, 3.2, 1.3, 0.2],\n",
       "       [4.6, 3.1, 1.5, 0.2],\n",
       "       [5. , 3.6, 1.4, 0.2]])"
      ]
     },
     "execution_count": 3,
     "metadata": {},
     "output_type": "execute_result"
    }
   ],
   "source": [
    "data = pd.read_csv('datasets/data2.csv').values\n",
    "data[:5]"
   ]
  },
  {
   "cell_type": "code",
   "execution_count": 4,
   "metadata": {},
   "outputs": [
    {
     "data": {
      "text/plain": [
       "array([0, 0, 0, 0, 0])"
      ]
     },
     "execution_count": 4,
     "metadata": {},
     "output_type": "execute_result"
    }
   ],
   "source": [
    "labels = np.array([0, 0, 0, 0, 0, 0, 0, 0, 0, 0, 0, 0, 0, 0, 0, 0, 0, 0, 0, 0, 0, 0, 0, 0, 0, 0, 0, 0, 0, 0, 0, 0, 0, 0, 0, 0, 0, 0, 0, 0, 0, 0, 0, 0, 0, 0, 0, 0, 0, 0, 1, 1, 1, 1, 1, 1, 1, 1, 1, 1, 1, 1, 1, 1, 1, 1, 1, 1, 1, 1, 1, 1, 1, 1, 1, 1, 1, 1, 1, 1, 1, 1, 1, 1, 1, 1, 1, 1, 1, 1, 1, 1, 1, 1, 1, 1, 1, 1, 1, 1, 2, 2, 2, 2, 2, 2, 2, 2, 2, 2, 2, 2, 2, 2, 2, 2, 2, 2, 2, 2, 2, 2, 2, 2, 2, 2, 2, 2, 2, 2, 2, 2, 2, 2, 2, 2, 2, 2, 2, 2, 2, 2, 2, 2, 2, 2, 2, 2, 2, 2])\n",
    "labels[:5]"
   ]
  },
  {
   "cell_type": "code",
   "execution_count": 5,
   "metadata": {},
   "outputs": [
    {
     "name": "stdout",
     "output_type": "stream",
     "text": [
      "Data Shape: (150, 4)\n",
      "Labels Shape: (150,)\n"
     ]
    }
   ],
   "source": [
    "print(f\"\"\"Data Shape: {data.shape}\n",
    "Labels Shape: {labels.shape}\"\"\")"
   ]
  },
  {
   "cell_type": "code",
   "execution_count": 6,
   "metadata": {},
   "outputs": [
    {
     "name": "stdout",
     "output_type": "stream",
     "text": [
      "Coeffiecients: [ 0.         -0.          0.40830957  0.        ]\n",
      "Intercept: -0.5346995583185636\n",
      "R2: 0.8958311895045039\n"
     ]
    }
   ],
   "source": [
    "reg = Lasso(alpha=.1)\n",
    "reg.fit(data, labels)\n",
    "\n",
    "print(f\"\"\"Coeffiecients: {reg.coef_}\n",
    "Intercept: {reg.intercept_}\n",
    "R2: {reg.score(data, labels)}\"\"\")"
   ]
  },
  {
   "cell_type": "markdown",
   "metadata": {},
   "source": [
    "In the example above, note that a majority of the weights are 0, due to the LASSO sparse weight preference.\n",
    "\n",
    "There is also a cross-validated version in the form of the  `LassoCV`  object, which works in essentially the same way as the  `RidgeCV`  object."
   ]
  },
  {
   "cell_type": "markdown",
   "metadata": {},
   "source": [
    "## Bayesian Regression\n",
    "\n",
    "Exploring Bayesian regression techniques."
   ]
  },
  {
   "cell_type": "markdown",
   "metadata": {},
   "source": [
    "### Goals:\n",
    "\n",
    "* Exploring Bayesian regression techniques"
   ]
  },
  {
   "cell_type": "markdown",
   "metadata": {},
   "source": [
    "### A. Bayesian techniques"
   ]
  },
  {
   "cell_type": "markdown",
   "metadata": {},
   "source": [
    "we've discussed hyperparameter optimization through cross-validation. Another way to optimize the hyperparameters of a regularized regression model is with [Bayesian](https://en.wikipedia.org/wiki/Bayesian_inference) techniques.\n",
    "\n",
    "In Bayesian statistics, the main idea is to make certain assumptions about the probability distributions of a model's parameters  *before*  being fitted on data. These initial distribution assumptions are called  *priors*  for the model's parameters.\n",
    "\n",
    "In a Bayesian ridge regression model, there are two hyperparameters to optimize: $\\alpha$ and $\\lambda$. The $\\alpha$ hyperparameter serves the same exact purpose as it does for regular ridge regression; namely, it acts as a scaling factor for the penalty term.\n",
    "\n",
    "The $\\lambda$ hyperparameter acts as the precision of the model's weights. Basically, the smaller the $\\lambda$ value, the greater the variance between the individual weight values."
   ]
  },
  {
   "cell_type": "markdown",
   "metadata": {},
   "source": [
    "### B. Hyperparameter priors"
   ]
  },
  {
   "cell_type": "markdown",
   "metadata": {},
   "source": [
    "Both the $\\alpha$ and $\\lambda$ hyperparameters have [gamma distribution](https://en.wikipedia.org/wiki/Gamma_distribution) priors, meaning we assume both values come from a gamma probability distribution.\n",
    "\n",
    "There's no need to know the specifics of a gamma distribution, other than the fact that it's a probability distribution defined by a [shape parameter](https://en.wikipedia.org/wiki/Shape_parameter) and [scale parameter](https://en.wikipedia.org/wiki/Scale_parameter).\n",
    "\n",
    "Specifically, the $\\alpha$ hyperparameter has prior:\n",
    "$$\n",
    "\\Gamma(\\alpha_1, \\alpha_2)\n",
    "$$\n",
    "and the $\\lambda$ hyperparameter has prior:\n",
    "$$\n",
    "\\Gamma(\\lambda_1, \\lambda_2)\n",
    "$$\n",
    "where $\\Gamma(k, \\theta)$ represents a gamma distribution with shape parameter $k$ and scale parameter $\\theta$."
   ]
  },
  {
   "cell_type": "markdown",
   "metadata": {},
   "source": [
    "### C. Tuning the model"
   ]
  },
  {
   "cell_type": "markdown",
   "metadata": {},
   "source": [
    "When finding the optimal weight settings of a Bayesian ridge regression model for an input dataset, we also concurrently optimize the $\\alpha$ and $\\lambda$ hyperparameters based on their prior distributions and the input data.\n",
    "\n",
    "This can all be done with the [ `BayesianRidge` ](https://scikit-learn.org/stable/modules/generated/sklearn.linear_model.BayesianRidge.html#sklearn.linear_model.BayesianRidge) object (part of the  `linear_model`  module). Like all the previous regression objects, this one can be initialized with no required arguments."
   ]
  },
  {
   "cell_type": "code",
   "execution_count": 8,
   "metadata": {},
   "outputs": [
    {
     "name": "stdout",
     "output_type": "stream",
     "text": [
      "Coefficents: [-0.11174556 -0.03900746  0.24329606  0.57345867]\n",
      "Intercept: 0.17024073782276505\n",
      "R2: 0.930345494735128\n",
      "Alpha: 20.984220720919367\n",
      "Lambda: 9.539435179662124\n"
     ]
    }
   ],
   "source": [
    "reg = BayesianRidge()\n",
    "reg.fit(data, labels)\n",
    "\n",
    "print(f\"\"\"Coefficents: {reg.coef_}\n",
    "Intercept: {reg.intercept_}\n",
    "R2: {reg.score(data, labels)}\n",
    "Alpha: {reg.alpha_}\n",
    "Lambda: {reg.lambda_}\"\"\")"
   ]
  },
  {
   "cell_type": "markdown",
   "metadata": {},
   "source": [
    "We can manually specify the $\\alpha_1$ and $\\alpha_2$ gamma parameters for α with the  `alpha_1`  and  `alpha_2`  keyword arguments when initializing  `BayesianRidge` . Similarly, we can manually set $\\lambda_1$ and $\\lambda_2$ with the  `lambda_1`  and  `lambda_2`  keyword arguments. The default value for each of the four gamma parameters is $10^{-6}$"
   ]
  },
  {
   "cell_type": "markdown",
   "metadata": {},
   "source": [
    "## Logistic Regression\n",
    "\n",
    "Implementing logistic regression for classification tasks."
   ]
  },
  {
   "cell_type": "markdown",
   "metadata": {},
   "source": [
    "### Goals:\n",
    "\n",
    "* Exploring logistic regression for linearly separable datasets"
   ]
  },
  {
   "cell_type": "markdown",
   "metadata": {},
   "source": [
    "### A. Classification"
   ]
  },
  {
   "cell_type": "markdown",
   "metadata": {},
   "source": [
    "The logistic regression model, despite its name, is actually a linear model for  *classification* . It is called logistic regression because it performs regression on [logits](https://en.wikipedia.org/wiki/Logit), which then allows us to classify the data based on model probability predictions.\n",
    "\n",
    "We implement logistic regression with the  `LogisticRegression`  object (part of the  `linear_model`  module). The default setting for  `LogisticRegression`  is  *binary classification* , i.e. classifying data observations that are labeled with either a 0 or 1."
   ]
  },
  {
   "cell_type": "code",
   "execution_count": 9,
   "metadata": {},
   "outputs": [
    {
     "data": {
      "text/plain": [
       "array([[1160.1425737 , -293.91754364,   48.57839763,   -8.71197531],\n",
       "       [1269.12244319,   15.63018184,  -35.39453423,   17.86128323],\n",
       "       [ 995.79388896,   39.15674324,   -1.70975298,    4.1993401 ],\n",
       "       [-407.18080253,  -67.38031982,    8.67284783,  -11.75986732],\n",
       "       [ 930.34118015,  189.34074158,    1.37480074,    8.49918256]])"
      ]
     },
     "execution_count": 9,
     "metadata": {},
     "output_type": "execute_result"
    }
   ],
   "source": [
    "data = pd.read_csv('datasets/data3.csv').values\n",
    "data[:5]"
   ]
  },
  {
   "cell_type": "code",
   "execution_count": 13,
   "metadata": {},
   "outputs": [
    {
     "data": {
      "text/plain": [
       "array([0, 0, 0, 0, 0], dtype=int64)"
      ]
     },
     "execution_count": 13,
     "metadata": {},
     "output_type": "execute_result"
    }
   ],
   "source": [
    "labels=pd.read_csv('datasets/labels.csv').values[:, 0]\n",
    "labels[:5]"
   ]
  },
  {
   "cell_type": "code",
   "execution_count": 15,
   "metadata": {},
   "outputs": [
    {
     "name": "stdout",
     "output_type": "stream",
     "text": [
      "Predicition Classes: array([1, 0], dtype=int64)\n"
     ]
    }
   ],
   "source": [
    "reg = LogisticRegression()\n",
    "reg.fit(data, labels)\n",
    "\n",
    "new_data = np.array([\n",
    "    [  0.3,  0.5, -1.2,  1.4],\n",
    "    [ -1.3,  1.8, -0.6, -8.2]\n",
    "])\n",
    "\n",
    "print(f\"Predicition Classes: {repr(reg.predict(new_data))}\")"
   ]
  },
  {
   "cell_type": "markdown",
   "metadata": {},
   "source": [
    "The code above created a logistic regression model from a labeled dataset. The model predicts 1 and 0, respectively, as the labels for the observations in  `new_data` .\n",
    "\n",
    "For  *multiclass classification* , i.e. when there are more than two labels, we initialize the  `LogisticRegression`  object with the  `multi_class`  keyword argument. The default value is  `'ovr'` , which signifies a [One-Vs-Rest](https://en.wikipedia.org/wiki/Multiclass_classification#One-vs.-rest) strategy. In multiclass classification, we want to use the  `'multinomial'`  strategy.\n",
    "\n",
    "The code below demonstrates multiclass classification. Note that to use the  `'multinomial'`  strategy, we need to choose a proper solver (see below for details on solvers). In this case, we choose  `'lbfgs'` ."
   ]
  },
  {
   "cell_type": "code",
   "execution_count": 16,
   "metadata": {},
   "outputs": [
    {
     "data": {
      "text/plain": [
       "array([[5.1, 3.5, 1.4, 0.2],\n",
       "       [4.9, 3. , 1.4, 0.2],\n",
       "       [4.7, 3.2, 1.3, 0.2],\n",
       "       [4.6, 3.1, 1.5, 0.2],\n",
       "       [5. , 3.6, 1.4, 0.2]])"
      ]
     },
     "execution_count": 16,
     "metadata": {},
     "output_type": "execute_result"
    }
   ],
   "source": [
    "data = pd.read_csv('datasets/data4.csv').values\n",
    "data[:5]"
   ]
  },
  {
   "cell_type": "code",
   "execution_count": 17,
   "metadata": {},
   "outputs": [
    {
     "data": {
      "text/plain": [
       "array([0, 0, 0, 0, 0], dtype=int64)"
      ]
     },
     "execution_count": 17,
     "metadata": {},
     "output_type": "execute_result"
    }
   ],
   "source": [
    "labels = pd.read_csv('datasets/labels2.csv').values[:, 0]\n",
    "labels[:5]"
   ]
  },
  {
   "cell_type": "code",
   "execution_count": 18,
   "metadata": {},
   "outputs": [
    {
     "name": "stdout",
     "output_type": "stream",
     "text": [
      "Prediction Classes: array([2, 0], dtype=int64)\n"
     ]
    }
   ],
   "source": [
    "reg = LogisticRegression(\n",
    "    solver='lbfgs',\n",
    "    multi_class='multinomial'\n",
    ")\n",
    "reg.fit(data, labels)\n",
    "new_data = np.array(\n",
    "    [\n",
    "        [ 1.8, -0.5, 6.2, 1.4],\n",
    "        [ 3.3,  0.8, 0.1, 2.5]\n",
    "    ]\n",
    ")\n",
    "print(f\"Prediction Classes: {repr(reg.predict(new_data))}\")"
   ]
  },
  {
   "cell_type": "markdown",
   "metadata": {},
   "source": [
    "### B. Solvers"
   ]
  },
  {
   "cell_type": "markdown",
   "metadata": {},
   "source": [
    "The  `LogisticRegression`  object uses a  *solver*  to obtain the optimal weight settings based on the input data and labels. The five solvers and their various properties are shown in the table below (which comes from the scikit-learn official [website](https://scikit-learn.org/stable/modules/linear_model.html#logistic-regression)):\n",
    "\n",
    "![image.png](data:image/png;base64,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 \"Table of the five solvers and their properties.\")\n",
    "\n",
    "By default, the logistic regression is regularized through the L2 norm of weights. We can manually specify whether to use the L1 or L2 norm with the  `penalty`  keyword argument, by setting it as either  `'l1'`  or  `'l2'` .\n",
    "\n",
    "We can choose a particular solver using the  `solver`  keyword argument. The default solver is currently  `'liblinear'`  (although it will change to  `'lbfgs'`  in future version). For the  `'newton-cg'` ,  `'sag'` , and  `'lbfgs'`  solvers, we can also set the maximum number of iterations the solver takes until the model's weights converge using the  `max_iter`  keyword argument. Since the default  `max_iter`  value is 100, we may want to let the solver run for a higher number of iterations in certain applications.\n",
    "\n",
    "The code below demonstrates usage of the  `solver`  and  `max_iter`  keyword arguments.\n",
    "\n",
    "```python\n",
    "from sklearn import linear_model\n",
    "reg = linear_model.LogisticRegression(\n",
    "  solver='lbfgs', max_iter=1000)\n",
    "```"
   ]
  },
  {
   "cell_type": "markdown",
   "metadata": {},
   "source": [
    "### C. Cross-validated model"
   ]
  },
  {
   "cell_type": "markdown",
   "metadata": {},
   "source": [
    "Like the ridge and LASSO regression models, the logistic regression model comes with a cross-validated version in scikit-learn. The cross-validated logistic regression object,  `LogisticRegressionCV` , is initialized and used in the same way as the regular  `LogisticRegression`  object.\n",
    "\n",
    "The code below demonstrates usage of the  `LogisticRegressionCV`  object.\n",
    "\n",
    "```python\n",
    "from sklearn import linear_model\n",
    "reg = linear_model.LogisticRegressionCV(\n",
    "    solver='multinomial', max_iter=1000\n",
    ")\n",
    "```"
   ]
  },
  {
   "cell_type": "code",
   "execution_count": null,
   "metadata": {},
   "outputs": [],
   "source": []
  },
  {
   "cell_type": "code",
   "execution_count": null,
   "metadata": {},
   "outputs": [],
   "source": []
  },
  {
   "cell_type": "code",
   "execution_count": null,
   "metadata": {},
   "outputs": [],
   "source": []
  },
  {
   "cell_type": "code",
   "execution_count": null,
   "metadata": {},
   "outputs": [],
   "source": []
  },
  {
   "cell_type": "code",
   "execution_count": null,
   "metadata": {},
   "outputs": [],
   "source": []
  },
  {
   "cell_type": "code",
   "execution_count": null,
   "metadata": {},
   "outputs": [],
   "source": []
  },
  {
   "cell_type": "code",
   "execution_count": null,
   "metadata": {},
   "outputs": [],
   "source": []
  },
  {
   "cell_type": "code",
   "execution_count": null,
   "metadata": {},
   "outputs": [],
   "source": []
  },
  {
   "cell_type": "code",
   "execution_count": null,
   "metadata": {},
   "outputs": [],
   "source": []
  },
  {
   "cell_type": "code",
   "execution_count": null,
   "metadata": {},
   "outputs": [],
   "source": []
  },
  {
   "cell_type": "code",
   "execution_count": null,
   "metadata": {},
   "outputs": [],
   "source": []
  },
  {
   "cell_type": "code",
   "execution_count": null,
   "metadata": {},
   "outputs": [],
   "source": []
  },
  {
   "cell_type": "code",
   "execution_count": null,
   "metadata": {},
   "outputs": [],
   "source": []
  },
  {
   "cell_type": "code",
   "execution_count": null,
   "metadata": {},
   "outputs": [],
   "source": []
  },
  {
   "cell_type": "code",
   "execution_count": null,
   "metadata": {},
   "outputs": [],
   "source": []
  },
  {
   "cell_type": "code",
   "execution_count": null,
   "metadata": {},
   "outputs": [],
   "source": []
  },
  {
   "cell_type": "code",
   "execution_count": null,
   "metadata": {},
   "outputs": [],
   "source": []
  },
  {
   "cell_type": "code",
   "execution_count": null,
   "metadata": {},
   "outputs": [],
   "source": []
  },
  {
   "cell_type": "code",
   "execution_count": null,
   "metadata": {},
   "outputs": [],
   "source": []
  },
  {
   "cell_type": "code",
   "execution_count": null,
   "metadata": {},
   "outputs": [],
   "source": []
  },
  {
   "cell_type": "code",
   "execution_count": null,
   "metadata": {},
   "outputs": [],
   "source": []
  },
  {
   "cell_type": "code",
   "execution_count": null,
   "metadata": {},
   "outputs": [],
   "source": []
  },
  {
   "cell_type": "code",
   "execution_count": null,
   "metadata": {},
   "outputs": [],
   "source": []
  },
  {
   "cell_type": "code",
   "execution_count": null,
   "metadata": {},
   "outputs": [],
   "source": []
  },
  {
   "cell_type": "code",
   "execution_count": null,
   "metadata": {},
   "outputs": [],
   "source": []
  },
  {
   "cell_type": "code",
   "execution_count": null,
   "metadata": {},
   "outputs": [],
   "source": []
  },
  {
   "cell_type": "code",
   "execution_count": null,
   "metadata": {},
   "outputs": [],
   "source": []
  },
  {
   "cell_type": "code",
   "execution_count": null,
   "metadata": {},
   "outputs": [],
   "source": []
  },
  {
   "cell_type": "code",
   "execution_count": null,
   "metadata": {},
   "outputs": [],
   "source": []
  },
  {
   "cell_type": "code",
   "execution_count": null,
   "metadata": {},
   "outputs": [],
   "source": []
  },
  {
   "cell_type": "code",
   "execution_count": null,
   "metadata": {},
   "outputs": [],
   "source": []
  },
  {
   "cell_type": "code",
   "execution_count": null,
   "metadata": {},
   "outputs": [],
   "source": []
  },
  {
   "cell_type": "code",
   "execution_count": null,
   "metadata": {},
   "outputs": [],
   "source": []
  },
  {
   "cell_type": "code",
   "execution_count": null,
   "metadata": {},
   "outputs": [],
   "source": []
  },
  {
   "cell_type": "code",
   "execution_count": null,
   "metadata": {},
   "outputs": [],
   "source": []
  },
  {
   "cell_type": "code",
   "execution_count": null,
   "metadata": {},
   "outputs": [],
   "source": []
  },
  {
   "cell_type": "code",
   "execution_count": null,
   "metadata": {},
   "outputs": [],
   "source": []
  },
  {
   "cell_type": "code",
   "execution_count": null,
   "metadata": {},
   "outputs": [],
   "source": []
  },
  {
   "cell_type": "code",
   "execution_count": null,
   "metadata": {},
   "outputs": [],
   "source": []
  },
  {
   "cell_type": "code",
   "execution_count": null,
   "metadata": {},
   "outputs": [],
   "source": []
  },
  {
   "cell_type": "code",
   "execution_count": null,
   "metadata": {},
   "outputs": [],
   "source": []
  },
  {
   "cell_type": "code",
   "execution_count": null,
   "metadata": {},
   "outputs": [],
   "source": []
  },
  {
   "cell_type": "code",
   "execution_count": null,
   "metadata": {},
   "outputs": [],
   "source": []
  },
  {
   "cell_type": "code",
   "execution_count": null,
   "metadata": {},
   "outputs": [],
   "source": []
  },
  {
   "cell_type": "code",
   "execution_count": null,
   "metadata": {},
   "outputs": [],
   "source": []
  },
  {
   "cell_type": "code",
   "execution_count": null,
   "metadata": {},
   "outputs": [],
   "source": []
  },
  {
   "cell_type": "code",
   "execution_count": null,
   "metadata": {},
   "outputs": [],
   "source": []
  },
  {
   "cell_type": "code",
   "execution_count": null,
   "metadata": {},
   "outputs": [],
   "source": []
  },
  {
   "cell_type": "code",
   "execution_count": null,
   "metadata": {},
   "outputs": [],
   "source": []
  },
  {
   "cell_type": "code",
   "execution_count": null,
   "metadata": {},
   "outputs": [],
   "source": []
  },
  {
   "cell_type": "code",
   "execution_count": null,
   "metadata": {},
   "outputs": [],
   "source": []
  },
  {
   "cell_type": "code",
   "execution_count": null,
   "metadata": {},
   "outputs": [],
   "source": []
  },
  {
   "cell_type": "code",
   "execution_count": null,
   "metadata": {},
   "outputs": [],
   "source": []
  },
  {
   "cell_type": "code",
   "execution_count": null,
   "metadata": {},
   "outputs": [],
   "source": []
  },
  {
   "cell_type": "code",
   "execution_count": null,
   "metadata": {},
   "outputs": [],
   "source": []
  },
  {
   "cell_type": "code",
   "execution_count": null,
   "metadata": {},
   "outputs": [],
   "source": []
  },
  {
   "cell_type": "code",
   "execution_count": null,
   "metadata": {},
   "outputs": [],
   "source": []
  },
  {
   "cell_type": "code",
   "execution_count": null,
   "metadata": {},
   "outputs": [],
   "source": []
  },
  {
   "cell_type": "code",
   "execution_count": null,
   "metadata": {},
   "outputs": [],
   "source": []
  },
  {
   "cell_type": "code",
   "execution_count": null,
   "metadata": {},
   "outputs": [],
   "source": []
  },
  {
   "cell_type": "code",
   "execution_count": null,
   "metadata": {},
   "outputs": [],
   "source": []
  },
  {
   "cell_type": "code",
   "execution_count": null,
   "metadata": {},
   "outputs": [],
   "source": []
  },
  {
   "cell_type": "code",
   "execution_count": null,
   "metadata": {},
   "outputs": [],
   "source": []
  },
  {
   "cell_type": "code",
   "execution_count": null,
   "metadata": {},
   "outputs": [],
   "source": []
  },
  {
   "cell_type": "code",
   "execution_count": null,
   "metadata": {},
   "outputs": [],
   "source": []
  },
  {
   "cell_type": "code",
   "execution_count": null,
   "metadata": {},
   "outputs": [],
   "source": []
  },
  {
   "cell_type": "code",
   "execution_count": null,
   "metadata": {},
   "outputs": [],
   "source": []
  },
  {
   "cell_type": "code",
   "execution_count": null,
   "metadata": {},
   "outputs": [],
   "source": []
  },
  {
   "cell_type": "code",
   "execution_count": null,
   "metadata": {},
   "outputs": [],
   "source": []
  },
  {
   "cell_type": "code",
   "execution_count": null,
   "metadata": {},
   "outputs": [],
   "source": []
  },
  {
   "cell_type": "code",
   "execution_count": null,
   "metadata": {},
   "outputs": [],
   "source": []
  },
  {
   "cell_type": "code",
   "execution_count": null,
   "metadata": {},
   "outputs": [],
   "source": []
  },
  {
   "cell_type": "code",
   "execution_count": null,
   "metadata": {},
   "outputs": [],
   "source": []
  },
  {
   "cell_type": "code",
   "execution_count": null,
   "metadata": {},
   "outputs": [],
   "source": []
  },
  {
   "cell_type": "code",
   "execution_count": null,
   "metadata": {},
   "outputs": [],
   "source": []
  },
  {
   "cell_type": "code",
   "execution_count": null,
   "metadata": {},
   "outputs": [],
   "source": []
  },
  {
   "cell_type": "code",
   "execution_count": null,
   "metadata": {},
   "outputs": [],
   "source": []
  },
  {
   "cell_type": "code",
   "execution_count": null,
   "metadata": {},
   "outputs": [],
   "source": []
  },
  {
   "cell_type": "code",
   "execution_count": null,
   "metadata": {},
   "outputs": [],
   "source": []
  },
  {
   "cell_type": "code",
   "execution_count": null,
   "metadata": {},
   "outputs": [],
   "source": []
  },
  {
   "cell_type": "code",
   "execution_count": null,
   "metadata": {},
   "outputs": [],
   "source": []
  },
  {
   "cell_type": "code",
   "execution_count": null,
   "metadata": {},
   "outputs": [],
   "source": []
  },
  {
   "cell_type": "code",
   "execution_count": null,
   "metadata": {},
   "outputs": [],
   "source": []
  },
  {
   "cell_type": "code",
   "execution_count": null,
   "metadata": {},
   "outputs": [],
   "source": []
  },
  {
   "cell_type": "code",
   "execution_count": null,
   "metadata": {},
   "outputs": [],
   "source": []
  },
  {
   "cell_type": "code",
   "execution_count": null,
   "metadata": {},
   "outputs": [],
   "source": []
  },
  {
   "cell_type": "code",
   "execution_count": null,
   "metadata": {},
   "outputs": [],
   "source": []
  },
  {
   "cell_type": "code",
   "execution_count": null,
   "metadata": {},
   "outputs": [],
   "source": []
  },
  {
   "cell_type": "code",
   "execution_count": null,
   "metadata": {},
   "outputs": [],
   "source": []
  },
  {
   "cell_type": "code",
   "execution_count": null,
   "metadata": {},
   "outputs": [],
   "source": []
  },
  {
   "cell_type": "code",
   "execution_count": null,
   "metadata": {},
   "outputs": [],
   "source": []
  },
  {
   "cell_type": "code",
   "execution_count": null,
   "metadata": {},
   "outputs": [],
   "source": []
  },
  {
   "cell_type": "code",
   "execution_count": null,
   "metadata": {},
   "outputs": [],
   "source": []
  }
 ],
 "metadata": {
  "kernelspec": {
   "display_name": "Python 3",
   "language": "python",
   "name": "python3"
  },
  "language_info": {
   "codemirror_mode": {
    "name": "ipython",
    "version": 3
   },
   "file_extension": ".py",
   "mimetype": "text/x-python",
   "name": "python",
   "nbconvert_exporter": "python",
   "pygments_lexer": "ipython3",
   "version": "3.6.5"
  }
 },
 "nbformat": 4,
 "nbformat_minor": 4
}
